{
 "cells": [
  {
   "cell_type": "code",
   "execution_count": 1,
   "id": "ca637c48-9ec7-4859-859d-286d82a33535",
   "metadata": {},
   "outputs": [
    {
     "name": "stdout",
     "output_type": "stream",
     "text": [
      "{'h': 1, 'e': 1, 'l': 3, 'o': 2, ' ': 1, 'w': 1, 'r': 1, 'd': 1}\n"
     ]
    }
   ],
   "source": [
    "# Character frequency in a string\n",
    "def char_frequency(text):\n",
    "    freq={}\n",
    "    for char in text.lower():\n",
    "        freq[char]=freq.get(char,0)+1\n",
    "    return freq\n",
    "print(char_frequency('Hello World'))        "
   ]
  },
  {
   "cell_type": "code",
   "execution_count": 2,
   "id": "5f8896f3-4e31-4207-95c2-1b29c79ed308",
   "metadata": {},
   "outputs": [
    {
     "name": "stdout",
     "output_type": "stream",
     "text": [
      "olleH dlroW\n"
     ]
    }
   ],
   "source": [
    "# Reverse word in sentence\n",
    "def reverse_words(sentence):\n",
    "    word=sentence.split()\n",
    "    reverse_words=[word[::-1]for word in word]\n",
    "    return \" \".join(reverse_words)\n",
    "print(reverse_words('Hello World'))"
   ]
  },
  {
   "cell_type": "code",
   "execution_count": 3,
   "id": "6b56c9eb-4003-48a9-ba0e-7490f8ff8380",
   "metadata": {},
   "outputs": [
    {
     "name": "stdout",
     "output_type": "stream",
     "text": [
      "[3, 4, 5, 6]\n"
     ]
    }
   ],
   "source": [
    "# Common elements of two lists\n",
    "list1=[1,2,3,4]\n",
    "list2=[3,4,5,6]\n",
    "print(list(set(list1) and set(list2)))"
   ]
  },
  {
   "cell_type": "code",
   "execution_count": 4,
   "id": "fe30ec04-7757-47e3-96f4-dc38ca463410",
   "metadata": {},
   "outputs": [
    {
     "name": "stdout",
     "output_type": "stream",
     "text": [
      "apple 2\n",
      "banana 3\n",
      "cherry 1\n",
      "Total: 6\n"
     ]
    }
   ],
   "source": [
    "# Iterate overa Dictionary\n",
    "fruits={'apple':2,'banana':3,'cherry':1}\n",
    "total_quantity=0\n",
    "for fruit,quantity in fruits.items():\n",
    "    print(fruit,quantity)\n",
    "    total_quantity += quantity\n",
    "print('Total:',total_quantity)    "
   ]
  },
  {
   "cell_type": "code",
   "execution_count": 5,
   "id": "708e456a-91f8-4092-af64-b65f39f2b29e",
   "metadata": {},
   "outputs": [
    {
     "name": "stdout",
     "output_type": "stream",
     "text": [
      "{2: 2, 3: 3}\n"
     ]
    }
   ],
   "source": [
    "# Remove Duplicates\n",
    "my_list=[1,2,3,4,2,5,3,6,3]\n",
    "from collections import Counter\n",
    "count= Counter(my_list)\n",
    "duplicates={item:freq for item,freq in count.items() if freq>1}\n",
    "print(duplicates)"
   ]
  },
  {
   "cell_type": "code",
   "execution_count": 6,
   "id": "fb868771-521e-4f3a-a6a5-7446f495eeff",
   "metadata": {},
   "outputs": [
    {
     "name": "stdout",
     "output_type": "stream",
     "text": [
      "    *\n",
      "   ***\n",
      "  *****\n",
      " *******\n",
      "*********\n"
     ]
    }
   ],
   "source": [
    "# Print Pyramid Pattern\n",
    "n=5\n",
    "for i in range(1,n +1):\n",
    "    print(\" \" * (n-i) + \"*\" * (2*i-1))"
   ]
  },
  {
   "cell_type": "code",
   "execution_count": 7,
   "id": "ed334b97-f14d-4bd1-9899-4a29627ecdc1",
   "metadata": {},
   "outputs": [
    {
     "name": "stdout",
     "output_type": "stream",
     "text": [
      "30\n"
     ]
    }
   ],
   "source": [
    "# Second largest element\n",
    "def second_largest(nums):\n",
    "    nums=list(set(nums))\n",
    "    nums.sort(reverse=True)\n",
    "    return nums[1] if len(nums) > 1 else None\n",
    "print(second_largest([10,20,40,30]))"
   ]
  },
  {
   "cell_type": "code",
   "execution_count": 8,
   "id": "0f873fbc-a514-4954-beb6-e7061d67698f",
   "metadata": {},
   "outputs": [
    {
     "name": "stdout",
     "output_type": "stream",
     "text": [
      "654321\n"
     ]
    }
   ],
   "source": [
    "# Number Reverse\n",
    "def reverse_number(n):\n",
    "    reverse_num=0\n",
    "    while n>0:\n",
    "        digit=n%10\n",
    "        reverse_num=reverse_num*10+digit\n",
    "        n=n//10\n",
    "    return reverse_num\n",
    "print(reverse_number(123456))"
   ]
  },
  {
   "cell_type": "code",
   "execution_count": 9,
   "id": "804d2879-8e30-4bd7-9159-b0bcfe85ccdb",
   "metadata": {},
   "outputs": [
    {
     "name": "stdout",
     "output_type": "stream",
     "text": [
      "[0, 1]\n"
     ]
    }
   ],
   "source": [
    "# Two sum Problem\n",
    "def two_sum(nums, target):\n",
    "    seen = {}\n",
    "    for i, num in enumerate(nums):\n",
    "        complement = target - num\n",
    "        if complement in seen:\n",
    "            return [seen[complement], i]\n",
    "        seen[num] = i\n",
    "    return []  # fixed indentation\n",
    "print(two_sum([2, 7, 11, 15], 9))"
   ]
  }
 ],
 "metadata": {
  "kernelspec": {
   "display_name": "Python 3 (ipykernel)",
   "language": "python",
   "name": "python3"
  },
  "language_info": {
   "codemirror_mode": {
    "name": "ipython",
    "version": 3
   },
   "file_extension": ".py",
   "mimetype": "text/x-python",
   "name": "python",
   "nbconvert_exporter": "python",
   "pygments_lexer": "ipython3",
   "version": "3.12.7"
  }
 },
 "nbformat": 4,
 "nbformat_minor": 5
}
