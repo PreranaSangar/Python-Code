{
 "cells": [
  {
   "cell_type": "markdown",
   "id": "256b6e96-c599-4a4d-97ba-f4c453e7625b",
   "metadata": {},
   "source": [
    "# List"
   ]
  },
  {
   "cell_type": "code",
   "execution_count": 1,
   "id": "aa6fb05a-4cc9-48bf-b8c8-122a74d6ba5f",
   "metadata": {},
   "outputs": [],
   "source": [
    "l=['Thor','Creta','Swift',2390990,757575]"
   ]
  },
  {
   "cell_type": "code",
   "execution_count": 2,
   "id": "ea9e2b1a-505e-4252-b04a-19aff41a1aee",
   "metadata": {},
   "outputs": [
    {
     "data": {
      "text/plain": [
       "list"
      ]
     },
     "execution_count": 2,
     "metadata": {},
     "output_type": "execute_result"
    }
   ],
   "source": [
    "type(l)"
   ]
  },
  {
   "cell_type": "code",
   "execution_count": 3,
   "id": "4a7ffd57-893c-481f-8a03-b3889fcc7edc",
   "metadata": {},
   "outputs": [],
   "source": [
    "l.append('94787')"
   ]
  },
  {
   "cell_type": "code",
   "execution_count": 4,
   "id": "be39086a-136a-4462-9973-8546e6820b52",
   "metadata": {},
   "outputs": [
    {
     "data": {
      "text/plain": [
       "['Thor', 'Creta', 'Swift', 2390990, 757575, '94787']"
      ]
     },
     "execution_count": 4,
     "metadata": {},
     "output_type": "execute_result"
    }
   ],
   "source": [
    "l"
   ]
  },
  {
   "cell_type": "code",
   "execution_count": 5,
   "id": "9cf3d3be-6385-4e0c-81e6-ceb4d14b513c",
   "metadata": {},
   "outputs": [],
   "source": [
    "l.remove('Swift')"
   ]
  },
  {
   "cell_type": "code",
   "execution_count": 6,
   "id": "d883ef86-3480-4703-8755-55b0852a1839",
   "metadata": {},
   "outputs": [
    {
     "data": {
      "text/plain": [
       "['Thor', 'Creta', 2390990, 757575, '94787']"
      ]
     },
     "execution_count": 6,
     "metadata": {},
     "output_type": "execute_result"
    }
   ],
   "source": [
    "l"
   ]
  },
  {
   "cell_type": "code",
   "execution_count": 7,
   "id": "88bd720c-7693-41ca-94c2-e21eccd635d0",
   "metadata": {},
   "outputs": [
    {
     "data": {
      "text/plain": [
       "'94787'"
      ]
     },
     "execution_count": 7,
     "metadata": {},
     "output_type": "execute_result"
    }
   ],
   "source": [
    "l[4]"
   ]
  },
  {
   "cell_type": "code",
   "execution_count": 8,
   "id": "eafb1b3f-a83d-4d13-b097-de5003580cfa",
   "metadata": {},
   "outputs": [],
   "source": [
    "l[4]='Scorpio'"
   ]
  },
  {
   "cell_type": "code",
   "execution_count": 9,
   "id": "ac390a73-084b-46b4-abb4-a01dbf4a8a23",
   "metadata": {},
   "outputs": [
    {
     "data": {
      "text/plain": [
       "['Thor', 'Creta', 2390990, 757575, 'Scorpio']"
      ]
     },
     "execution_count": 9,
     "metadata": {},
     "output_type": "execute_result"
    }
   ],
   "source": [
    "l"
   ]
  },
  {
   "cell_type": "code",
   "execution_count": 10,
   "id": "b9d33d75-b672-424f-9378-ad9c5924755f",
   "metadata": {},
   "outputs": [
    {
     "data": {
      "text/plain": [
       "['Creta', 2390990]"
      ]
     },
     "execution_count": 10,
     "metadata": {},
     "output_type": "execute_result"
    }
   ],
   "source": [
    "l[1:3]"
   ]
  },
  {
   "cell_type": "markdown",
   "id": "225183d8-4f88-4d39-b141-7ea87818a240",
   "metadata": {},
   "source": [
    "# Tuple"
   ]
  },
  {
   "cell_type": "code",
   "execution_count": 11,
   "id": "fea25857-ff53-42ac-b8c6-b79f4a9ae5f1",
   "metadata": {},
   "outputs": [],
   "source": [
    "t=('Thor','Creta','Swift',2390990,757575,'Creta')"
   ]
  },
  {
   "cell_type": "code",
   "execution_count": 12,
   "id": "46d8ff67-404b-468b-a890-584cf9be2086",
   "metadata": {},
   "outputs": [
    {
     "data": {
      "text/plain": [
       "tuple"
      ]
     },
     "execution_count": 12,
     "metadata": {},
     "output_type": "execute_result"
    }
   ],
   "source": [
    "type(t)"
   ]
  },
  {
   "cell_type": "code",
   "execution_count": 13,
   "id": "946284ae-f4d3-4d7f-a3ec-0c2a27385c70",
   "metadata": {},
   "outputs": [
    {
     "data": {
      "text/plain": [
       "'Swift'"
      ]
     },
     "execution_count": 13,
     "metadata": {},
     "output_type": "execute_result"
    }
   ],
   "source": [
    "t[2]"
   ]
  },
  {
   "cell_type": "code",
   "execution_count": 14,
   "id": "117206d1-48b2-46dc-aa74-b46dfb4a82ee",
   "metadata": {},
   "outputs": [
    {
     "data": {
      "text/plain": [
       "('Creta', 'Swift', 2390990, 757575, 'Creta')"
      ]
     },
     "execution_count": 14,
     "metadata": {},
     "output_type": "execute_result"
    }
   ],
   "source": [
    "t[1:6]"
   ]
  },
  {
   "cell_type": "markdown",
   "id": "30a693fd-f5d0-432c-9159-d1e8a2317012",
   "metadata": {},
   "source": [
    "# Set"
   ]
  },
  {
   "cell_type": "code",
   "execution_count": 15,
   "id": "629ebee6-2a3d-4ddb-8694-a6ab7ec7f4be",
   "metadata": {},
   "outputs": [],
   "source": [
    "s={'Thor','Creta','Swift',2390990,757575}"
   ]
  },
  {
   "cell_type": "code",
   "execution_count": 16,
   "id": "da2135db-f162-43e0-8dcd-ac3ae0f7c06a",
   "metadata": {},
   "outputs": [
    {
     "data": {
      "text/plain": [
       "set"
      ]
     },
     "execution_count": 16,
     "metadata": {},
     "output_type": "execute_result"
    }
   ],
   "source": [
    "type(s)"
   ]
  },
  {
   "cell_type": "code",
   "execution_count": 17,
   "id": "61f3e5a4-b6ee-447d-b350-e3aec9727fd6",
   "metadata": {},
   "outputs": [],
   "source": [
    "s.add('Ertiga')"
   ]
  },
  {
   "cell_type": "code",
   "execution_count": 18,
   "id": "6116bb5e-3bb7-476b-9305-5032f4cb2d0c",
   "metadata": {},
   "outputs": [
    {
     "data": {
      "text/plain": [
       "{2390990, 757575, 'Creta', 'Ertiga', 'Swift', 'Thor'}"
      ]
     },
     "execution_count": 18,
     "metadata": {},
     "output_type": "execute_result"
    }
   ],
   "source": [
    "s"
   ]
  },
  {
   "cell_type": "code",
   "execution_count": 19,
   "id": "a5473e6e-7a2c-40a4-b46c-404f4fd200d5",
   "metadata": {},
   "outputs": [],
   "source": [
    "s.remove(2390990)"
   ]
  },
  {
   "cell_type": "code",
   "execution_count": 20,
   "id": "8dbc2bbe-4e15-43bc-98c4-5361cb0b14af",
   "metadata": {},
   "outputs": [
    {
     "data": {
      "text/plain": [
       "{757575, 'Creta', 'Ertiga', 'Swift', 'Thor'}"
      ]
     },
     "execution_count": 20,
     "metadata": {},
     "output_type": "execute_result"
    }
   ],
   "source": [
    "s"
   ]
  },
  {
   "cell_type": "markdown",
   "id": "4193cae7-d03c-454a-8d84-b1ff8897130a",
   "metadata": {},
   "source": [
    "# Dictionary"
   ]
  },
  {
   "cell_type": "code",
   "execution_count": 21,
   "id": "35940612-89b3-4a42-b7e4-ca7308df7148",
   "metadata": {},
   "outputs": [],
   "source": [
    "d={'Thor':896767,'Ertiga':429866,'Creta':345689,'Swift':65387,'Kia':987345}"
   ]
  },
  {
   "cell_type": "code",
   "execution_count": 22,
   "id": "8f7f8dcf-4a13-414e-8c60-fe313a943ad7",
   "metadata": {},
   "outputs": [
    {
     "data": {
      "text/plain": [
       "dict"
      ]
     },
     "execution_count": 22,
     "metadata": {},
     "output_type": "execute_result"
    }
   ],
   "source": [
    "type(d)"
   ]
  },
  {
   "cell_type": "code",
   "execution_count": 23,
   "id": "7c1e9520-3795-4087-8d69-6b48231bd8a7",
   "metadata": {},
   "outputs": [],
   "source": [
    "d.update({'Scorpio':45567})"
   ]
  },
  {
   "cell_type": "code",
   "execution_count": 24,
   "id": "2423dec3-02f8-4255-b0a6-2efb79af0233",
   "metadata": {},
   "outputs": [
    {
     "data": {
      "text/plain": [
       "{'Thor': 896767,\n",
       " 'Ertiga': 429866,\n",
       " 'Creta': 345689,\n",
       " 'Swift': 65387,\n",
       " 'Kia': 987345,\n",
       " 'Scorpio': 45567}"
      ]
     },
     "execution_count": 24,
     "metadata": {},
     "output_type": "execute_result"
    }
   ],
   "source": [
    "d"
   ]
  },
  {
   "cell_type": "code",
   "execution_count": 25,
   "id": "134465ea-df87-4b87-82f2-2743b2476815",
   "metadata": {},
   "outputs": [
    {
     "data": {
      "text/plain": [
       "429866"
      ]
     },
     "execution_count": 25,
     "metadata": {},
     "output_type": "execute_result"
    }
   ],
   "source": [
    "d.pop('Ertiga')"
   ]
  },
  {
   "cell_type": "code",
   "execution_count": 26,
   "id": "a3b9146e-9293-4878-8e0c-c034f456f7a3",
   "metadata": {},
   "outputs": [
    {
     "data": {
      "text/plain": [
       "{'Thor': 896767,\n",
       " 'Creta': 345689,\n",
       " 'Swift': 65387,\n",
       " 'Kia': 987345,\n",
       " 'Scorpio': 45567}"
      ]
     },
     "execution_count": 26,
     "metadata": {},
     "output_type": "execute_result"
    }
   ],
   "source": [
    "d"
   ]
  }
 ],
 "metadata": {
  "kernelspec": {
   "display_name": "Python 3 (ipykernel)",
   "language": "python",
   "name": "python3"
  },
  "language_info": {
   "codemirror_mode": {
    "name": "ipython",
    "version": 3
   },
   "file_extension": ".py",
   "mimetype": "text/x-python",
   "name": "python",
   "nbconvert_exporter": "python",
   "pygments_lexer": "ipython3",
   "version": "3.12.7"
  },
  "panel-cell-order": [
   "370d7001-bf70-44d0-b84e-5262f969a721",
   "e76d3433-daeb-4458-bf04-5bf0c8b1eb98",
   "172d29cd-4162-4bed-8867-93dfe2c932e9",
   "06abd28e-7058-4dbe-bbe1-836ec763dc18",
   "42b3273e-3a6c-4041-b181-a870852076a7",
   "6fd6c5f7-ebc9-4a97-8790-fb23ed679c23",
   "7ac1eb51-4ea2-4fd3-8eeb-f25ba45bf589"
  ]
 },
 "nbformat": 4,
 "nbformat_minor": 5
}
