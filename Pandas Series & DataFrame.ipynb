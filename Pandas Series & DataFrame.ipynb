{
 "cells": [
  {
   "cell_type": "markdown",
   "id": "6eba3af6-f0a0-43b5-a642-08e7ba66d625",
   "metadata": {},
   "source": [
    "# Series"
   ]
  },
  {
   "cell_type": "code",
   "execution_count": 1,
   "id": "bbeab0dd-5d53-49b5-af23-633281285044",
   "metadata": {},
   "outputs": [],
   "source": [
    "import pandas as pd"
   ]
  },
  {
   "cell_type": "code",
   "execution_count": 2,
   "id": "378afad9-001d-4cf2-ae15-926556e2ce08",
   "metadata": {},
   "outputs": [
    {
     "name": "stdout",
     "output_type": "stream",
     "text": [
      "Series from list:\n",
      " 0    10\n",
      "1    20\n",
      "2    30\n",
      "3    40\n",
      "4    50\n",
      "dtype: int64\n"
     ]
    }
   ],
   "source": [
    "# Creating a Series from a list\n",
    "s1 = pd.Series([10, 20, 30, 40, 50])\n",
    "print(\"Series from list:\\n\", s1)"
   ]
  },
  {
   "cell_type": "code",
   "execution_count": 3,
   "id": "4097143a-de20-48d4-8c27-76ddf66cc785",
   "metadata": {},
   "outputs": [
    {
     "name": "stdout",
     "output_type": "stream",
     "text": [
      "\n",
      "Series with custom index:\n",
      " a    10\n",
      "b    20\n",
      "c    30\n",
      "d    40\n",
      "e    50\n",
      "dtype: int64\n"
     ]
    }
   ],
   "source": [
    "# Creating a Series with custom index\n",
    "s2 = pd.Series([10, 20, 30, 40, 50], index=['a', 'b', 'c', 'd', 'e'])\n",
    "print(\"\\nSeries with custom index:\\n\", s2)\n",
    "\n"
   ]
  },
  {
   "cell_type": "code",
   "execution_count": 4,
   "id": "9b59daad-5434-491b-8f1f-8df6a241871d",
   "metadata": {},
   "outputs": [
    {
     "name": "stdout",
     "output_type": "stream",
     "text": [
      "\n",
      "Series from dictionary:\n",
      " a    100\n",
      "b    200\n",
      "c    300\n",
      "dtype: int64\n"
     ]
    }
   ],
   "source": [
    "# Creating Series from dictionary\n",
    "data = {'a': 100, 'b': 200, 'c': 300}\n",
    "s3 = pd.Series(data)\n",
    "print(\"\\nSeries from dictionary:\\n\", s3)"
   ]
  },
  {
   "cell_type": "code",
   "execution_count": 5,
   "id": "c6a129d0-c10d-4196-be20-048fcfae07e8",
   "metadata": {},
   "outputs": [
    {
     "name": "stdout",
     "output_type": "stream",
     "text": [
      "\n",
      "Element at index 2: 30\n",
      "Element at label 'c': 30\n"
     ]
    }
   ],
   "source": [
    "# Accessing elements\n",
    "print(\"\\nElement at index 2:\", s1[2])\n",
    "print(\"Element at label 'c':\", s2['c'])"
   ]
  },
  {
   "cell_type": "code",
   "execution_count": 6,
   "id": "c16450d4-6377-42b4-a47e-c4dab7aaa67e",
   "metadata": {},
   "outputs": [
    {
     "name": "stdout",
     "output_type": "stream",
     "text": [
      "\n",
      "Series addition:\n",
      " 0     20\n",
      "1     40\n",
      "2     60\n",
      "3     80\n",
      "4    100\n",
      "dtype: int64\n",
      "\n",
      "Series multiplication:\n",
      " 0     20\n",
      "1     40\n",
      "2     60\n",
      "3     80\n",
      "4    100\n",
      "dtype: int64\n"
     ]
    }
   ],
   "source": [
    "# Series operations\n",
    "print(\"\\nSeries addition:\\n\", s1 + s1)\n",
    "print(\"\\nSeries multiplication:\\n\", s1 * 2)"
   ]
  },
  {
   "cell_type": "code",
   "execution_count": 7,
   "id": "2fb54871-5248-4633-a0a0-5483bb8d71f3",
   "metadata": {},
   "outputs": [
    {
     "name": "stdout",
     "output_type": "stream",
     "text": [
      "\n",
      "Values greater than 25:\n",
      " 2    30\n",
      "3    40\n",
      "4    50\n",
      "dtype: int64\n"
     ]
    }
   ],
   "source": [
    "# Boolean indexing\n",
    "print(\"\\nValues greater than 25:\\n\", s1[s1 > 25])"
   ]
  },
  {
   "cell_type": "markdown",
   "id": "08a777cf-66d5-4e15-b338-c296aadff494",
   "metadata": {},
   "source": [
    "# DataFrame"
   ]
  },
  {
   "cell_type": "code",
   "execution_count": 8,
   "id": "1c90d575-37c4-4333-aa57-7cdd227b99ad",
   "metadata": {},
   "outputs": [
    {
     "name": "stdout",
     "output_type": "stream",
     "text": [
      "DataFrame:\n",
      "       Name  Age  Salary\n",
      "0    Alice   24   50000\n",
      "1      Bob   27   60000\n",
      "2  Charlie   22   55000\n",
      "3    David   32   65000\n"
     ]
    }
   ],
   "source": [
    "# Creating DataFrame from dictionary\n",
    "data = {\n",
    "    'Name': ['Alice', 'Bob', 'Charlie', 'David'],\n",
    "    'Age': [24, 27, 22, 32],\n",
    "    'Salary': [50000, 60000, 55000, 65000]\n",
    "}\n",
    "df = pd.DataFrame(data)\n",
    "print(\"DataFrame:\\n\", df)"
   ]
  },
  {
   "cell_type": "code",
   "execution_count": 9,
   "id": "69bd4fd9-c508-445a-8aac-0b92f29d4f8b",
   "metadata": {},
   "outputs": [
    {
     "name": "stdout",
     "output_type": "stream",
     "text": [
      "\n",
      "DataFrame from list of lists:\n",
      "    ID Category\n",
      "0   1        A\n",
      "1   2        B\n",
      "2   3        C\n"
     ]
    }
   ],
   "source": [
    "# Creating DataFrame from list of lists\n",
    "df2 = pd.DataFrame(\n",
    "    [[1, 'A'], [2, 'B'], [3, 'C']],\n",
    "    columns=['ID', 'Category']\n",
    ")\n",
    "print(\"\\nDataFrame from list of lists:\\n\", df2)"
   ]
  },
  {
   "cell_type": "code",
   "execution_count": 10,
   "id": "2e89ffd3-f503-4e98-83bd-221842ae347c",
   "metadata": {},
   "outputs": [
    {
     "name": "stdout",
     "output_type": "stream",
     "text": [
      "\n",
      "First two rows:\n",
      "     Name  Age  Salary\n",
      "0  Alice   24   50000\n",
      "1    Bob   27   60000\n",
      "\n",
      "Summary statistics:\n",
      "              Age        Salary\n",
      "count   4.000000      4.000000\n",
      "mean   26.250000  57500.000000\n",
      "std     4.349329   6454.972244\n",
      "min    22.000000  50000.000000\n",
      "25%    23.500000  53750.000000\n",
      "50%    25.500000  57500.000000\n",
      "75%    28.250000  61250.000000\n",
      "max    32.000000  65000.000000\n",
      "\n",
      "Info:\n",
      "\n",
      "<class 'pandas.core.frame.DataFrame'>\n",
      "RangeIndex: 4 entries, 0 to 3\n",
      "Data columns (total 3 columns):\n",
      " #   Column  Non-Null Count  Dtype \n",
      "---  ------  --------------  ----- \n",
      " 0   Name    4 non-null      object\n",
      " 1   Age     4 non-null      int64 \n",
      " 2   Salary  4 non-null      int64 \n",
      "dtypes: int64(2), object(1)\n",
      "memory usage: 228.0+ bytes\n",
      "None\n"
     ]
    }
   ],
   "source": [
    "# Viewing DataFrame\n",
    "print(\"\\nFirst two rows:\\n\", df.head(2))\n",
    "print(\"\\nSummary statistics:\\n\", df.describe())\n",
    "print(\"\\nInfo:\\n\")\n",
    "print(df.info())"
   ]
  },
  {
   "cell_type": "code",
   "execution_count": 11,
   "id": "169d87b2-ca8e-46d8-b096-401be24f9a05",
   "metadata": {},
   "outputs": [
    {
     "name": "stdout",
     "output_type": "stream",
     "text": [
      "\n",
      "Access Age column:\n",
      " 0    24\n",
      "1    27\n",
      "2    22\n",
      "3    32\n",
      "Name: Age, dtype: int64\n"
     ]
    }
   ],
   "source": [
    "# Accessing columns\n",
    "print(\"\\nAccess Age column:\\n\", df['Age'])"
   ]
  },
  {
   "cell_type": "code",
   "execution_count": 12,
   "id": "7f455bb1-a473-4d38-9937-3d5be6bfdad1",
   "metadata": {},
   "outputs": [
    {
     "name": "stdout",
     "output_type": "stream",
     "text": [
      "\n",
      "Access row by loc:\n",
      " Name      Charlie\n",
      "Age            22\n",
      "Salary      55000\n",
      "Name: 2, dtype: object\n",
      "\n",
      "Access row by iloc:\n",
      " Name        Bob\n",
      "Age          27\n",
      "Salary    60000\n",
      "Name: 1, dtype: object\n"
     ]
    }
   ],
   "source": [
    "# Accessing rows by index\n",
    "print(\"\\nAccess row by loc:\\n\", df.loc[2])   # by label\n",
    "print(\"\\nAccess row by iloc:\\n\", df.iloc[1]) # by index"
   ]
  },
  {
   "cell_type": "code",
   "execution_count": 13,
   "id": "4f359364-ab1f-4ef6-8dd2-11595fc592ed",
   "metadata": {},
   "outputs": [
    {
     "name": "stdout",
     "output_type": "stream",
     "text": [
      "\n",
      "People with Age > 25:\n",
      "     Name  Age  Salary\n",
      "1    Bob   27   60000\n",
      "3  David   32   65000\n"
     ]
    }
   ],
   "source": [
    "# Filtering\n",
    "print(\"\\nPeople with Age > 25:\\n\", df[df['Age'] > 25])"
   ]
  },
  {
   "cell_type": "code",
   "execution_count": 14,
   "id": "425de316-e6f8-4a5c-975d-f6caed7c6881",
   "metadata": {},
   "outputs": [
    {
     "name": "stdout",
     "output_type": "stream",
     "text": [
      "\n",
      "DataFrame with Bonus column:\n",
      "       Name  Age  Salary   Bonus\n",
      "0    Alice   24   50000  5000.0\n",
      "1      Bob   27   60000  6000.0\n",
      "2  Charlie   22   55000  5500.0\n",
      "3    David   32   65000  6500.0\n"
     ]
    }
   ],
   "source": [
    "# Adding a new column\n",
    "df['Bonus'] = df['Salary'] * 0.1\n",
    "print(\"\\nDataFrame with Bonus column:\\n\", df)"
   ]
  },
  {
   "cell_type": "code",
   "execution_count": 15,
   "id": "f89d816a-b2b7-4f04-9c77-e9acc2ece3a6",
   "metadata": {},
   "outputs": [
    {
     "name": "stdout",
     "output_type": "stream",
     "text": [
      "\n",
      "After dropping Bonus column:\n",
      "       Name  Age  Salary\n",
      "0    Alice   24   50000\n",
      "1      Bob   27   60000\n",
      "2  Charlie   22   55000\n",
      "3    David   32   65000\n"
     ]
    }
   ],
   "source": [
    "# Dropping a column\n",
    "df = df.drop('Bonus', axis=1)\n",
    "print(\"\\nAfter dropping Bonus column:\\n\", df)"
   ]
  },
  {
   "cell_type": "code",
   "execution_count": 16,
   "id": "6e45dcf5-aba0-4635-928a-a3e1751dfcd2",
   "metadata": {},
   "outputs": [
    {
     "name": "stdout",
     "output_type": "stream",
     "text": [
      "\n",
      "Sorted by Salary:\n",
      "       Name  Age  Salary\n",
      "3    David   32   65000\n",
      "1      Bob   27   60000\n",
      "2  Charlie   22   55000\n",
      "0    Alice   24   50000\n"
     ]
    }
   ],
   "source": [
    "# Sorting\n",
    "print(\"\\nSorted by Salary:\\n\", df.sort_values('Salary', ascending=False))"
   ]
  },
  {
   "cell_type": "code",
   "execution_count": 17,
   "id": "a4725534-7611-43b0-8ae3-d01c8a472af6",
   "metadata": {},
   "outputs": [
    {
     "name": "stdout",
     "output_type": "stream",
     "text": [
      "\n",
      "Group by Age:\n",
      " Age\n",
      "22    55000.0\n",
      "24    50000.0\n",
      "27    60000.0\n",
      "32    65000.0\n",
      "Name: Salary, dtype: float64\n"
     ]
    }
   ],
   "source": [
    "# Grouping\n",
    "print(\"\\nGroup by Age:\\n\", df.groupby('Age')['Salary'].mean())"
   ]
  },
  {
   "cell_type": "code",
   "execution_count": 18,
   "id": "669fc6b4-095a-4769-980c-7f956ed8addd",
   "metadata": {},
   "outputs": [
    {
     "name": "stdout",
     "output_type": "stream",
     "text": [
      "\n",
      "DataFrame with NaN values:\n",
      "       Name   Age   Salary\n",
      "0    Alice  24.0  50000.0\n",
      "1      Bob   NaN  60000.0\n",
      "2  Charlie  22.0      NaN\n",
      "3    David  32.0  65000.0\n"
     ]
    }
   ],
   "source": [
    "# Handling Missing Values\n",
    "data2 = {\n",
    "    'Name': ['Alice', 'Bob', 'Charlie', 'David'],\n",
    "    'Age': [24, None, 22, 32],\n",
    "    'Salary': [50000, 60000, None, 65000]\n",
    "}\n",
    "df2 = pd.DataFrame(data2)\n",
    "print(\"\\nDataFrame with NaN values:\\n\", df2)"
   ]
  },
  {
   "cell_type": "code",
   "execution_count": 19,
   "id": "3be117fe-4707-4c49-89f5-6c5ecd555d08",
   "metadata": {},
   "outputs": [
    {
     "name": "stdout",
     "output_type": "stream",
     "text": [
      "\n",
      "Drop rows with NaN:\n",
      "     Name   Age   Salary\n",
      "0  Alice  24.0  50000.0\n",
      "3  David  32.0  65000.0\n"
     ]
    }
   ],
   "source": [
    "print(\"\\nDrop rows with NaN:\\n\", df2.dropna())"
   ]
  },
  {
   "cell_type": "code",
   "execution_count": 20,
   "id": "7697cd52-1784-48a2-a058-167ce6167d04",
   "metadata": {},
   "outputs": [
    {
     "name": "stdout",
     "output_type": "stream",
     "text": [
      "\n",
      "Fill NaN with default value:\n",
      "       Name   Age   Salary\n",
      "0    Alice  24.0  50000.0\n",
      "1      Bob   0.0  60000.0\n",
      "2  Charlie  22.0      0.0\n",
      "3    David  32.0  65000.0\n"
     ]
    }
   ],
   "source": [
    "print(\"\\nFill NaN with default value:\\n\", df2.fillna(0))"
   ]
  },
  {
   "cell_type": "code",
   "execution_count": 21,
   "id": "034196b1-0ba0-490d-8578-0fc915625ace",
   "metadata": {},
   "outputs": [
    {
     "name": "stdout",
     "output_type": "stream",
     "text": [
      "\n",
      "Merged DataFrame:\n",
      "    ID     Name  Score\n",
      "0   1    Alice     85\n",
      "1   2      Bob     90\n",
      "2   3  Charlie     95\n"
     ]
    }
   ],
   "source": [
    "# Merging two DataFrames\n",
    "df_a = pd.DataFrame({'ID': [1,2,3], 'Name': ['Alice', 'Bob', 'Charlie']})\n",
    "df_b = pd.DataFrame({'ID': [1,2,3], 'Score': [85, 90, 95]})\n",
    "merged = pd.merge(df_a, df_b, on='ID')\n",
    "print(\"\\nMerged DataFrame:\\n\", merged)"
   ]
  },
  {
   "cell_type": "code",
   "execution_count": 22,
   "id": "135e77c5-3e1e-4608-8fc4-a9b9a209ffd5",
   "metadata": {},
   "outputs": [
    {
     "name": "stdout",
     "output_type": "stream",
     "text": [
      "\n",
      "Concatenated DataFrame:\n",
      "    A  B\n",
      "0  1  3\n",
      "1  2  4\n",
      "0  5  7\n",
      "1  6  8\n"
     ]
    }
   ],
   "source": [
    "# Concatenation\n",
    "df_c1 = pd.DataFrame({'A': [1, 2], 'B': [3, 4]})\n",
    "df_c2 = pd.DataFrame({'A': [5, 6], 'B': [7, 8]})\n",
    "concat = pd.concat([df_c1, df_c2])\n",
    "print(\"\\nConcatenated DataFrame:\\n\", concat)"
   ]
  },
  {
   "cell_type": "code",
   "execution_count": 23,
   "id": "07da8814-1518-4945-931a-5c444b15efba",
   "metadata": {},
   "outputs": [
    {
     "name": "stdout",
     "output_type": "stream",
     "text": [
      "\n",
      "Pivot Table:\n",
      "              Salary\n",
      "Department         \n",
      "HR          51000.0\n",
      "IT          62500.0\n"
     ]
    }
   ],
   "source": [
    "# Pivot Table\n",
    "df_pivot = pd.DataFrame({\n",
    "    'Department': ['HR', 'HR', 'IT', 'IT'],\n",
    "    'Employee': ['Alice', 'Bob', 'Charlie', 'David'],\n",
    "    'Salary': [50000, 52000, 60000, 65000]\n",
    "})\n",
    "pivot = df_pivot.pivot_table(values='Salary', index='Department', aggfunc='mean')\n",
    "print(\"\\nPivot Table:\\n\", pivot)"
   ]
  }
 ],
 "metadata": {
  "kernelspec": {
   "display_name": "Python 3 (ipykernel)",
   "language": "python",
   "name": "python3"
  },
  "language_info": {
   "codemirror_mode": {
    "name": "ipython",
    "version": 3
   },
   "file_extension": ".py",
   "mimetype": "text/x-python",
   "name": "python",
   "nbconvert_exporter": "python",
   "pygments_lexer": "ipython3",
   "version": "3.12.7"
  }
 },
 "nbformat": 4,
 "nbformat_minor": 5
}
