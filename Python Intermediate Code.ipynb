{
 "cells": [
  {
   "cell_type": "code",
   "execution_count": 1,
   "id": "418c73c1-f54c-44ee-a17b-9bd4cb2416f1",
   "metadata": {},
   "outputs": [
    {
     "name": "stdout",
     "output_type": "stream",
     "text": [
      "[2, 4, 6]\n"
     ]
    }
   ],
   "source": [
    "# Filter even numbers using filter()\n",
    "nums=[1,2,3,4,5,6]\n",
    "evens=list(filter(lambda x: x%2==0,nums))\n",
    "print(evens)"
   ]
  },
  {
   "cell_type": "code",
   "execution_count": 2,
   "id": "047d3d2f-9f04-473c-8633-7e0407d78e80",
   "metadata": {},
   "outputs": [
    {
     "name": "stdout",
     "output_type": "stream",
     "text": [
      "[1, 2, 3, 4, 5]\n"
     ]
    }
   ],
   "source": [
    "# Remove duplicates from a list\n",
    "duplist=[1,2,3,4,4,5,5]\n",
    "unique_list=list(set(duplist))\n",
    "print(unique_list)"
   ]
  },
  {
   "cell_type": "code",
   "execution_count": 3,
   "id": "90f7a1b9-ae0a-4f3a-aeed-600a14fe878f",
   "metadata": {},
   "outputs": [
    {
     "name": "stdout",
     "output_type": "stream",
     "text": [
      "5\n"
     ]
    }
   ],
   "source": [
    "# Function to count vowels in a given string\n",
    "def count_vowels(s):\n",
    "    return sum(1 for char in s.lower() if char in 'aeiou')\n",
    "print(count_vowels('Prerana Sangar'))"
   ]
  },
  {
   "cell_type": "code",
   "execution_count": 4,
   "id": "6c11d1a8-2228-4fdb-8ff1-7c90e46e84c0",
   "metadata": {},
   "outputs": [
    {
     "name": "stdout",
     "output_type": "stream",
     "text": [
      "True\n"
     ]
    }
   ],
   "source": [
    "# To check sting is Anagram or not\n",
    "def check_anagram(s1,s2):\n",
    "    return sorted(s1.lower())==sorted(s2.lower())\n",
    "print(check_anagram('listen','silent'))    "
   ]
  },
  {
   "cell_type": "code",
   "execution_count": 5,
   "id": "df0365f7-b28e-4678-a9c5-91b6e7b7d06d",
   "metadata": {},
   "outputs": [
    {
     "name": "stdout",
     "output_type": "stream",
     "text": [
      "3\n"
     ]
    }
   ],
   "source": [
    "# Finding missing number\n",
    "def find_mising(nums,n):\n",
    "    return n*(n+1)//2-sum(nums)\n",
    "print(find_mising([1,2,4,5],5))"
   ]
  }
 ],
 "metadata": {
  "kernelspec": {
   "display_name": "Python 3 (ipykernel)",
   "language": "python",
   "name": "python3"
  },
  "language_info": {
   "codemirror_mode": {
    "name": "ipython",
    "version": 3
   },
   "file_extension": ".py",
   "mimetype": "text/x-python",
   "name": "python",
   "nbconvert_exporter": "python",
   "pygments_lexer": "ipython3",
   "version": "3.12.7"
  }
 },
 "nbformat": 4,
 "nbformat_minor": 5
}
