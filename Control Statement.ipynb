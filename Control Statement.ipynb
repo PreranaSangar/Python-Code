{
 "cells": [
  {
   "cell_type": "code",
   "execution_count": 1,
   "id": "b78bff5b-dc96-4589-aae3-0c8c06044ac4",
   "metadata": {},
   "outputs": [],
   "source": [
    "# accept the city nmae from user and print the mounmnment"
   ]
  },
  {
   "cell_type": "code",
   "execution_count": 2,
   "id": "c5f47a7c-bc88-471b-9563-4bce17429d08",
   "metadata": {},
   "outputs": [
    {
     "name": "stdin",
     "output_type": "stream",
     "text": [
      "Enter a city either agra,delhi,mumbai agra\n"
     ]
    },
    {
     "name": "stdout",
     "output_type": "stream",
     "text": [
      "agra\n",
      "Taj Mahal\n"
     ]
    }
   ],
   "source": [
    "city=input(\"Enter a city either agra,delhi,mumbai\").lower()\n",
    "print(city)\n",
    "if city=='delhi':\n",
    "    print('Red Fort')\n",
    "elif city=='agra':\n",
    "    print('Taj Mahal')\n",
    "elif city=='mumbai':\n",
    "    print('Getway of India')\n",
    "else:\n",
    "    print(\"wrong choice\")\n",
    "    "
   ]
  },
  {
   "cell_type": "code",
   "execution_count": 3,
   "id": "dc49015f-43dd-438b-bd33-a729b1049275",
   "metadata": {},
   "outputs": [],
   "source": [
    "# nested if"
   ]
  },
  {
   "cell_type": "code",
   "execution_count": 4,
   "id": "fcb33d08-be56-4608-92b1-059ed0a69dac",
   "metadata": {},
   "outputs": [
    {
     "name": "stdin",
     "output_type": "stream",
     "text": [
      "Enter a Value 700\n"
     ]
    },
    {
     "name": "stdout",
     "output_type": "stream",
     "text": [
      "Enter value is greater than 500\n",
      "check for the number is 600,650,700\n",
      "Number is 700\n"
     ]
    }
   ],
   "source": [
    "num=int(input(\"Enter a Value\"))\n",
    "if num>500:\n",
    "    print('Enter value is greater than 500')\n",
    "    print('check for the number is 600,650,700')\n",
    "    if num==600:\n",
    "        print('Number is 600')\n",
    "    elif num==650:\n",
    "        print('Number is 650')\n",
    "    elif num==700:\n",
    "        print('Number is 700') \n",
    "    else: \n",
    "        print('Unknow')\n",
    "else:\n",
    "    print('Entered value is not greater than 500')\n"
   ]
  },
  {
   "cell_type": "code",
   "execution_count": 5,
   "id": "b874d296-e664-4142-b975-560564ef02e8",
   "metadata": {},
   "outputs": [],
   "source": [
    "# WAP user enter a number identify whether it is positive,negative,zero"
   ]
  },
  {
   "cell_type": "code",
   "execution_count": 6,
   "id": "38526f94-57cd-49fb-bc8f-d422df865ffb",
   "metadata": {},
   "outputs": [
    {
     "name": "stdin",
     "output_type": "stream",
     "text": [
      "Enter a interger 8\n"
     ]
    },
    {
     "name": "stdout",
     "output_type": "stream",
     "text": [
      "8 is positive number\n"
     ]
    }
   ],
   "source": [
    "a=int(input('Enter a interger'))\n",
    "if a>0:\n",
    "    print(a,'is positive number')\n",
    "elif a<0:\n",
    "    print(a,'is negative number')\n",
    "else:\n",
    "    print('you have enterd',a,'value')    "
   ]
  },
  {
   "cell_type": "markdown",
   "id": "8041636b-123f-4753-982b-d4fa46c15113",
   "metadata": {},
   "source": [
    "# Control Statements"
   ]
  },
  {
   "cell_type": "code",
   "execution_count": 7,
   "id": "a7c33b19-6458-44d6-ad97-8ecd9debb6c6",
   "metadata": {},
   "outputs": [
    {
     "name": "stdout",
     "output_type": "stream",
     "text": [
      "Hello\n",
      "Hello\n",
      "Hello\n"
     ]
    }
   ],
   "source": [
    "print('Hello')\n",
    "print('Hello')\n",
    "print('Hello')"
   ]
  },
  {
   "cell_type": "code",
   "execution_count": 8,
   "id": "bab4f819-944a-4cd7-8499-df9fdca2319f",
   "metadata": {},
   "outputs": [
    {
     "name": "stdout",
     "output_type": "stream",
     "text": [
      "Hello\n",
      "Hello\n",
      "Hello\n"
     ]
    }
   ],
   "source": [
    "for num in range(1,4):\n",
    "    print('Hello')"
   ]
  },
  {
   "cell_type": "code",
   "execution_count": 9,
   "id": "5e36ee34-b0fb-4730-8953-88456aeb349e",
   "metadata": {},
   "outputs": [
    {
     "name": "stdout",
     "output_type": "stream",
     "text": [
      "5\n",
      "6\n",
      "7\n",
      "8\n",
      "9\n",
      "Bye\n"
     ]
    }
   ],
   "source": [
    "for i in range(5,10):\n",
    "    print(i)\n",
    "print('Bye')    "
   ]
  },
  {
   "cell_type": "code",
   "execution_count": 10,
   "id": "c39c9ad9-76a0-4707-83cd-d68da6fe199d",
   "metadata": {},
   "outputs": [
    {
     "name": "stdout",
     "output_type": "stream",
     "text": [
      "5\n",
      "Bye\n",
      "6\n",
      "Bye\n",
      "7\n",
      "Bye\n",
      "8\n",
      "Bye\n",
      "9\n",
      "Bye\n"
     ]
    }
   ],
   "source": [
    "for i in range(5,10):\n",
    "    print(i)\n",
    "    print('Bye')    "
   ]
  },
  {
   "cell_type": "code",
   "execution_count": 11,
   "id": "f20c0229-f4e8-4dec-ad76-44480aba31d6",
   "metadata": {},
   "outputs": [
    {
     "name": "stdout",
     "output_type": "stream",
     "text": [
      "1\n",
      "2\n",
      "3\n",
      "4\n",
      "5\n"
     ]
    }
   ],
   "source": [
    "for i in range(1,6):\n",
    "    print(i)"
   ]
  },
  {
   "cell_type": "code",
   "execution_count": 12,
   "id": "3e477f9d-85ae-472b-a34b-7adbfbf61226",
   "metadata": {},
   "outputs": [
    {
     "name": "stdout",
     "output_type": "stream",
     "text": [
      "10\n",
      "11\n",
      "12\n",
      "13\n",
      "14\n",
      "15\n",
      "16\n",
      "17\n",
      "18\n",
      "19\n"
     ]
    }
   ],
   "source": [
    "for i in range(10,20):\n",
    "    print(i)"
   ]
  },
  {
   "cell_type": "code",
   "execution_count": 13,
   "id": "aa0d2353-645d-40c4-8e99-80f17bb06f91",
   "metadata": {},
   "outputs": [
    {
     "name": "stdout",
     "output_type": "stream",
     "text": [
      "1\n",
      "3\n",
      "5\n",
      "7\n",
      "9\n",
      "11\n",
      "13\n",
      "15\n",
      "17\n",
      "19\n"
     ]
    }
   ],
   "source": [
    "# print odd numbers from 1 to 10\n",
    "for i in range(1,21,2):\n",
    "    print(i)"
   ]
  },
  {
   "cell_type": "code",
   "execution_count": 15,
   "id": "784a7898-e3d3-4991-a71e-ec1c6c1ae424",
   "metadata": {},
   "outputs": [
    {
     "name": "stdout",
     "output_type": "stream",
     "text": [
      "1\n",
      "3\n",
      "5\n",
      "7\n",
      "9\n"
     ]
    }
   ],
   "source": [
    "for i in range(1,11,2):\n",
    "    print(i)"
   ]
  },
  {
   "cell_type": "code",
   "execution_count": 19,
   "id": "18665f32-b8a8-49b9-a918-4c0d58850bbd",
   "metadata": {},
   "outputs": [
    {
     "name": "stdout",
     "output_type": "stream",
     "text": [
      "0 0\n",
      "1 1\n",
      "2 4\n",
      "3 9\n",
      "4 16\n",
      "5 25\n",
      "6 36\n",
      "7 49\n",
      "8 64\n",
      "9 81\n",
      "10 100\n"
     ]
    }
   ],
   "source": [
    "for i in range(11): # 0 to 10\n",
    "    print(i,i**2) # square of number"
   ]
  },
  {
   "cell_type": "code",
   "execution_count": 20,
   "id": "8f0c4763-a12e-49fa-ab04-565b286293ac",
   "metadata": {},
   "outputs": [
    {
     "name": "stdout",
     "output_type": "stream",
     "text": [
      "0 0\n",
      "1 1\n",
      "2 8\n",
      "3 27\n",
      "4 64\n",
      "5 125\n",
      "6 216\n",
      "7 343\n",
      "8 512\n",
      "9 729\n",
      "10 1000\n"
     ]
    }
   ],
   "source": [
    "for i in range(11): # 0 to 10\n",
    "    print(i,i**3) # cube of number"
   ]
  },
  {
   "cell_type": "code",
   "execution_count": 21,
   "id": "becaa9cb-7b6b-47d8-a3d5-8813d0093bfd",
   "metadata": {},
   "outputs": [
    {
     "name": "stdout",
     "output_type": "stream",
     "text": [
      "1 @\n",
      "6 @\n",
      "11 @\n",
      "16 @\n",
      "21 @\n",
      "26 @\n"
     ]
    }
   ],
   "source": [
    "# range (start,stop,step)\n",
    "for i in range(1,31,5):\n",
    "    print(i,'@')"
   ]
  },
  {
   "cell_type": "code",
   "execution_count": 26,
   "id": "dd0be250-c301-4957-8a3c-23c81010c77c",
   "metadata": {},
   "outputs": [
    {
     "name": "stdout",
     "output_type": "stream",
     "text": [
      "S\n",
      "c\n",
      "i\n",
      "e\n",
      "n\n",
      "c\n",
      "e\n"
     ]
    }
   ],
   "source": [
    "sub='Science'\n",
    "for i in sub:\n",
    "    print(i)"
   ]
  },
  {
   "cell_type": "code",
   "execution_count": 33,
   "id": "16f48dc8-cc9d-4623-895d-c159a6e8a777",
   "metadata": {},
   "outputs": [
    {
     "name": "stdout",
     "output_type": "stream",
     "text": [
      "Prerana Prerana Prerana \n"
     ]
    }
   ],
   "source": [
    "# print name 3 times on firs line\n",
    "name='Prerana '\n",
    "for i in range(1,2):\n",
    "    print(name*3)"
   ]
  },
  {
   "cell_type": "code",
   "execution_count": 35,
   "id": "8dc04e3c-add3-428a-afa6-1a7115d8c2ba",
   "metadata": {},
   "outputs": [
    {
     "name": "stdout",
     "output_type": "stream",
     "text": [
      "Prerana \n",
      "Prerana Prerana \n",
      "Prerana Prerana Prerana \n",
      "Prerana Prerana Prerana Prerana \n",
      "Prerana Prerana Prerana Prerana Prerana \n",
      "Prerana Prerana Prerana Prerana Prerana Prerana \n"
     ]
    }
   ],
   "source": [
    "name='Prerana '\n",
    "for i in range(1,7):\n",
    "    print(name*i)"
   ]
  },
  {
   "cell_type": "code",
   "execution_count": 36,
   "id": "1ff34942-f45e-4ea7-bd1d-436fb89f5098",
   "metadata": {},
   "outputs": [
    {
     "name": "stdout",
     "output_type": "stream",
     "text": [
      "Prerana \n",
      "Prerana Prerana \n",
      "Prerana Prerana Prerana \n",
      "Prerana Prerana Prerana Prerana \n",
      "Prerana Prerana Prerana Prerana Prerana \n",
      "Prerana Prerana Prerana Prerana Prerana Prerana \n"
     ]
    }
   ],
   "source": [
    "name='Prerana'\n",
    "for i in range(1,7):\n",
    "    x=(name + \" \")*i\n",
    "    print(x)"
   ]
  },
  {
   "cell_type": "code",
   "execution_count": 39,
   "id": "406a576a-a1a6-4199-91bd-05fd5715eaba",
   "metadata": {},
   "outputs": [
    {
     "name": "stdout",
     "output_type": "stream",
     "text": [
      "D\n",
      "r\n",
      "i\n",
      "s\n",
      "h\n",
      "y\n",
      "a\n",
      "m\n"
     ]
    }
   ],
   "source": [
    "movie='Drishyam'\n",
    "for letter in movie:\n",
    "    print(letter)"
   ]
  },
  {
   "cell_type": "code",
   "execution_count": 40,
   "id": "8881587b-bfbd-43db-be0d-77be860574e8",
   "metadata": {},
   "outputs": [
    {
     "name": "stdout",
     "output_type": "stream",
     "text": [
      "d\n",
      "r\n",
      "i\n",
      "s\n",
      "h\n",
      "y\n",
      "a\n",
      "m\n"
     ]
    }
   ],
   "source": [
    "movie='Drishyam'\n",
    "for letter in movie:\n",
    "    print(letter.lower())"
   ]
  },
  {
   "cell_type": "code",
   "execution_count": 41,
   "id": "7de81ca6-8abc-4308-b494-1a44c170480b",
   "metadata": {},
   "outputs": [
    {
     "name": "stdout",
     "output_type": "stream",
     "text": [
      "d\n",
      "R\n",
      "I\n",
      "S\n",
      "H\n",
      "Y\n",
      "A\n",
      "M\n"
     ]
    }
   ],
   "source": [
    "movie='Drishyam'\n",
    "for letter in movie:\n",
    "    print(letter.swapcase())"
   ]
  },
  {
   "cell_type": "code",
   "execution_count": 44,
   "id": "1da217d3-2ca5-458f-a810-f4829a052f62",
   "metadata": {},
   "outputs": [
    {
     "name": "stdout",
     "output_type": "stream",
     "text": [
      "D      R      I      S      H      Y      A      M      "
     ]
    }
   ],
   "source": [
    "movie='Drishyam'\n",
    "for letter in movie:\n",
    "    print(letter.upper(),end='      ') # for give the all output in line without new line"
   ]
  },
  {
   "cell_type": "code",
   "execution_count": 45,
   "id": "7f710eb4-3df3-4eef-9919-b8dee9156e31",
   "metadata": {},
   "outputs": [],
   "source": [
    "# print all even  n odd numbers between given range suing range for loop"
   ]
  },
  {
   "cell_type": "code",
   "execution_count": 52,
   "id": "99e985cc-17f9-4bd4-8dc1-d32e56a9e4a4",
   "metadata": {},
   "outputs": [
    {
     "name": "stdout",
     "output_type": "stream",
     "text": [
      "Odd Number:  1\n",
      "Even Number:  2\n",
      "Odd Number:  3\n",
      "Even Number:  4\n",
      "Odd Number:  5\n",
      "Even Number:  6\n",
      "Odd Number:  7\n",
      "Even Number:  8\n",
      "Odd Number:  9\n",
      "Even Number:  10\n"
     ]
    }
   ],
   "source": [
    "for i in range(1,11):\n",
    "    if i%2==0:\n",
    "        print('Even Number: ',i)\n",
    "    else:    \n",
    "         print('Odd Number: ',i)"
   ]
  },
  {
   "cell_type": "code",
   "execution_count": 57,
   "id": "b77293dc-024c-489d-ba78-4a3f346e0ba9",
   "metadata": {},
   "outputs": [
    {
     "name": "stdout",
     "output_type": "stream",
     "text": [
      "Even Number: \n",
      "2\n",
      "4\n",
      "6\n",
      "8\n",
      "10\n",
      "Odd Number: \n",
      "1\n",
      "3\n",
      "5\n",
      "7\n",
      "9\n"
     ]
    }
   ],
   "source": [
    "print('Even Number: ')\n",
    "for i in range(1,11):\n",
    "    if i%2==0:\n",
    "        print(i)\n",
    "print('Odd Number: ')   \n",
    "for i in range(1,11):\n",
    "    if i%2!=0:\n",
    "         print(i)"
   ]
  },
  {
   "cell_type": "code",
   "execution_count": 58,
   "id": "7bb8b9fe-90d1-4846-91bc-6f487bc04794",
   "metadata": {},
   "outputs": [
    {
     "name": "stdout",
     "output_type": "stream",
     "text": [
      "Even Number: \n",
      "2 4 6 8 10 Odd Number: \n",
      "1 3 5 7 9 "
     ]
    }
   ],
   "source": [
    "print('Even Number: ')\n",
    "for i in range(1,11):\n",
    "    if i%2==0:\n",
    "        print(i,end=' ')\n",
    "print('Odd Number: ')   \n",
    "for i in range(1,11):\n",
    "    if i%2!=0:\n",
    "         print(i,end=' ')"
   ]
  },
  {
   "cell_type": "code",
   "execution_count": 59,
   "id": "665e5acf-ce3b-4a54-a014-bde5eab5642c",
   "metadata": {},
   "outputs": [
    {
     "name": "stdout",
     "output_type": "stream",
     "text": [
      "Even Number: \n",
      "2 4 6 8 10 \n",
      "Odd Number: \n",
      "1 3 5 7 9 "
     ]
    }
   ],
   "source": [
    "print('Even Number: ')\n",
    "for i in range(1,11):\n",
    "    if i%2==0:\n",
    "        print(i,end=' ')\n",
    "print('\\nOdd Number: ')   \n",
    "for i in range(1,11):\n",
    "    if i%2!=0:\n",
    "         print(i,end=' ')"
   ]
  },
  {
   "cell_type": "code",
   "execution_count": 64,
   "id": "7f5fc7bc-c13b-4ed0-92d2-f3933789f54a",
   "metadata": {},
   "outputs": [
    {
     "name": "stdout",
     "output_type": "stream",
     "text": [
      "     DDDD aaaa tttt aaaa      SSSS cccc iiii eeee nnnn cccc eeee "
     ]
    }
   ],
   "source": [
    "# print each letter 4 times with separator as space\n",
    "for letter in \" Data Science\":\n",
    "        print(letter*4,end=' ')"
   ]
  },
  {
   "cell_type": "code",
   "execution_count": 63,
   "id": "0df56a1f-66ae-4e04-880e-00dcbe3e8a48",
   "metadata": {},
   "outputs": [
    {
     "name": "stdout",
     "output_type": "stream",
     "text": [
      "10\n",
      "9\n",
      "8\n",
      "7\n",
      "6\n",
      "5\n",
      "4\n",
      "3\n"
     ]
    }
   ],
   "source": [
    "for x in range(10,2,-1):\n",
    "    print(x)"
   ]
  },
  {
   "cell_type": "code",
   "execution_count": 65,
   "id": "9ce5382f-5eae-4f4f-8424-8aa84c4e6964",
   "metadata": {},
   "outputs": [
    {
     "data": {
      "text/plain": [
       "7"
      ]
     },
     "execution_count": 65,
     "metadata": {},
     "output_type": "execute_result"
    }
   ],
   "source": [
    "# len()\n",
    "len('My Name')"
   ]
  },
  {
   "cell_type": "code",
   "execution_count": 66,
   "id": "dd1ec106-469f-4ccf-9e17-b32f2c6cc7e6",
   "metadata": {},
   "outputs": [
    {
     "data": {
      "text/plain": [
       "7"
      ]
     },
     "execution_count": 66,
     "metadata": {},
     "output_type": "execute_result"
    }
   ],
   "source": [
    "len('Prerana')"
   ]
  }
 ],
 "metadata": {
  "kernelspec": {
   "display_name": "Python 3 (ipykernel)",
   "language": "python",
   "name": "python3"
  },
  "language_info": {
   "codemirror_mode": {
    "name": "ipython",
    "version": 3
   },
   "file_extension": ".py",
   "mimetype": "text/x-python",
   "name": "python",
   "nbconvert_exporter": "python",
   "pygments_lexer": "ipython3",
   "version": "3.12.7"
  }
 },
 "nbformat": 4,
 "nbformat_minor": 5
}
