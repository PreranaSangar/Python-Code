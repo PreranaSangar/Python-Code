{
 "cells": [
  {
   "cell_type": "markdown",
   "id": "c56745e3-e812-4bd0-8a11-132a8bd6fe1d",
   "metadata": {},
   "source": [
    "# Dictionary"
   ]
  },
  {
   "cell_type": "code",
   "execution_count": 1,
   "id": "ae730d1e-a4d7-4169-8bde-ebc182ca34b2",
   "metadata": {},
   "outputs": [],
   "source": [
    "capital_dict={'Nepal':'Kathmandu','Italy':'Rome','Endland':'London'}"
   ]
  },
  {
   "cell_type": "code",
   "execution_count": 2,
   "id": "c0877ef9-eed1-40aa-a28c-1d1c52d5b4e9",
   "metadata": {},
   "outputs": [
    {
     "data": {
      "text/plain": [
       "{'Nepal': 'Kathmandu', 'Italy': 'Rome', 'Endland': 'London'}"
      ]
     },
     "execution_count": 2,
     "metadata": {},
     "output_type": "execute_result"
    }
   ],
   "source": [
    "capital_dict"
   ]
  },
  {
   "cell_type": "code",
   "execution_count": 3,
   "id": "6c5d413a-d1dd-4cac-8523-c7bf51d12d9e",
   "metadata": {},
   "outputs": [
    {
     "data": {
      "text/plain": [
       "dict"
      ]
     },
     "execution_count": 3,
     "metadata": {},
     "output_type": "execute_result"
    }
   ],
   "source": [
    "type(capital_dict)"
   ]
  },
  {
   "cell_type": "code",
   "execution_count": 4,
   "id": "e7a975d4-7368-4b79-8208-3ece450ee9fd",
   "metadata": {},
   "outputs": [
    {
     "data": {
      "text/plain": [
       "['__class__',\n",
       " '__class_getitem__',\n",
       " '__contains__',\n",
       " '__delattr__',\n",
       " '__delitem__',\n",
       " '__dir__',\n",
       " '__doc__',\n",
       " '__eq__',\n",
       " '__format__',\n",
       " '__ge__',\n",
       " '__getattribute__',\n",
       " '__getitem__',\n",
       " '__getstate__',\n",
       " '__gt__',\n",
       " '__hash__',\n",
       " '__init__',\n",
       " '__init_subclass__',\n",
       " '__ior__',\n",
       " '__iter__',\n",
       " '__le__',\n",
       " '__len__',\n",
       " '__lt__',\n",
       " '__ne__',\n",
       " '__new__',\n",
       " '__or__',\n",
       " '__reduce__',\n",
       " '__reduce_ex__',\n",
       " '__repr__',\n",
       " '__reversed__',\n",
       " '__ror__',\n",
       " '__setattr__',\n",
       " '__setitem__',\n",
       " '__sizeof__',\n",
       " '__str__',\n",
       " '__subclasshook__',\n",
       " 'clear',\n",
       " 'copy',\n",
       " 'fromkeys',\n",
       " 'get',\n",
       " 'items',\n",
       " 'keys',\n",
       " 'pop',\n",
       " 'popitem',\n",
       " 'setdefault',\n",
       " 'update',\n",
       " 'values']"
      ]
     },
     "execution_count": 4,
     "metadata": {},
     "output_type": "execute_result"
    }
   ],
   "source": [
    "dir(capital_dict)"
   ]
  },
  {
   "cell_type": "code",
   "execution_count": 5,
   "id": "eca0aab4-8475-4161-a88d-7cb9a05b26ad",
   "metadata": {},
   "outputs": [
    {
     "data": {
      "text/plain": [
       "'London'"
      ]
     },
     "execution_count": 5,
     "metadata": {},
     "output_type": "execute_result"
    }
   ],
   "source": [
    "capital_dict['Endland']"
   ]
  },
  {
   "cell_type": "code",
   "execution_count": 6,
   "id": "64420f84-9d30-416b-b882-e56f85ecd8a2",
   "metadata": {},
   "outputs": [
    {
     "data": {
      "text/plain": [
       "'Rome'"
      ]
     },
     "execution_count": 6,
     "metadata": {},
     "output_type": "execute_result"
    }
   ],
   "source": [
    "capital_dict['Italy']"
   ]
  },
  {
   "cell_type": "code",
   "execution_count": 7,
   "id": "39d03efa-0e04-4746-b85e-a095ab10f8ae",
   "metadata": {},
   "outputs": [
    {
     "data": {
      "text/plain": [
       "dict_keys(['Nepal', 'Italy', 'Endland'])"
      ]
     },
     "execution_count": 7,
     "metadata": {},
     "output_type": "execute_result"
    }
   ],
   "source": [
    "keys1=capital_dict.keys()\n",
    "keys1"
   ]
  },
  {
   "cell_type": "code",
   "execution_count": 8,
   "id": "393e6ed8-1261-4d57-8641-5104acf5e5bb",
   "metadata": {},
   "outputs": [
    {
     "data": {
      "text/plain": [
       "dict_keys(['Nepal', 'Italy', 'Endland'])"
      ]
     },
     "execution_count": 8,
     "metadata": {},
     "output_type": "execute_result"
    }
   ],
   "source": [
    "capital_dict.keys()"
   ]
  },
  {
   "cell_type": "code",
   "execution_count": 9,
   "id": "60e038df-6d22-4592-af7b-29dbdbf89716",
   "metadata": {},
   "outputs": [
    {
     "data": {
      "text/plain": [
       "dict_keys"
      ]
     },
     "execution_count": 9,
     "metadata": {},
     "output_type": "execute_result"
    }
   ],
   "source": [
    "type(keys1)"
   ]
  },
  {
   "cell_type": "code",
   "execution_count": 10,
   "id": "9bc0a1c4-4983-4740-a8ca-7d159dfd64dd",
   "metadata": {},
   "outputs": [
    {
     "data": {
      "text/plain": [
       "dict_values(['Kathmandu', 'Rome', 'London'])"
      ]
     },
     "execution_count": 10,
     "metadata": {},
     "output_type": "execute_result"
    }
   ],
   "source": [
    "value=capital_dict.values()\n",
    "value"
   ]
  },
  {
   "cell_type": "code",
   "execution_count": 11,
   "id": "9938169b-06e8-49f1-a134-a4a845a41678",
   "metadata": {},
   "outputs": [
    {
     "data": {
      "text/plain": [
       "dict_items([('Nepal', 'Kathmandu'), ('Italy', 'Rome'), ('Endland', 'London')])"
      ]
     },
     "execution_count": 11,
     "metadata": {},
     "output_type": "execute_result"
    }
   ],
   "source": [
    "item=capital_dict.items()\n",
    "item"
   ]
  },
  {
   "cell_type": "code",
   "execution_count": 12,
   "id": "a76707e8-e0ab-4435-980b-3dcc107c7533",
   "metadata": {},
   "outputs": [],
   "source": [
    "# update()\n",
    "add_capital={'India':'New Delhi','abc':'xyz'}\n",
    "capital_dict.update(add_capital)"
   ]
  },
  {
   "cell_type": "code",
   "execution_count": 13,
   "id": "76e2b16e-e6e5-444a-9590-4fb881a0ccc1",
   "metadata": {},
   "outputs": [
    {
     "data": {
      "text/plain": [
       "{'Nepal': 'Kathmandu',\n",
       " 'Italy': 'Rome',\n",
       " 'Endland': 'London',\n",
       " 'India': 'New Delhi',\n",
       " 'abc': 'xyz'}"
      ]
     },
     "execution_count": 13,
     "metadata": {},
     "output_type": "execute_result"
    }
   ],
   "source": [
    "capital_dict"
   ]
  },
  {
   "cell_type": "code",
   "execution_count": 14,
   "id": "70d2c4b7-c14d-4a34-8498-25588cd43ca9",
   "metadata": {},
   "outputs": [],
   "source": [
    "capital_dict.update({'Australia':'Canberra'})"
   ]
  },
  {
   "cell_type": "code",
   "execution_count": 15,
   "id": "d5456ab6-3a53-49ac-aa54-af50920c8c80",
   "metadata": {},
   "outputs": [
    {
     "data": {
      "text/plain": [
       "{'Nepal': 'Kathmandu',\n",
       " 'Italy': 'Rome',\n",
       " 'Endland': 'London',\n",
       " 'India': 'New Delhi',\n",
       " 'abc': 'xyz',\n",
       " 'Australia': 'Canberra'}"
      ]
     },
     "execution_count": 15,
     "metadata": {},
     "output_type": "execute_result"
    }
   ],
   "source": [
    "capital_dict"
   ]
  },
  {
   "cell_type": "code",
   "execution_count": 16,
   "id": "97f03c0c-b7a1-40aa-9416-ff81044e80ee",
   "metadata": {},
   "outputs": [],
   "source": [
    "capital_dict.update({'a':'b','p':'q'})"
   ]
  },
  {
   "cell_type": "code",
   "execution_count": 17,
   "id": "60c6f7f4-1e1b-4c7b-bf6d-938ac5141130",
   "metadata": {},
   "outputs": [
    {
     "data": {
      "text/plain": [
       "{'Nepal': 'Kathmandu',\n",
       " 'Italy': 'Rome',\n",
       " 'Endland': 'London',\n",
       " 'India': 'New Delhi',\n",
       " 'abc': 'xyz',\n",
       " 'Australia': 'Canberra',\n",
       " 'a': 'b',\n",
       " 'p': 'q'}"
      ]
     },
     "execution_count": 17,
     "metadata": {},
     "output_type": "execute_result"
    }
   ],
   "source": [
    "capital_dict"
   ]
  },
  {
   "cell_type": "code",
   "execution_count": 18,
   "id": "6fed8b1b-95d0-4d53-9a24-5c7147a8d638",
   "metadata": {},
   "outputs": [
    {
     "data": {
      "text/plain": [
       "'b'"
      ]
     },
     "execution_count": 18,
     "metadata": {},
     "output_type": "execute_result"
    }
   ],
   "source": [
    "# pop()\n",
    "capital_dict.pop('a')"
   ]
  },
  {
   "cell_type": "code",
   "execution_count": 19,
   "id": "33635d2f-ff51-4dd1-90b5-6effb92944d8",
   "metadata": {},
   "outputs": [
    {
     "data": {
      "text/plain": [
       "{'Nepal': 'Kathmandu',\n",
       " 'Italy': 'Rome',\n",
       " 'Endland': 'London',\n",
       " 'India': 'New Delhi',\n",
       " 'abc': 'xyz',\n",
       " 'Australia': 'Canberra',\n",
       " 'p': 'q'}"
      ]
     },
     "execution_count": 19,
     "metadata": {},
     "output_type": "execute_result"
    }
   ],
   "source": [
    "capital_dict"
   ]
  },
  {
   "cell_type": "code",
   "execution_count": 20,
   "id": "33911fe6-37b0-40df-9624-01d5304bef5b",
   "metadata": {},
   "outputs": [
    {
     "data": {
      "text/plain": [
       "{'Nepal': 'Kathmandu',\n",
       " 'Italy': 'Rome',\n",
       " 'Endland': 'London',\n",
       " 'India': 'New Delhi',\n",
       " 'abc': 'Mumbai',\n",
       " 'Australia': 'Canberra',\n",
       " 'p': 'q'}"
      ]
     },
     "execution_count": 20,
     "metadata": {},
     "output_type": "execute_result"
    }
   ],
   "source": [
    "capital_dict['abc']='Mumbai'\n",
    "capital_dict"
   ]
  },
  {
   "cell_type": "code",
   "execution_count": 21,
   "id": "8cb1fba1-7d93-4a50-a24d-eb521e44cf56",
   "metadata": {},
   "outputs": [
    {
     "data": {
      "text/plain": [
       "('p', 'q')"
      ]
     },
     "execution_count": 21,
     "metadata": {},
     "output_type": "execute_result"
    }
   ],
   "source": [
    "capital_dict.popitem() # remove last key:value pair from dictionary"
   ]
  },
  {
   "cell_type": "code",
   "execution_count": 22,
   "id": "dd97bac7-67d3-4cc3-b753-8008fdc5ab1c",
   "metadata": {},
   "outputs": [
    {
     "data": {
      "text/plain": [
       "{'Nepal': 'Kathmandu',\n",
       " 'Italy': 'Rome',\n",
       " 'Endland': 'London',\n",
       " 'India': 'New Delhi',\n",
       " 'abc': 'Mumbai',\n",
       " 'Australia': 'Canberra'}"
      ]
     },
     "execution_count": 22,
     "metadata": {},
     "output_type": "execute_result"
    }
   ],
   "source": [
    "capital_dict"
   ]
  },
  {
   "cell_type": "code",
   "execution_count": 23,
   "id": "7cda56e4-6d62-47fd-ab87-4021d047b6ea",
   "metadata": {},
   "outputs": [],
   "source": [
    "mylist=['Mango','Orange','Strawberry','Banana','Mulberry','Black berry']"
   ]
  },
  {
   "cell_type": "code",
   "execution_count": 24,
   "id": "31a58cc9-ae97-4e1b-a9ad-7d5a135d7f98",
   "metadata": {},
   "outputs": [],
   "source": [
    "mytuple=(20,53,45,78,89,65,97)"
   ]
  },
  {
   "cell_type": "code",
   "execution_count": 25,
   "id": "1dcbe90e-5af4-41cb-bf79-ce8cc1e03217",
   "metadata": {},
   "outputs": [
    {
     "data": {
      "text/plain": [
       "{'A': ['Mango', 'Orange', 'Strawberry', 'Banana', 'Mulberry', 'Black berry'],\n",
       " 'B': (20, 53, 45, 78, 89, 65, 97),\n",
       " 'C': {'Nepal': 'Kathmandu',\n",
       "  'Italy': 'Rome',\n",
       "  'Endland': 'London',\n",
       "  'India': 'New Delhi',\n",
       "  'abc': 'Mumbai',\n",
       "  'Australia': 'Canberra'}}"
      ]
     },
     "execution_count": 25,
     "metadata": {},
     "output_type": "execute_result"
    }
   ],
   "source": [
    "mydict={ 'A':mylist,\n",
    "         'B':mytuple,\n",
    "         'C':capital_dict\n",
    "}\n",
    "mydict"
   ]
  },
  {
   "cell_type": "code",
   "execution_count": 26,
   "id": "179c070a-bb0e-4527-9bae-87512bcd9fd7",
   "metadata": {},
   "outputs": [
    {
     "data": {
      "text/plain": [
       "['Mango', 'Orange', 'Strawberry', 'Banana', 'Mulberry', 'Black berry']"
      ]
     },
     "execution_count": 26,
     "metadata": {},
     "output_type": "execute_result"
    }
   ],
   "source": [
    "mydict['A']"
   ]
  },
  {
   "cell_type": "code",
   "execution_count": 27,
   "id": "df746ea3-c020-4bbd-9da3-136144e25dd6",
   "metadata": {},
   "outputs": [
    {
     "data": {
      "text/plain": [
       "3"
      ]
     },
     "execution_count": 27,
     "metadata": {},
     "output_type": "execute_result"
    }
   ],
   "source": [
    "len(mydict)"
   ]
  },
  {
   "cell_type": "code",
   "execution_count": 28,
   "id": "cfe73340-8d68-43b8-aa6e-16f86e5e4298",
   "metadata": {},
   "outputs": [
    {
     "data": {
      "text/plain": [
       "6"
      ]
     },
     "execution_count": 28,
     "metadata": {},
     "output_type": "execute_result"
    }
   ],
   "source": [
    "len(mydict['A'])"
   ]
  },
  {
   "cell_type": "code",
   "execution_count": 29,
   "id": "dfe383a6-c9eb-4eed-92f7-f0de93fe4c0f",
   "metadata": {},
   "outputs": [
    {
     "data": {
      "text/plain": [
       "'Mulberry'"
      ]
     },
     "execution_count": 29,
     "metadata": {},
     "output_type": "execute_result"
    }
   ],
   "source": [
    "mydict['A'][4]"
   ]
  },
  {
   "cell_type": "code",
   "execution_count": 30,
   "id": "d7b3daed-e8b5-46b4-ab99-a8dec9cb7972",
   "metadata": {},
   "outputs": [
    {
     "data": {
      "text/plain": [
       "'Mumbai'"
      ]
     },
     "execution_count": 30,
     "metadata": {},
     "output_type": "execute_result"
    }
   ],
   "source": [
    "mydict['C']['abc']"
   ]
  },
  {
   "cell_type": "code",
   "execution_count": 31,
   "id": "9d3462cc-71d5-4f9a-99d1-405a066a5053",
   "metadata": {},
   "outputs": [],
   "source": [
    "# clear\n",
    "add_capital.clear()"
   ]
  },
  {
   "cell_type": "code",
   "execution_count": 32,
   "id": "1bbca4a1-cb25-4439-be19-643dea60ae78",
   "metadata": {},
   "outputs": [
    {
     "data": {
      "text/plain": [
       "{}"
      ]
     },
     "execution_count": 32,
     "metadata": {},
     "output_type": "execute_result"
    }
   ],
   "source": [
    "add_capital"
   ]
  },
  {
   "cell_type": "code",
   "execution_count": 33,
   "id": "c301efb9-076b-4f8a-8427-9f71ce7801bd",
   "metadata": {},
   "outputs": [],
   "source": [
    "# Math Function"
   ]
  },
  {
   "cell_type": "code",
   "execution_count": 34,
   "id": "6094044c-6de9-4f13-9791-20436b244282",
   "metadata": {},
   "outputs": [
    {
     "data": {
      "text/plain": [
       "5.0"
      ]
     },
     "execution_count": 34,
     "metadata": {},
     "output_type": "execute_result"
    }
   ],
   "source": [
    "from math import sqrt\n",
    "sqrt(25)"
   ]
  },
  {
   "cell_type": "code",
   "execution_count": 35,
   "id": "4e176955-a2e5-4a8f-b7ec-f78f183b7abc",
   "metadata": {},
   "outputs": [
    {
     "data": {
      "text/plain": [
       "120"
      ]
     },
     "execution_count": 35,
     "metadata": {},
     "output_type": "execute_result"
    }
   ],
   "source": [
    "from math import factorial\n",
    "factorial(5)"
   ]
  },
  {
   "cell_type": "code",
   "execution_count": 36,
   "id": "33d7d013-a375-4c7f-9393-8dd7a9f40353",
   "metadata": {
    "jupyter": {
     "source_hidden": true
    }
   },
   "outputs": [
    {
     "data": {
      "text/plain": [
       "362880"
      ]
     },
     "execution_count": 36,
     "metadata": {},
     "output_type": "execute_result"
    }
   ],
   "source": [
    "from math import * # fro extracting all fuction in math function\n",
    "factorial(9)"
   ]
  },
  {
   "cell_type": "code",
   "execution_count": 37,
   "id": "e06fe405-3c8a-401b-b85b-df6b277e1e67",
   "metadata": {},
   "outputs": [
    {
     "data": {
      "text/plain": [
       "3.0"
      ]
     },
     "execution_count": 37,
     "metadata": {},
     "output_type": "execute_result"
    }
   ],
   "source": [
    "sqrt(9)"
   ]
  },
  {
   "cell_type": "code",
   "execution_count": 38,
   "id": "b4bd76c0-4fb5-4321-a4e5-b089523f4e87",
   "metadata": {},
   "outputs": [
    {
     "data": {
      "text/plain": [
       "30"
      ]
     },
     "execution_count": 38,
     "metadata": {},
     "output_type": "execute_result"
    }
   ],
   "source": [
    "from math import *\n",
    "listnew=[5,2,3]\n",
    "prod(listnew)"
   ]
  },
  {
   "cell_type": "code",
   "execution_count": 39,
   "id": "2cc2f346-5fd8-41aa-b459-a33bc69838e5",
   "metadata": {},
   "outputs": [
    {
     "data": {
      "text/plain": [
       "['__doc__',\n",
       " '__loader__',\n",
       " '__name__',\n",
       " '__package__',\n",
       " '__spec__',\n",
       " 'acos',\n",
       " 'acosh',\n",
       " 'asin',\n",
       " 'asinh',\n",
       " 'atan',\n",
       " 'atan2',\n",
       " 'atanh',\n",
       " 'cbrt',\n",
       " 'ceil',\n",
       " 'comb',\n",
       " 'copysign',\n",
       " 'cos',\n",
       " 'cosh',\n",
       " 'degrees',\n",
       " 'dist',\n",
       " 'e',\n",
       " 'erf',\n",
       " 'erfc',\n",
       " 'exp',\n",
       " 'exp2',\n",
       " 'expm1',\n",
       " 'fabs',\n",
       " 'factorial',\n",
       " 'floor',\n",
       " 'fmod',\n",
       " 'frexp',\n",
       " 'fsum',\n",
       " 'gamma',\n",
       " 'gcd',\n",
       " 'hypot',\n",
       " 'inf',\n",
       " 'isclose',\n",
       " 'isfinite',\n",
       " 'isinf',\n",
       " 'isnan',\n",
       " 'isqrt',\n",
       " 'lcm',\n",
       " 'ldexp',\n",
       " 'lgamma',\n",
       " 'log',\n",
       " 'log10',\n",
       " 'log1p',\n",
       " 'log2',\n",
       " 'modf',\n",
       " 'nan',\n",
       " 'nextafter',\n",
       " 'perm',\n",
       " 'pi',\n",
       " 'pow',\n",
       " 'prod',\n",
       " 'radians',\n",
       " 'remainder',\n",
       " 'sin',\n",
       " 'sinh',\n",
       " 'sqrt',\n",
       " 'sumprod',\n",
       " 'tan',\n",
       " 'tanh',\n",
       " 'tau',\n",
       " 'trunc',\n",
       " 'ulp']"
      ]
     },
     "execution_count": 39,
     "metadata": {},
     "output_type": "execute_result"
    }
   ],
   "source": [
    "import math \n",
    "dir(math)"
   ]
  }
 ],
 "metadata": {
  "kernelspec": {
   "display_name": "Python 3 (ipykernel)",
   "language": "python",
   "name": "python3"
  },
  "language_info": {
   "codemirror_mode": {
    "name": "ipython",
    "version": 3
   },
   "file_extension": ".py",
   "mimetype": "text/x-python",
   "name": "python",
   "nbconvert_exporter": "python",
   "pygments_lexer": "ipython3",
   "version": "3.12.7"
  }
 },
 "nbformat": 4,
 "nbformat_minor": 5
}
