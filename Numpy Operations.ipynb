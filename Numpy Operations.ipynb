{
 "cells": [
  {
   "cell_type": "markdown",
   "id": "5466a783-c1e2-445a-91f4-d1af39312f9c",
   "metadata": {},
   "source": [
    "# 1. Array Creation & Basics"
   ]
  },
  {
   "cell_type": "code",
   "execution_count": 1,
   "id": "d2f78b91-2967-4bdc-b916-22037c6a1c70",
   "metadata": {},
   "outputs": [],
   "source": [
    "import numpy as np"
   ]
  },
  {
   "cell_type": "code",
   "execution_count": 2,
   "id": "6bfabf99-b288-4be4-8c3e-70232269cd01",
   "metadata": {},
   "outputs": [
    {
     "data": {
      "text/plain": [
       "array([1, 2, 3, 4, 5])"
      ]
     },
     "execution_count": 2,
     "metadata": {},
     "output_type": "execute_result"
    }
   ],
   "source": [
    "a = np.array([1, 2, 3, 4, 5])\n",
    "a"
   ]
  },
  {
   "cell_type": "code",
   "execution_count": 3,
   "id": "0969a51b-28f6-499b-91fa-6dc5f5961d25",
   "metadata": {},
   "outputs": [
    {
     "data": {
      "text/plain": [
       "array([1, 3, 5, 7, 9])"
      ]
     },
     "execution_count": 3,
     "metadata": {},
     "output_type": "execute_result"
    }
   ],
   "source": [
    "b = np.arange(1, 11, 2)       # [1,3,5,7,9]\n",
    "b"
   ]
  },
  {
   "cell_type": "code",
   "execution_count": 4,
   "id": "4cadbd52-551c-481c-bf88-86ae812d5f8e",
   "metadata": {},
   "outputs": [
    {
     "data": {
      "text/plain": [
       "array([0.  , 0.25, 0.5 , 0.75, 1.  ])"
      ]
     },
     "execution_count": 4,
     "metadata": {},
     "output_type": "execute_result"
    }
   ],
   "source": [
    "c = np.linspace(0, 1, 5)      # 5 values from 0 to 1\n",
    "c"
   ]
  },
  {
   "cell_type": "code",
   "execution_count": 5,
   "id": "b0b9751f-88c7-49c8-bcd7-f22cb8258884",
   "metadata": {},
   "outputs": [
    {
     "data": {
      "text/plain": [
       "array([[0., 0., 0.],\n",
       "       [0., 0., 0.]])"
      ]
     },
     "execution_count": 5,
     "metadata": {},
     "output_type": "execute_result"
    }
   ],
   "source": [
    "d = np.zeros((2,3))           # 2x3 matrix of zeros\n",
    "d"
   ]
  },
  {
   "cell_type": "code",
   "execution_count": 6,
   "id": "fedc89d2-a729-43c0-8cc3-b6726b71a2b8",
   "metadata": {},
   "outputs": [
    {
     "data": {
      "text/plain": [
       "array([[1., 1., 1.],\n",
       "       [1., 1., 1.],\n",
       "       [1., 1., 1.]])"
      ]
     },
     "execution_count": 6,
     "metadata": {},
     "output_type": "execute_result"
    }
   ],
   "source": [
    "e = np.ones((3,3))            # 3x3 matrix of ones\n",
    "e"
   ]
  },
  {
   "cell_type": "code",
   "execution_count": 7,
   "id": "44771ee4-1976-4c41-8305-eca51b817913",
   "metadata": {},
   "outputs": [
    {
     "data": {
      "text/plain": [
       "array([[1., 0., 0., 0.],\n",
       "       [0., 1., 0., 0.],\n",
       "       [0., 0., 1., 0.],\n",
       "       [0., 0., 0., 1.]])"
      ]
     },
     "execution_count": 7,
     "metadata": {},
     "output_type": "execute_result"
    }
   ],
   "source": [
    "f = np.eye(4)                 # 4x4 Identity matrix\n",
    "f"
   ]
  },
  {
   "cell_type": "markdown",
   "id": "8cb13fdd-b3fb-42cd-904a-1dd6eb5fe1aa",
   "metadata": {},
   "source": [
    "# 2. Array Properties"
   ]
  },
  {
   "cell_type": "code",
   "execution_count": 8,
   "id": "10095340-9ccf-4105-bd8b-4a80fdb640c0",
   "metadata": {},
   "outputs": [],
   "source": [
    "arr = np.array([[1,2,3],[4,5,6]])"
   ]
  },
  {
   "cell_type": "code",
   "execution_count": 9,
   "id": "a44632b3-c76c-4442-896c-48c80b0797c6",
   "metadata": {},
   "outputs": [
    {
     "name": "stdout",
     "output_type": "stream",
     "text": [
      "(2, 3)\n"
     ]
    }
   ],
   "source": [
    "print(arr.shape)   # (2,3)"
   ]
  },
  {
   "cell_type": "code",
   "execution_count": 10,
   "id": "e0157ff5-8213-412b-8c26-1e4b2087c172",
   "metadata": {},
   "outputs": [
    {
     "name": "stdout",
     "output_type": "stream",
     "text": [
      "2\n"
     ]
    }
   ],
   "source": [
    "print(arr.ndim)    # 2 (dimensions)"
   ]
  },
  {
   "cell_type": "code",
   "execution_count": 11,
   "id": "d5ac0550-6e06-45be-a79e-3a9ae8cd84c4",
   "metadata": {},
   "outputs": [
    {
     "name": "stdout",
     "output_type": "stream",
     "text": [
      "6\n"
     ]
    }
   ],
   "source": [
    "print(arr.size)    # 6 (total elements)"
   ]
  },
  {
   "cell_type": "code",
   "execution_count": 12,
   "id": "fd21b9f8-fd1c-4099-a3ff-03547d82211a",
   "metadata": {},
   "outputs": [
    {
     "name": "stdout",
     "output_type": "stream",
     "text": [
      "int32\n"
     ]
    }
   ],
   "source": [
    "print(arr.dtype)   # int64 (depends on system)"
   ]
  },
  {
   "cell_type": "markdown",
   "id": "ccd86969-dbed-4fdf-b1eb-09d948f8a15f",
   "metadata": {},
   "source": [
    "# 3. Array Indexing & Slicing"
   ]
  },
  {
   "cell_type": "code",
   "execution_count": 13,
   "id": "2d5de306-e10d-4933-9d8c-1723bef5fe63",
   "metadata": {},
   "outputs": [],
   "source": [
    "arr = np.arange(10)   # [0 1 2 3 4 5 6 7 8 9]"
   ]
  },
  {
   "cell_type": "code",
   "execution_count": 14,
   "id": "aad588d1-85bc-477b-877d-0d99dd4376f2",
   "metadata": {},
   "outputs": [
    {
     "name": "stdout",
     "output_type": "stream",
     "text": [
      "[2 3 4 5 6]\n"
     ]
    }
   ],
   "source": [
    "print(arr[2:7])       # [2 3 4 5 6]"
   ]
  },
  {
   "cell_type": "code",
   "execution_count": 15,
   "id": "75916acb-894a-4abd-9e81-e62cd65e31bd",
   "metadata": {},
   "outputs": [
    {
     "name": "stdout",
     "output_type": "stream",
     "text": [
      "[9 8 7 6 5 4 3 2 1 0]\n"
     ]
    }
   ],
   "source": [
    "print(arr[::-1])      # Reverse array"
   ]
  },
  {
   "cell_type": "markdown",
   "id": "259d7392-824c-4286-8ed5-3c1213a3ad90",
   "metadata": {},
   "source": [
    "# 4. Reshape & Flatten"
   ]
  },
  {
   "cell_type": "code",
   "execution_count": 16,
   "id": "5add72ff-26e5-447b-829c-d744c5626893",
   "metadata": {},
   "outputs": [],
   "source": [
    "a = np.arange(12)      "
   ]
  },
  {
   "cell_type": "code",
   "execution_count": 17,
   "id": "14ffda4c-3764-491e-9cb5-cb45e1fc9c3e",
   "metadata": {},
   "outputs": [
    {
     "name": "stdout",
     "output_type": "stream",
     "text": [
      "[[ 0  1  2  3]\n",
      " [ 4  5  6  7]\n",
      " [ 8  9 10 11]]\n"
     ]
    }
   ],
   "source": [
    "print(a.reshape(3,4))   # Reshape to 3x4"
   ]
  },
  {
   "cell_type": "code",
   "execution_count": 18,
   "id": "80b9add9-eebf-4c70-9298-5e8f1f1e1d64",
   "metadata": {},
   "outputs": [
    {
     "name": "stdout",
     "output_type": "stream",
     "text": [
      "[ 0  1  2  3  4  5  6  7  8  9 10 11]\n"
     ]
    }
   ],
   "source": [
    "print(a.flatten())      # Convert to 1D"
   ]
  },
  {
   "cell_type": "markdown",
   "id": "f31977b9-6edf-4c32-be20-203f0fb561fb",
   "metadata": {},
   "source": [
    "# 5. Random Numbers"
   ]
  },
  {
   "cell_type": "code",
   "execution_count": 19,
   "id": "43e6a1ea-450e-43d3-8739-f7804150e947",
   "metadata": {},
   "outputs": [
    {
     "data": {
      "text/plain": [
       "array([[0.62551799, 0.55520902],\n",
       "       [0.47386215, 0.08198903],\n",
       "       [0.66754395, 0.09874489]])"
      ]
     },
     "execution_count": 19,
     "metadata": {},
     "output_type": "execute_result"
    }
   ],
   "source": [
    "np.random.rand(3,2)      # Uniform [0,1)"
   ]
  },
  {
   "cell_type": "code",
   "execution_count": 20,
   "id": "ec5abbd3-cb63-42d9-8c4e-94bfc7a7e641",
   "metadata": {},
   "outputs": [
    {
     "data": {
      "text/plain": [
       "array([[0.91020861, 0.1289199 ],\n",
       "       [1.53469323, 1.21899982],\n",
       "       [0.5996922 , 0.52273247]])"
      ]
     },
     "execution_count": 20,
     "metadata": {},
     "output_type": "execute_result"
    }
   ],
   "source": [
    "np.random.randn(3,2)     # Normal distribution"
   ]
  },
  {
   "cell_type": "code",
   "execution_count": 21,
   "id": "3dbddda1-06f5-4590-97a1-66edc0ebe35d",
   "metadata": {},
   "outputs": [
    {
     "data": {
      "text/plain": [
       "array([9, 3, 9, 3, 5])"
      ]
     },
     "execution_count": 21,
     "metadata": {},
     "output_type": "execute_result"
    }
   ],
   "source": [
    "np.random.randint(1,10,5) # 5 random ints between 1-9"
   ]
  },
  {
   "cell_type": "markdown",
   "id": "3ee1e025-02ba-40b1-9fec-ba3ef1375511",
   "metadata": {},
   "source": [
    "# 6. Mathematical Operations"
   ]
  },
  {
   "cell_type": "code",
   "execution_count": 22,
   "id": "7c20f532-1992-460e-806a-65db69b102d2",
   "metadata": {},
   "outputs": [
    {
     "name": "stdout",
     "output_type": "stream",
     "text": [
      "15\n",
      "1\n",
      "5\n",
      "1.4142135623730951\n",
      "2.0\n"
     ]
    }
   ],
   "source": [
    "arr = np.array([1,2,3,4,5])\n",
    "print(np.sum(arr))   # 15\n",
    "print(np.min(arr))   # 1\n",
    "print(np.max(arr))   # 5\n",
    "print(np.std(arr))   # Standard deviation\n",
    "print(np.var(arr))   # Variance"
   ]
  },
  {
   "cell_type": "markdown",
   "id": "969c91e4-178a-4890-b487-ddb69286f947",
   "metadata": {},
   "source": [
    "# 8. Sorting & Unique"
   ]
  },
  {
   "cell_type": "code",
   "execution_count": 23,
   "id": "a1c2afde-400a-400c-90ae-82c910d6076f",
   "metadata": {},
   "outputs": [],
   "source": [
    "arr = np.array([3,1,2,1,4,3])"
   ]
  },
  {
   "cell_type": "code",
   "execution_count": 24,
   "id": "ebff8c95-17aa-4ade-9a20-32387be4cead",
   "metadata": {},
   "outputs": [
    {
     "name": "stdout",
     "output_type": "stream",
     "text": [
      "[1 1 2 3 3 4]\n"
     ]
    }
   ],
   "source": [
    "print(np.sort(arr))     # [1 1 2 3 3 4]"
   ]
  },
  {
   "cell_type": "code",
   "execution_count": 25,
   "id": "59ceb51a-702b-459c-bcb7-1bdc3d321495",
   "metadata": {},
   "outputs": [
    {
     "name": "stdout",
     "output_type": "stream",
     "text": [
      "[1 2 3 4]\n"
     ]
    }
   ],
   "source": [
    "print(np.unique(arr))   # [1 2 3 4]"
   ]
  },
  {
   "cell_type": "markdown",
   "id": "9795d568-1346-48ca-aa23-3a44118fef5c",
   "metadata": {},
   "source": [
    "# 9. Boolean Indexing & Masking"
   ]
  },
  {
   "cell_type": "code",
   "execution_count": 26,
   "id": "5cb2da7c-db1a-43fc-a1bc-577ed5df693c",
   "metadata": {},
   "outputs": [
    {
     "name": "stdout",
     "output_type": "stream",
     "text": [
      "[30 40 50]\n"
     ]
    }
   ],
   "source": [
    "arr = np.array([10, 20, 30, 40, 50])\n",
    "print(arr[arr > 25])   # [30 40 50]"
   ]
  },
  {
   "cell_type": "markdown",
   "id": "89571c4d-c07e-4e43-b2d7-cc18b05633ee",
   "metadata": {},
   "source": [
    "# 10. Matrix Operations"
   ]
  },
  {
   "cell_type": "code",
   "execution_count": 27,
   "id": "1b9004f9-90c7-4563-83a9-c331d47b871e",
   "metadata": {},
   "outputs": [],
   "source": [
    "A = np.array([[1,2],[3,4]])\n",
    "B = np.array([[5,6],[7,8]])"
   ]
  },
  {
   "cell_type": "code",
   "execution_count": 28,
   "id": "7d031167-655b-4ca0-aec9-0fd8fa8af696",
   "metadata": {},
   "outputs": [
    {
     "name": "stdout",
     "output_type": "stream",
     "text": [
      "[[ 6  8]\n",
      " [10 12]]\n"
     ]
    }
   ],
   "source": [
    "print(np.add(A,B))         # Element-wise addition"
   ]
  },
  {
   "cell_type": "code",
   "execution_count": 29,
   "id": "e1f91fc0-fe27-4a8b-ac1c-c7b30dfa2a32",
   "metadata": {},
   "outputs": [
    {
     "name": "stdout",
     "output_type": "stream",
     "text": [
      "[[19 22]\n",
      " [43 50]]\n"
     ]
    }
   ],
   "source": [
    "print(np.matmul(A,B))      # Matrix multiplication"
   ]
  },
  {
   "cell_type": "code",
   "execution_count": 30,
   "id": "10e372ac-e361-41b3-9931-eebf7fcb9c59",
   "metadata": {},
   "outputs": [
    {
     "name": "stdout",
     "output_type": "stream",
     "text": [
      "[[-2.   1. ]\n",
      " [ 1.5 -0.5]]\n"
     ]
    }
   ],
   "source": [
    "print(np.linalg.inv(A))    # Inverse of matrix"
   ]
  },
  {
   "cell_type": "code",
   "execution_count": 31,
   "id": "9d03ed75-f03b-4ad7-91bb-9789e5b695d5",
   "metadata": {},
   "outputs": [
    {
     "name": "stdout",
     "output_type": "stream",
     "text": [
      "-2.0000000000000004\n"
     ]
    }
   ],
   "source": [
    "print(np.linalg.det(A))    # Determinant"
   ]
  },
  {
   "cell_type": "code",
   "execution_count": 32,
   "id": "c8e38f60-910e-4aa4-83a2-9f5694f9f506",
   "metadata": {},
   "outputs": [
    {
     "name": "stdout",
     "output_type": "stream",
     "text": [
      "EigResult(eigenvalues=array([-0.37228132,  5.37228132]), eigenvectors=array([[-0.82456484, -0.41597356],\n",
      "       [ 0.56576746, -0.90937671]]))\n"
     ]
    }
   ],
   "source": [
    "print(np.linalg.eig(A))    # Eigenvalues & vectors"
   ]
  }
 ],
 "metadata": {
  "kernelspec": {
   "display_name": "Python 3 (ipykernel)",
   "language": "python",
   "name": "python3"
  },
  "language_info": {
   "codemirror_mode": {
    "name": "ipython",
    "version": 3
   },
   "file_extension": ".py",
   "mimetype": "text/x-python",
   "name": "python",
   "nbconvert_exporter": "python",
   "pygments_lexer": "ipython3",
   "version": "3.12.7"
  }
 },
 "nbformat": 4,
 "nbformat_minor": 5
}
