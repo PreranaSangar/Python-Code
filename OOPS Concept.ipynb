{
 "cells": [
  {
   "cell_type": "markdown",
   "id": "c0042542-fbb1-4da8-a581-8be1c747f5df",
   "metadata": {},
   "source": [
    "# OOPS Concept"
   ]
  },
  {
   "cell_type": "raw",
   "id": "1f4a2f67-f5af-4ebb-9577-7d79ff3b618a",
   "metadata": {},
   "source": [
    "OOPS Concept: Class and Object\n",
    "\n",
    "Pyhton is an object oriented programming language \n",
    "We have Class and object Concept\n",
    "Class is a Blue Print\n",
    "class is keyword \n",
    "Excelr is a classname\n",
    "\n",
    "class and object:\n",
    "\n",
    "class is a blue print o temeplet for creating object \n",
    "An object is a specifiect instance of class created from blue print\n"
   ]
  },
  {
   "cell_type": "code",
   "execution_count": 1,
   "id": "3693145a-07ea-416a-be92-f80fa56ca6e0",
   "metadata": {},
   "outputs": [],
   "source": [
    "class Excelr: # Excelr is class name\n",
    "    x=5"
   ]
  },
  {
   "cell_type": "code",
   "execution_count": 2,
   "id": "2cc5b89a-84e3-4bb8-9d9a-6551cb517669",
   "metadata": {},
   "outputs": [
    {
     "name": "stdout",
     "output_type": "stream",
     "text": [
      "<class '__main__.Excelr'>\n"
     ]
    }
   ],
   "source": [
    "print(Excelr)"
   ]
  },
  {
   "cell_type": "code",
   "execution_count": 3,
   "id": "e6dd8ef4-e78c-489d-9e49-f8b84553c566",
   "metadata": {},
   "outputs": [
    {
     "data": {
      "text/plain": [
       "5"
      ]
     },
     "execution_count": 3,
     "metadata": {},
     "output_type": "execute_result"
    }
   ],
   "source": [
    "# create a object name\n",
    "p1=Excelr() # p1 is object\n",
    "p1.x"
   ]
  },
  {
   "cell_type": "code",
   "execution_count": 4,
   "id": "e5af9272-52cb-459a-b240-2a1ae7bf6b04",
   "metadata": {},
   "outputs": [],
   "source": [
    "p2=Excelr()\n",
    "p3=Excelr()"
   ]
  },
  {
   "cell_type": "code",
   "execution_count": 5,
   "id": "89bd32bc-f722-409d-89c2-60e231ee9a63",
   "metadata": {},
   "outputs": [
    {
     "data": {
      "text/plain": [
       "5"
      ]
     },
     "execution_count": 5,
     "metadata": {},
     "output_type": "execute_result"
    }
   ],
   "source": [
    "p2.x"
   ]
  },
  {
   "cell_type": "code",
   "execution_count": 6,
   "id": "3f1cc80c-5275-45ff-98e4-66a683f34d9d",
   "metadata": {},
   "outputs": [],
   "source": [
    "class mycar():\n",
    "    carName='Honda'\n",
    "    carType='civic'"
   ]
  },
  {
   "cell_type": "code",
   "execution_count": 7,
   "id": "7fa50e40-4916-486e-918d-b37bb3f8b182",
   "metadata": {},
   "outputs": [
    {
     "data": {
      "text/plain": [
       "__main__.mycar"
      ]
     },
     "execution_count": 7,
     "metadata": {},
     "output_type": "execute_result"
    }
   ],
   "source": [
    "mycar\n",
    "# print mycar"
   ]
  },
  {
   "cell_type": "code",
   "execution_count": 8,
   "id": "5c2b3824-daf5-4ac7-b5fc-61712b6abb90",
   "metadata": {},
   "outputs": [
    {
     "name": "stdout",
     "output_type": "stream",
     "text": [
      "Honda\n"
     ]
    }
   ],
   "source": [
    "car1=mycar()\n",
    "car2=mycar()\n",
    "car3=mycar()\n",
    "\n",
    "print(car1.carName)"
   ]
  },
  {
   "cell_type": "code",
   "execution_count": 9,
   "id": "9eb70edf-6569-4ce5-8201-d5c7de26aafe",
   "metadata": {},
   "outputs": [
    {
     "name": "stdout",
     "output_type": "stream",
     "text": [
      "civic\n"
     ]
    }
   ],
   "source": [
    "print(car2.carType)"
   ]
  },
  {
   "cell_type": "code",
   "execution_count": 10,
   "id": "9e399b26-f274-48bb-8add-4be99b7ad481",
   "metadata": {},
   "outputs": [],
   "source": [
    "# create a class bike \n",
    "class bike():\n",
    "    name = 'Royal Enfield'\n",
    "    Type = 'Motorcycle'\n",
    "    speed = '120 km/h'\n",
    "    price = '₹1,50,000'\n",
    "\n",
    "bike\n",
    "bike1=bike()\n",
    "bike2=bike()\n",
    "bike3=bike()\n",
    "bike4=bike()"
   ]
  },
  {
   "cell_type": "code",
   "execution_count": 11,
   "id": "fb392f42-7380-49ca-8cd8-d810749f9b44",
   "metadata": {},
   "outputs": [
    {
     "data": {
      "text/plain": [
       "'Motorcycle'"
      ]
     },
     "execution_count": 11,
     "metadata": {},
     "output_type": "execute_result"
    }
   ],
   "source": [
    "bike2.Type"
   ]
  },
  {
   "cell_type": "code",
   "execution_count": 12,
   "id": "fceb900c-94f6-44c4-9498-c44d16a43b31",
   "metadata": {},
   "outputs": [
    {
     "data": {
      "text/plain": [
       "'120 km/h'"
      ]
     },
     "execution_count": 12,
     "metadata": {},
     "output_type": "execute_result"
    }
   ],
   "source": [
    "bike3.speed"
   ]
  },
  {
   "cell_type": "code",
   "execution_count": 13,
   "id": "bc36f8d9-dbbd-484f-8564-402680795b2c",
   "metadata": {},
   "outputs": [
    {
     "data": {
      "text/plain": [
       "'₹1,50,000'"
      ]
     },
     "execution_count": 13,
     "metadata": {},
     "output_type": "execute_result"
    }
   ],
   "source": [
    "bike4.price"
   ]
  }
 ],
 "metadata": {
  "kernelspec": {
   "display_name": "Python 3 (ipykernel)",
   "language": "python",
   "name": "python3"
  },
  "language_info": {
   "codemirror_mode": {
    "name": "ipython",
    "version": 3
   },
   "file_extension": ".py",
   "mimetype": "text/x-python",
   "name": "python",
   "nbconvert_exporter": "python",
   "pygments_lexer": "ipython3",
   "version": "3.12.7"
  }
 },
 "nbformat": 4,
 "nbformat_minor": 5
}
