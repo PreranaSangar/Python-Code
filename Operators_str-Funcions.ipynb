{
 "cells": [
  {
   "cell_type": "markdown",
   "id": "6071887f-f12a-4675-bfac-86560b138d62",
   "metadata": {},
   "source": [
    "# Logical Operator"
   ]
  },
  {
   "cell_type": "code",
   "execution_count": 1,
   "id": "18101483-c622-49bd-b890-1ceb40ffbaeb",
   "metadata": {},
   "outputs": [
    {
     "name": "stdout",
     "output_type": "stream",
     "text": [
      "AND\n",
      "False\n",
      "OR\n",
      "True\n",
      "NOT\n",
      "True\n",
      "True\n"
     ]
    }
   ],
   "source": [
    "cond1=False\n",
    "cond2=False\n",
    "cond3=True\n",
    "print('AND')\n",
    "print(cond1 and cond2 and cond3)\n",
    "\n",
    "print('OR')\n",
    "print(cond1 or cond2 or cond3)\n",
    "\n",
    "print('NOT')\n",
    "print(not cond2)\n",
    "print(not(cond1 and cond2 and cond3))"
   ]
  },
  {
   "cell_type": "markdown",
   "id": "0fe4feee-5ae2-4865-baeb-9fd05d9d40e2",
   "metadata": {},
   "source": [
    "# Assignment Operator"
   ]
  },
  {
   "cell_type": "code",
   "execution_count": 2,
   "id": "28081b8b-c91b-489a-9845-c3b8b6dff1af",
   "metadata": {},
   "outputs": [
    {
     "name": "stdout",
     "output_type": "stream",
     "text": [
      "24\n"
     ]
    }
   ],
   "source": [
    "a=12\n",
    "b=12\n",
    "a=a+b\n",
    "print(a)"
   ]
  },
  {
   "cell_type": "code",
   "execution_count": 3,
   "id": "0b4db651-d04d-4fa7-96b2-3ef318876407",
   "metadata": {},
   "outputs": [
    {
     "name": "stdout",
     "output_type": "stream",
     "text": [
      "72\n"
     ]
    }
   ],
   "source": [
    "a=12\n",
    "a*=6\n",
    "print(a)"
   ]
  },
  {
   "cell_type": "code",
   "execution_count": 4,
   "id": "6e9f56c1-8ee9-4fe1-850d-658e89d2eb6a",
   "metadata": {},
   "outputs": [
    {
     "name": "stdout",
     "output_type": "stream",
     "text": [
      "72\n"
     ]
    }
   ],
   "source": [
    "a=12\n",
    "a=a*6\n",
    "print(a)"
   ]
  },
  {
   "cell_type": "code",
   "execution_count": 5,
   "id": "dd3c3479-c78c-430e-9a9d-d4161d88bccc",
   "metadata": {},
   "outputs": [
    {
     "name": "stdout",
     "output_type": "stream",
     "text": [
      "14\n"
     ]
    }
   ],
   "source": [
    "a=12\n",
    "b=2\n",
    "a+=b\n",
    "print(a)"
   ]
  },
  {
   "cell_type": "code",
   "execution_count": 6,
   "id": "332bf11f-7c11-40b0-b78c-f5c977f63532",
   "metadata": {},
   "outputs": [
    {
     "name": "stdout",
     "output_type": "stream",
     "text": [
      "90\n"
     ]
    }
   ],
   "source": [
    "a=12\n",
    "b=34\n",
    "c=56\n",
    "c+=b\n",
    "print(c)"
   ]
  },
  {
   "cell_type": "markdown",
   "id": "3836a7b2-5e2f-468d-b69e-b59fcac1a094",
   "metadata": {},
   "source": [
    "# Membership Operator"
   ]
  },
  {
   "cell_type": "code",
   "execution_count": 7,
   "id": "1939a9f9-7986-46a0-821c-7d69c6e41b99",
   "metadata": {},
   "outputs": [
    {
     "name": "stdout",
     "output_type": "stream",
     "text": [
      "False\n",
      "True\n",
      "False\n"
     ]
    }
   ],
   "source": [
    "data='water'\n",
    "print('o' in data)\n",
    "print('o' not in data)\n",
    "print('A' in data)"
   ]
  },
  {
   "cell_type": "code",
   "execution_count": 8,
   "id": "c511d7bb-d2e4-4cb5-aadb-148754b6677c",
   "metadata": {},
   "outputs": [
    {
     "name": "stdout",
     "output_type": "stream",
     "text": [
      "True\n",
      "True\n",
      "False\n",
      "False\n",
      "True\n"
     ]
    }
   ],
   "source": [
    "a=34\n",
    "b=34\n",
    "c=56\n",
    "print(a is b)\n",
    "print(a==b)\n",
    "\n",
    "print(a is not b)\n",
    "\n",
    "print(a is c)\n",
    "print(c is not b)\n",
    "\n"
   ]
  },
  {
   "cell_type": "markdown",
   "id": "f9391790-c4fd-41f6-aae4-9454bf955603",
   "metadata": {},
   "source": [
    "# String Function"
   ]
  },
  {
   "cell_type": "code",
   "execution_count": 9,
   "id": "f808cb76-0d71-41f8-9214-885a39ee49c8",
   "metadata": {},
   "outputs": [
    {
     "data": {
      "text/plain": [
       "str"
      ]
     },
     "execution_count": 9,
     "metadata": {},
     "output_type": "execute_result"
    }
   ],
   "source": [
    "name='prerana'\n",
    "type(name)"
   ]
  },
  {
   "cell_type": "code",
   "execution_count": 10,
   "id": "091b09d8-9213-4eea-a6f0-e6157c1a85e7",
   "metadata": {},
   "outputs": [
    {
     "data": {
      "text/plain": [
       "['__add__',\n",
       " '__class__',\n",
       " '__contains__',\n",
       " '__delattr__',\n",
       " '__dir__',\n",
       " '__doc__',\n",
       " '__eq__',\n",
       " '__format__',\n",
       " '__ge__',\n",
       " '__getattribute__',\n",
       " '__getitem__',\n",
       " '__getnewargs__',\n",
       " '__getstate__',\n",
       " '__gt__',\n",
       " '__hash__',\n",
       " '__init__',\n",
       " '__init_subclass__',\n",
       " '__iter__',\n",
       " '__le__',\n",
       " '__len__',\n",
       " '__lt__',\n",
       " '__mod__',\n",
       " '__mul__',\n",
       " '__ne__',\n",
       " '__new__',\n",
       " '__reduce__',\n",
       " '__reduce_ex__',\n",
       " '__repr__',\n",
       " '__rmod__',\n",
       " '__rmul__',\n",
       " '__setattr__',\n",
       " '__sizeof__',\n",
       " '__str__',\n",
       " '__subclasshook__',\n",
       " 'capitalize',\n",
       " 'casefold',\n",
       " 'center',\n",
       " 'count',\n",
       " 'encode',\n",
       " 'endswith',\n",
       " 'expandtabs',\n",
       " 'find',\n",
       " 'format',\n",
       " 'format_map',\n",
       " 'index',\n",
       " 'isalnum',\n",
       " 'isalpha',\n",
       " 'isascii',\n",
       " 'isdecimal',\n",
       " 'isdigit',\n",
       " 'isidentifier',\n",
       " 'islower',\n",
       " 'isnumeric',\n",
       " 'isprintable',\n",
       " 'isspace',\n",
       " 'istitle',\n",
       " 'isupper',\n",
       " 'join',\n",
       " 'ljust',\n",
       " 'lower',\n",
       " 'lstrip',\n",
       " 'maketrans',\n",
       " 'partition',\n",
       " 'removeprefix',\n",
       " 'removesuffix',\n",
       " 'replace',\n",
       " 'rfind',\n",
       " 'rindex',\n",
       " 'rjust',\n",
       " 'rpartition',\n",
       " 'rsplit',\n",
       " 'rstrip',\n",
       " 'split',\n",
       " 'splitlines',\n",
       " 'startswith',\n",
       " 'strip',\n",
       " 'swapcase',\n",
       " 'title',\n",
       " 'translate',\n",
       " 'upper',\n",
       " 'zfill']"
      ]
     },
     "execution_count": 10,
     "metadata": {},
     "output_type": "execute_result"
    }
   ],
   "source": [
    "dir(str)"
   ]
  },
  {
   "cell_type": "code",
   "execution_count": 11,
   "id": "34e05a79-47dc-4b57-a901-99242481976d",
   "metadata": {},
   "outputs": [
    {
     "data": {
      "text/plain": [
       "'Welcome to data science'"
      ]
     },
     "execution_count": 11,
     "metadata": {},
     "output_type": "execute_result"
    }
   ],
   "source": [
    "str1='welcome to Data Science'\n",
    "str1.capitalize()\n",
    "# only capitalize only 1st letter and rest all it cnvert lower case"
   ]
  },
  {
   "cell_type": "code",
   "execution_count": 12,
   "id": "18e8974e-ba7c-4ad2-8bda-657af91cc0ab",
   "metadata": {},
   "outputs": [
    {
     "data": {
      "text/plain": [
       "'welcome to Data Science'"
      ]
     },
     "execution_count": 12,
     "metadata": {},
     "output_type": "execute_result"
    }
   ],
   "source": [
    "str1"
   ]
  },
  {
   "cell_type": "code",
   "execution_count": 13,
   "id": "28030ba8-9fb0-4127-b0d6-de330a6712c5",
   "metadata": {},
   "outputs": [
    {
     "data": {
      "text/plain": [
       "'WELCOME TO DATA SCIENCE'"
      ]
     },
     "execution_count": 13,
     "metadata": {},
     "output_type": "execute_result"
    }
   ],
   "source": [
    "str1.upper()"
   ]
  },
  {
   "cell_type": "code",
   "execution_count": 14,
   "id": "f5b4b26d-53c3-44aa-a60d-7e80439e787f",
   "metadata": {},
   "outputs": [
    {
     "data": {
      "text/plain": [
       "'welcome to data science'"
      ]
     },
     "execution_count": 14,
     "metadata": {},
     "output_type": "execute_result"
    }
   ],
   "source": [
    "str1.lower()"
   ]
  },
  {
   "cell_type": "code",
   "execution_count": 15,
   "id": "f9fefb4d-65cd-4bdf-9a5b-97661fd07e12",
   "metadata": {},
   "outputs": [
    {
     "data": {
      "text/plain": [
       "'Welcome To Data Science'"
      ]
     },
     "execution_count": 15,
     "metadata": {},
     "output_type": "execute_result"
    }
   ],
   "source": [
    "str1.title()"
   ]
  },
  {
   "cell_type": "code",
   "execution_count": 16,
   "id": "051034b8-c7ee-423d-9c25-6a2ecbc7a7af",
   "metadata": {},
   "outputs": [
    {
     "data": {
      "text/plain": [
       "'welcome to Data Science'"
      ]
     },
     "execution_count": 16,
     "metadata": {},
     "output_type": "execute_result"
    }
   ],
   "source": [
    "str1"
   ]
  },
  {
   "cell_type": "code",
   "execution_count": 17,
   "id": "350c5b8a-b98d-4918-a3e8-05961a4b2cea",
   "metadata": {},
   "outputs": [
    {
     "name": "stdout",
     "output_type": "stream",
     "text": [
      "bbb\n",
      "prerana\n"
     ]
    }
   ],
   "source": [
    "food='BBB'\n",
    "name='PRERANA'\n",
    "print(food.swapcase())\n",
    "print(name.swapcase())"
   ]
  },
  {
   "cell_type": "code",
   "execution_count": 18,
   "id": "9c60ae97-f0fa-4893-95b7-fc31b706d420",
   "metadata": {},
   "outputs": [
    {
     "name": "stdout",
     "output_type": "stream",
     "text": [
      "bBb\n",
      "prEraNa\n"
     ]
    }
   ],
   "source": [
    "food='BbB'\n",
    "name='PReRAnA'\n",
    "print(food.swapcase())\n",
    "print(name.swapcase())"
   ]
  },
  {
   "cell_type": "code",
   "execution_count": 19,
   "id": "2d64215e-774c-44e0-ad88-1691f9679b25",
   "metadata": {},
   "outputs": [
    {
     "data": {
      "text/plain": [
       "['My', 'name', 'is', 'Prerana']"
      ]
     },
     "execution_count": 19,
     "metadata": {},
     "output_type": "execute_result"
    }
   ],
   "source": [
    "s1='My name is Prerana'\n",
    "s1.split() # list of string is created"
   ]
  },
  {
   "cell_type": "code",
   "execution_count": 20,
   "id": "84e33074-842a-49ae-9eda-f6afeca62f80",
   "metadata": {},
   "outputs": [
    {
     "data": {
      "text/plain": [
       "['Mumbai-Pune-Mumbai']"
      ]
     },
     "execution_count": 20,
     "metadata": {},
     "output_type": "execute_result"
    }
   ],
   "source": [
    "s2='Mumbai-Pune-Mumbai'\n",
    "s2.split()"
   ]
  },
  {
   "cell_type": "code",
   "execution_count": 21,
   "id": "0de387b4-ddc7-4a69-921e-07427e9364f4",
   "metadata": {},
   "outputs": [
    {
     "data": {
      "text/plain": [
       "['Mumbai', 'Pune', 'Mumbai']"
      ]
     },
     "execution_count": 21,
     "metadata": {},
     "output_type": "execute_result"
    }
   ],
   "source": [
    "s2.split('-')"
   ]
  },
  {
   "cell_type": "code",
   "execution_count": 22,
   "id": "96275d41-2458-4166-8786-ac047457a96a",
   "metadata": {},
   "outputs": [
    {
     "data": {
      "text/plain": [
       "['sangar', '348.com']"
      ]
     },
     "execution_count": 22,
     "metadata": {},
     "output_type": "execute_result"
    }
   ],
   "source": [
    "mail='sangar@348.com'\n",
    "mail.split('@')"
   ]
  },
  {
   "cell_type": "code",
   "execution_count": 23,
   "id": "9b068429-d253-492c-afdc-5236c9f686aa",
   "metadata": {},
   "outputs": [
    {
     "data": {
      "text/plain": [
       "'My name is Prerana'"
      ]
     },
     "execution_count": 23,
     "metadata": {},
     "output_type": "execute_result"
    }
   ],
   "source": [
    "s1"
   ]
  },
  {
   "cell_type": "code",
   "execution_count": 24,
   "id": "4f9549f8-c222-4e05-864d-0015267364e0",
   "metadata": {},
   "outputs": [
    {
     "data": {
      "text/plain": [
       "'My name is Riya'"
      ]
     },
     "execution_count": 24,
     "metadata": {},
     "output_type": "execute_result"
    }
   ],
   "source": [
    "s1.replace('Prerana','Riya')"
   ]
  },
  {
   "cell_type": "code",
   "execution_count": 25,
   "id": "84901a86-6eac-4ba3-896d-e8c6f2c2151f",
   "metadata": {},
   "outputs": [
    {
     "data": {
      "text/plain": [
       "'My name is Prerana'"
      ]
     },
     "execution_count": 25,
     "metadata": {},
     "output_type": "execute_result"
    }
   ],
   "source": [
    "s1 # in mempry orignal string value is permanent"
   ]
  },
  {
   "cell_type": "code",
   "execution_count": 26,
   "id": "378709b4-941b-4212-ab09-26e7e359519b",
   "metadata": {},
   "outputs": [
    {
     "data": {
      "text/plain": [
       "13"
      ]
     },
     "execution_count": 26,
     "metadata": {},
     "output_type": "execute_result"
    }
   ],
   "source": [
    "city='Kolhapuraaaaaaaaaaaa'\n",
    "city.count('a')"
   ]
  },
  {
   "cell_type": "code",
   "execution_count": 27,
   "id": "e4c7138d-b3cb-4bef-9f2e-c5486b927e78",
   "metadata": {},
   "outputs": [
    {
     "data": {
      "text/plain": [
       "2"
      ]
     },
     "execution_count": 27,
     "metadata": {},
     "output_type": "execute_result"
    }
   ],
   "source": [
    "'prerana'.count('r')"
   ]
  },
  {
   "cell_type": "code",
   "execution_count": 28,
   "id": "5e84cbcc-3aae-4501-a828-4b4ef54817c7",
   "metadata": {},
   "outputs": [
    {
     "data": {
      "text/plain": [
       "40"
      ]
     },
     "execution_count": 28,
     "metadata": {},
     "output_type": "execute_result"
    }
   ],
   "source": [
    "n1=5\n",
    "n1*8"
   ]
  },
  {
   "cell_type": "code",
   "execution_count": 29,
   "id": "e655b9a7-51b8-49c5-bb9f-e5fc5b6019cd",
   "metadata": {},
   "outputs": [
    {
     "data": {
      "text/plain": [
       "'rajrajrajraj'"
      ]
     },
     "execution_count": 29,
     "metadata": {},
     "output_type": "execute_result"
    }
   ],
   "source": [
    "name='raj'\n",
    "name*4 # multiplication with string ,list and tuple is repetition"
   ]
  },
  {
   "cell_type": "code",
   "execution_count": 30,
   "id": "998f9fe4-f3a4-4bd9-a544-caef7f26c847",
   "metadata": {},
   "outputs": [
    {
     "data": {
      "text/plain": [
       "'raj raj raj raj '"
      ]
     },
     "execution_count": 30,
     "metadata": {},
     "output_type": "execute_result"
    }
   ],
   "source": [
    "name='raj '\n",
    "name*4"
   ]
  },
  {
   "cell_type": "code",
   "execution_count": 31,
   "id": "0ea1c2c2-a884-4776-b3fa-d0b15c9372af",
   "metadata": {},
   "outputs": [
    {
     "data": {
      "text/plain": [
       "'preranaSangar'"
      ]
     },
     "execution_count": 31,
     "metadata": {},
     "output_type": "execute_result"
    }
   ],
   "source": [
    "name='prerana'\n",
    "surname='Sangar'\n",
    "name + surname # Concatenates without space"
   ]
  },
  {
   "cell_type": "code",
   "execution_count": 32,
   "id": "1ddc87e1-39be-4f5a-977e-d6b0c7520c58",
   "metadata": {},
   "outputs": [
    {
     "data": {
      "text/plain": [
       "'prerana Sangar'"
      ]
     },
     "execution_count": 32,
     "metadata": {},
     "output_type": "execute_result"
    }
   ],
   "source": [
    "name='prerana'\n",
    "surname='Sangar'\n",
    "name +\" \"+ surname # Adding a space"
   ]
  },
  {
   "cell_type": "code",
   "execution_count": 33,
   "id": "744286d9-6541-480d-b006-aa986c867916",
   "metadata": {},
   "outputs": [],
   "source": [
    "# To accept input from user"
   ]
  },
  {
   "cell_type": "code",
   "execution_count": 34,
   "id": "e37d13c8-9f1e-48c8-bab8-625074c894df",
   "metadata": {},
   "outputs": [
    {
     "name": "stdout",
     "output_type": "stream",
     "text": [
      "Enter a number:  5\n"
     ]
    }
   ],
   "source": [
    "a=input('Enter a number: ')"
   ]
  },
  {
   "cell_type": "code",
   "execution_count": 35,
   "id": "1ca38b0e-1922-42f3-b5fe-43eea2f6d7bb",
   "metadata": {},
   "outputs": [
    {
     "data": {
      "text/plain": [
       "'5'"
      ]
     },
     "execution_count": 35,
     "metadata": {},
     "output_type": "execute_result"
    }
   ],
   "source": [
    "a"
   ]
  },
  {
   "cell_type": "code",
   "execution_count": 37,
   "id": "e1a5ebcf-dd9d-493a-816a-f905cc73fcd7",
   "metadata": {},
   "outputs": [
    {
     "ename": "TypeError",
     "evalue": "can only concatenate str (not \"int\") to str",
     "output_type": "error",
     "traceback": [
      "\u001b[1;31m---------------------------------------------------------------------------\u001b[0m",
      "\u001b[1;31mTypeError\u001b[0m                                 Traceback (most recent call last)",
      "Cell \u001b[1;32mIn[37], line 1\u001b[0m\n\u001b[1;32m----> 1\u001b[0m \u001b[43ma\u001b[49m\u001b[43m \u001b[49m\u001b[38;5;241;43m+\u001b[39;49m\u001b[43m \u001b[49m\u001b[38;5;241;43m5\u001b[39;49m\n",
      "\u001b[1;31mTypeError\u001b[0m: can only concatenate str (not \"int\") to str"
     ]
    }
   ],
   "source": [
    "a + 5"
   ]
  },
  {
   "cell_type": "code",
   "execution_count": 38,
   "id": "2329b31d-ed48-443d-affe-189514d7fb98",
   "metadata": {},
   "outputs": [
    {
     "data": {
      "text/plain": [
       "str"
      ]
     },
     "execution_count": 38,
     "metadata": {},
     "output_type": "execute_result"
    }
   ],
   "source": [
    "type(a)"
   ]
  },
  {
   "cell_type": "code",
   "execution_count": 40,
   "id": "8f2cda6c-52f3-4452-9a36-4104c6c98227",
   "metadata": {},
   "outputs": [
    {
     "name": "stdout",
     "output_type": "stream",
     "text": [
      "Enter your marks:  67\n"
     ]
    }
   ],
   "source": [
    "num1=int(input('Enter your marks: '))"
   ]
  },
  {
   "cell_type": "code",
   "execution_count": 41,
   "id": "d373f1e1-7faf-42b5-ba2d-b8dd336e9ed7",
   "metadata": {},
   "outputs": [
    {
     "data": {
      "text/plain": [
       "67"
      ]
     },
     "execution_count": 41,
     "metadata": {},
     "output_type": "execute_result"
    }
   ],
   "source": [
    "num1"
   ]
  },
  {
   "cell_type": "code",
   "execution_count": 42,
   "id": "e71cc298-ad8e-489d-aae2-0a1d1c2ca51f",
   "metadata": {},
   "outputs": [
    {
     "data": {
      "text/plain": [
       "73"
      ]
     },
     "execution_count": 42,
     "metadata": {},
     "output_type": "execute_result"
    }
   ],
   "source": [
    "num1+6"
   ]
  },
  {
   "cell_type": "code",
   "execution_count": 44,
   "id": "2d8e9ce6-45e3-47f7-829d-2e426ca365b8",
   "metadata": {},
   "outputs": [
    {
     "name": "stdout",
     "output_type": "stream",
     "text": [
      "Enter your name:  prerana\n"
     ]
    }
   ],
   "source": [
    "name=input('Enter your name: ')"
   ]
  },
  {
   "cell_type": "code",
   "execution_count": 45,
   "id": "9644dc02-6d34-4678-887f-f6c20cf33aa1",
   "metadata": {},
   "outputs": [
    {
     "data": {
      "text/plain": [
       "'prerana'"
      ]
     },
     "execution_count": 45,
     "metadata": {},
     "output_type": "execute_result"
    }
   ],
   "source": [
    "name"
   ]
  }
 ],
 "metadata": {
  "kernelspec": {
   "display_name": "Python 3 (ipykernel)",
   "language": "python",
   "name": "python3"
  },
  "language_info": {
   "codemirror_mode": {
    "name": "ipython",
    "version": 3
   },
   "file_extension": ".py",
   "mimetype": "text/x-python",
   "name": "python",
   "nbconvert_exporter": "python",
   "pygments_lexer": "ipython3",
   "version": "3.12.7"
  }
 },
 "nbformat": 4,
 "nbformat_minor": 5
}
