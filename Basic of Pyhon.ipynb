{
 "cells": [
  {
   "cell_type": "code",
   "execution_count": 1,
   "id": "954cdda3-a4ef-4517-8a62-6e74891ab440",
   "metadata": {},
   "outputs": [
    {
     "name": "stdin",
     "output_type": "stream",
     "text": [
      "Enter a number to check if it's prime:  8\n"
     ]
    },
    {
     "name": "stdout",
     "output_type": "stream",
     "text": [
      "8 is not a prime number.\n"
     ]
    }
   ],
   "source": [
    "# Exercise 1: Prime Numbers\n",
    "# ------------------------------------------------------------\n",
    "# A prime number is a number greater than 1 that has no divisors \n",
    "# other than 1 and itself. For example, 2, 3, 5, 7 are prime numbers.\n",
    "\n",
    "def is_prime(num):\n",
    "    \"\"\"\n",
    "    Function to check if a number is prime.\n",
    "    Args:\n",
    "        num (int): Number to be checked.\n",
    "    Returns:\n",
    "        bool: True if prime, False otherwise.\n",
    "    \"\"\"\n",
    "    if num <= 1:  # Numbers less than or equal to 1 are not prime\n",
    "        return False\n",
    "    \n",
    "    # We only check up to the square root of the number for efficiency\n",
    "    for i in range(2, int(num**0.5) + 1):\n",
    "        if num % i == 0:  # Found a divisor, so not prime\n",
    "            return False\n",
    "    return True  # No divisors found, so it's prime\n",
    "\n",
    "# Example usage:\n",
    "number = int(input(\"Enter a number to check if it's prime: \"))\n",
    "if is_prime(number):\n",
    "    print(f\"{number} is a prime number.\")\n",
    "else:\n",
    "    print(f\"{number} is not a prime number.\")"
   ]
  },
  {
   "cell_type": "code",
   "execution_count": 2,
   "id": "91fd2696-567a-4602-bb2b-0469b7c6e6f4",
   "metadata": {},
   "outputs": [
    {
     "name": "stdout",
     "output_type": "stream",
     "text": [
      "\n",
      "Multiply: 1 × 4\n"
     ]
    },
    {
     "name": "stdin",
     "output_type": "stream",
     "text": [
      "Enter your answer:  4\n"
     ]
    },
    {
     "name": "stdout",
     "output_type": "stream",
     "text": [
      "Correct! Well done.\n"
     ]
    }
   ],
   "source": [
    "# Exercise 2: Product of Random Numbers\n",
    "# ------------------------------------------------------------\n",
    "# The program generates two random integers between 1 and 10.\n",
    "# It asks the user to enter the product of these numbers and \n",
    "# checks if the answer is correct.\n",
    "\n",
    "import random  # Used to generate random numbers\n",
    "\n",
    "# Generate two random numbers between 1 and 10\n",
    "num1 = random.randint(1, 10)\n",
    "num2 = random.randint(1, 10)\n",
    "\n",
    "# Show numbers to user\n",
    "print(f\"\\nMultiply: {num1} × {num2}\")\n",
    "user_answer = int(input(\"Enter your answer: \"))\n",
    "\n",
    "# Compare user's answer with the actual product\n",
    "if user_answer == num1 * num2:\n",
    "    print(\"Correct! Well done.\")\n",
    "else:\n",
    "    print(f\"Incorrect! The correct answer is {num1 * num2}\")"
   ]
  },
  {
   "cell_type": "code",
   "execution_count": 3,
   "id": "3c9039f3-ddb0-4b2b-b66b-33714cb9f14e",
   "metadata": {},
   "outputs": [
    {
     "name": "stdout",
     "output_type": "stream",
     "text": [
      "\n",
      "Squares of even numbers from 100 to 200:\n",
      "100² = 10000\n",
      "102² = 10404\n",
      "104² = 10816\n",
      "106² = 11236\n",
      "108² = 11664\n",
      "110² = 12100\n",
      "112² = 12544\n",
      "114² = 12996\n",
      "116² = 13456\n",
      "118² = 13924\n",
      "120² = 14400\n",
      "122² = 14884\n",
      "124² = 15376\n",
      "126² = 15876\n",
      "128² = 16384\n",
      "130² = 16900\n",
      "132² = 17424\n",
      "134² = 17956\n",
      "136² = 18496\n",
      "138² = 19044\n",
      "140² = 19600\n",
      "142² = 20164\n",
      "144² = 20736\n",
      "146² = 21316\n",
      "148² = 21904\n",
      "150² = 22500\n",
      "152² = 23104\n",
      "154² = 23716\n",
      "156² = 24336\n",
      "158² = 24964\n",
      "160² = 25600\n",
      "162² = 26244\n",
      "164² = 26896\n",
      "166² = 27556\n",
      "168² = 28224\n",
      "170² = 28900\n",
      "172² = 29584\n",
      "174² = 30276\n",
      "176² = 30976\n",
      "178² = 31684\n",
      "180² = 32400\n",
      "182² = 33124\n",
      "184² = 33856\n",
      "186² = 34596\n",
      "188² = 35344\n",
      "190² = 36100\n",
      "192² = 36864\n",
      "194² = 37636\n",
      "196² = 38416\n",
      "198² = 39204\n",
      "200² = 40000\n"
     ]
    }
   ],
   "source": [
    "# Exercise 3: Squares of Even/Odd Numbers\n",
    "# ------------------------------------------------------------\n",
    "# I have chosen to print the squares of EVEN numbers from 100 to 200.\n",
    "# This is done by checking if the number is divisible by 2.\n",
    "\n",
    "print(\"\\nSquares of even numbers from 100 to 200:\")\n",
    "for n in range(100, 201):  # Loop from 100 to 200 (inclusive)\n",
    "    if n % 2 == 0:  # Condition for even numbers\n",
    "        print(f\"{n}² = {n**2}\")  # Square calculated using exponentiation"
   ]
  },
  {
   "cell_type": "code",
   "execution_count": 4,
   "id": "6d8ad6e7-04c2-49a1-ad9e-d7e682f01872",
   "metadata": {},
   "outputs": [
    {
     "name": "stdout",
     "output_type": "stream",
     "text": [
      "\n",
      "Word count:\n",
      "'This': 2\n",
      "'is': 1\n",
      "'a': 1\n",
      "'sample': 1\n",
      "'text.': 1\n",
      "'text': 1\n",
      "'will': 1\n",
      "'be': 1\n",
      "'used': 1\n",
      "'to': 1\n",
      "'demonstrate': 1\n",
      "'the': 1\n",
      "'word': 1\n",
      "'counter.': 1\n"
     ]
    }
   ],
   "source": [
    "# Exercise 4: Word Counter\n",
    "# ------------------------------------------------------------\n",
    "# The program splits a given text into words and counts the frequency \n",
    "# of each word using Python's Counter class.\n",
    "\n",
    "from collections import Counter  # For counting word frequency\n",
    "\n",
    "# Sample input text\n",
    "input_text = \"This is a sample text. This text will be used to demonstrate the word counter.\"\n",
    "\n",
    "# Split text into a list of words (split by spaces)\n",
    "words = input_text.split()\n",
    "\n",
    "# Count occurrences of each word\n",
    "word_count = Counter(words)\n",
    "\n",
    "# Display the word count\n",
    "print(\"\\nWord count:\")\n",
    "for word, count in word_count.items():\n",
    "    print(f\"'{word}': {count}\")"
   ]
  },
  {
   "cell_type": "code",
   "execution_count": 5,
   "id": "1d55238d-f37c-49be-9b2c-9a1dbbd2082e",
   "metadata": {},
   "outputs": [
    {
     "name": "stdin",
     "output_type": "stream",
     "text": [
      "\n",
      "Enter a string to check if it's palindrome:  madam\n"
     ]
    },
    {
     "name": "stdout",
     "output_type": "stream",
     "text": [
      "It is a palindrome!\n"
     ]
    }
   ],
   "source": [
    "# Exercise 5: Check for Palindrome\n",
    "# ------------------------------------------------------------\n",
    "# A palindrome is a word or phrase that reads the same forwards \n",
    "# and backwards, ignoring spaces, punctuation, and capitalization.\n",
    "\n",
    "import re  # Regular expressions to clean text\n",
    "\n",
    "def is_palindrome(text):\n",
    "    \"\"\"\n",
    "    Function to check if a string is a palindrome.\n",
    "    Args:\n",
    "        text (str): The input string to check.\n",
    "    Returns:\n",
    "        bool: True if palindrome, False otherwise.\n",
    "    \"\"\"\n",
    "    # Remove all non-alphanumeric characters and convert to lowercase\n",
    "    cleaned_text = re.sub(r'[^a-zA-Z0-9]', '', text).lower()\n",
    "    \n",
    "    # Compare cleaned text with its reverse\n",
    "    return cleaned_text == cleaned_text[::-1]\n",
    "\n",
    "# Example usage:\n",
    "test_str = input(\"\\nEnter a string to check if it's palindrome: \")\n",
    "if is_palindrome(test_str):\n",
    "    print(\"It is a palindrome!\")\n",
    "else:\n",
    "    print(\"Not a palindrome.\")"
   ]
  }
 ],
 "metadata": {
  "kernelspec": {
   "display_name": "Python 3 (ipykernel)",
   "language": "python",
   "name": "python3"
  },
  "language_info": {
   "codemirror_mode": {
    "name": "ipython",
    "version": 3
   },
   "file_extension": ".py",
   "mimetype": "text/x-python",
   "name": "python",
   "nbconvert_exporter": "python",
   "pygments_lexer": "ipython3",
   "version": "3.12.7"
  }
 },
 "nbformat": 4,
 "nbformat_minor": 5
}
