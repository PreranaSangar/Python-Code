{
 "cells": [
  {
   "cell_type": "markdown",
   "id": "d3243465-7529-484e-8794-f6602f89d59f",
   "metadata": {},
   "source": [
    "# Define Class"
   ]
  },
  {
   "cell_type": "code",
   "execution_count": 1,
   "id": "b37dc45c-15db-450b-8a2b-d304f6b8cb5c",
   "metadata": {},
   "outputs": [],
   "source": [
    "class Person:\n",
    "  # Define the constructor\n",
    "  def __init__(self,name,age): # Constructor of class\n",
    "    # create and initialize the object\n",
    "    self.name = name\n",
    "    self.age = age\n",
    "  # Define instance method\n",
    "  def say_hello(self):\n",
    "    print(f'{self.name} says hello')\n",
    "  # let us define another method\n",
    "  def is_eligible(self):\n",
    "    if self.age >= 18:\n",
    "      return 'Eligible'\n",
    "    else:\n",
    "      return 'Underage'"
   ]
  },
  {
   "cell_type": "markdown",
   "id": "cafee43f-aac0-4a27-a081-af237b3a900b",
   "metadata": {},
   "source": [
    "# Create object based on the Class"
   ]
  },
  {
   "cell_type": "code",
   "execution_count": 2,
   "id": "7ef6c5f1-293d-4872-a11e-200065852e9f",
   "metadata": {},
   "outputs": [],
   "source": [
    "# cretae an object of type Person\n",
    "p1=Person('Tom',23)"
   ]
  },
  {
   "cell_type": "code",
   "execution_count": 3,
   "id": "c345533d-d3d9-4d99-9b49-d468e2f517c0",
   "metadata": {},
   "outputs": [
    {
     "data": {
      "text/plain": [
       "__main__.Person"
      ]
     },
     "execution_count": 3,
     "metadata": {},
     "output_type": "execute_result"
    }
   ],
   "source": [
    "type(p1)"
   ]
  },
  {
   "cell_type": "code",
   "execution_count": 4,
   "id": "6b0e484d-10ff-4a53-9f76-21d18e53dcb5",
   "metadata": {},
   "outputs": [
    {
     "name": "stdout",
     "output_type": "stream",
     "text": [
      "Tom says hello\n"
     ]
    }
   ],
   "source": [
    "# call method\n",
    "p1.say_hello()"
   ]
  },
  {
   "cell_type": "code",
   "execution_count": 5,
   "id": "061901b8-7913-4830-be58-63766f298029",
   "metadata": {},
   "outputs": [
    {
     "data": {
      "text/plain": [
       "'Eligible'"
      ]
     },
     "execution_count": 5,
     "metadata": {},
     "output_type": "execute_result"
    }
   ],
   "source": [
    "p1.is_eligible()"
   ]
  },
  {
   "cell_type": "code",
   "execution_count": 6,
   "id": "7951caef-2dcf-498a-8628-21e41e609a3d",
   "metadata": {},
   "outputs": [],
   "source": [
    "p2=Person('Mary',17)"
   ]
  },
  {
   "cell_type": "code",
   "execution_count": 7,
   "id": "b4f73514-7850-4f86-b301-e23e84dc9048",
   "metadata": {},
   "outputs": [
    {
     "name": "stdout",
     "output_type": "stream",
     "text": [
      "Mary says hello\n"
     ]
    }
   ],
   "source": [
    "p2.say_hello()"
   ]
  },
  {
   "cell_type": "code",
   "execution_count": 8,
   "id": "3938cf0f-9fa2-4354-9134-2ff6b74142ed",
   "metadata": {},
   "outputs": [
    {
     "data": {
      "text/plain": [
       "'Underage'"
      ]
     },
     "execution_count": 8,
     "metadata": {},
     "output_type": "execute_result"
    }
   ],
   "source": [
    "p2.is_eligible()"
   ]
  },
  {
   "cell_type": "code",
   "execution_count": 9,
   "id": "00768e73-458b-4e6d-875e-cdb6baa708d8",
   "metadata": {},
   "outputs": [
    {
     "data": {
      "text/plain": [
       "23"
      ]
     },
     "execution_count": 9,
     "metadata": {},
     "output_type": "execute_result"
    }
   ],
   "source": [
    "p1.age"
   ]
  },
  {
   "cell_type": "code",
   "execution_count": 10,
   "id": "c3503dab-8828-4fce-a971-e79c2ea0555b",
   "metadata": {},
   "outputs": [
    {
     "data": {
      "text/plain": [
       "'Mary'"
      ]
     },
     "execution_count": 10,
     "metadata": {},
     "output_type": "execute_result"
    }
   ],
   "source": [
    "p2.name"
   ]
  },
  {
   "cell_type": "code",
   "execution_count": 11,
   "id": "3c59b686-7e72-4ce4-8e17-cc6a1141419a",
   "metadata": {},
   "outputs": [
    {
     "data": {
      "text/plain": [
       "{'name': 'Mary', 'age': 17}"
      ]
     },
     "execution_count": 11,
     "metadata": {},
     "output_type": "execute_result"
    }
   ],
   "source": [
    "p2.__dict__ # It gives us attributes of p2 object"
   ]
  },
  {
   "cell_type": "code",
   "execution_count": 12,
   "id": "08bac5c7-4f50-4c48-adf0-12a302215586",
   "metadata": {},
   "outputs": [
    {
     "data": {
      "text/plain": [
       "['__class__',\n",
       " '__delattr__',\n",
       " '__dict__',\n",
       " '__dir__',\n",
       " '__doc__',\n",
       " '__eq__',\n",
       " '__format__',\n",
       " '__ge__',\n",
       " '__getattribute__',\n",
       " '__getstate__',\n",
       " '__gt__',\n",
       " '__hash__',\n",
       " '__init__',\n",
       " '__init_subclass__',\n",
       " '__le__',\n",
       " '__lt__',\n",
       " '__module__',\n",
       " '__ne__',\n",
       " '__new__',\n",
       " '__reduce__',\n",
       " '__reduce_ex__',\n",
       " '__repr__',\n",
       " '__setattr__',\n",
       " '__sizeof__',\n",
       " '__str__',\n",
       " '__subclasshook__',\n",
       " '__weakref__',\n",
       " 'age',\n",
       " 'is_eligible',\n",
       " 'name',\n",
       " 'say_hello']"
      ]
     },
     "execution_count": 12,
     "metadata": {},
     "output_type": "execute_result"
    }
   ],
   "source": [
    "dir(p1)"
   ]
  },
  {
   "cell_type": "code",
   "execution_count": 13,
   "id": "9a7c3cd3-94fb-4960-b4c6-2ddff500c48f",
   "metadata": {},
   "outputs": [],
   "source": [
    "# Define a class called student"
   ]
  },
  {
   "cell_type": "code",
   "execution_count": 14,
   "id": "6ffccb4c-32df-4b91-9d95-ef12715a1c6b",
   "metadata": {},
   "outputs": [],
   "source": [
    "class Student:\n",
    "  def __init__(self,name,marks,course): #self is always 1st parameter for the constructor\n",
    "  # create and initialize the object\n",
    "    self.name = name\n",
    "    self.marks = marks\n",
    "    self.course = course\n",
    "  # define a method\n",
    "  def grades(self):\n",
    "    if self.marks >= 80:\n",
    "      return 'Distinction'\n",
    "    elif self.marks >= 60:\n",
    "      return 'First Class'\n",
    "    elif self.marks >= 50:\n",
    "      return 'Second Class'\n",
    "    else:\n",
    "      return 'Fail'"
   ]
  },
  {
   "cell_type": "code",
   "execution_count": 15,
   "id": "1917df84-60c2-45df-89f5-76c7c63be0de",
   "metadata": {},
   "outputs": [],
   "source": [
    "# create  student of type student\n",
    "s1=Student('Tom',75,'Python')"
   ]
  },
  {
   "cell_type": "code",
   "execution_count": 16,
   "id": "9c5312ea-533a-4ab3-894f-5b7a84986b3a",
   "metadata": {},
   "outputs": [
    {
     "data": {
      "text/plain": [
       "{'name': 'Tom', 'marks': 75, 'course': 'Python'}"
      ]
     },
     "execution_count": 16,
     "metadata": {},
     "output_type": "execute_result"
    }
   ],
   "source": [
    "s1.__dict__"
   ]
  },
  {
   "cell_type": "code",
   "execution_count": 17,
   "id": "7c39fe75-6a0a-43db-bac0-5c19f0c51508",
   "metadata": {},
   "outputs": [],
   "source": [
    "s2=Student('Mary',45,'Daa Science')"
   ]
  },
  {
   "cell_type": "code",
   "execution_count": 18,
   "id": "7f7fce74-c628-4c7c-9dc5-ba4ab6c8e336",
   "metadata": {},
   "outputs": [
    {
     "data": {
      "text/plain": [
       "{'name': 'Mary', 'marks': 45, 'course': 'Daa Science'}"
      ]
     },
     "execution_count": 18,
     "metadata": {},
     "output_type": "execute_result"
    }
   ],
   "source": [
    "s2.__dict__"
   ]
  },
  {
   "cell_type": "code",
   "execution_count": 19,
   "id": "52d0b307-eb8b-4379-9a88-f5a66c585da7",
   "metadata": {},
   "outputs": [
    {
     "data": {
      "text/plain": [
       "'Tom'"
      ]
     },
     "execution_count": 19,
     "metadata": {},
     "output_type": "execute_result"
    }
   ],
   "source": [
    "s1.name"
   ]
  },
  {
   "cell_type": "code",
   "execution_count": 20,
   "id": "ab9a8286-c72b-46c7-8a3e-1bfbf9bce2d8",
   "metadata": {},
   "outputs": [
    {
     "data": {
      "text/plain": [
       "'Mary'"
      ]
     },
     "execution_count": 20,
     "metadata": {},
     "output_type": "execute_result"
    }
   ],
   "source": [
    "s2.name"
   ]
  },
  {
   "cell_type": "code",
   "execution_count": 21,
   "id": "283449c2-9daa-4aca-8edd-d8706fd60ed4",
   "metadata": {},
   "outputs": [
    {
     "data": {
      "text/plain": [
       "'First Class'"
      ]
     },
     "execution_count": 21,
     "metadata": {},
     "output_type": "execute_result"
    }
   ],
   "source": [
    "s1.grades()"
   ]
  },
  {
   "cell_type": "code",
   "execution_count": 22,
   "id": "622186ec-7583-489a-9cde-f130f4e590a0",
   "metadata": {},
   "outputs": [
    {
     "data": {
      "text/plain": [
       "'Fail'"
      ]
     },
     "execution_count": 22,
     "metadata": {},
     "output_type": "execute_result"
    }
   ],
   "source": [
    "s2.grades()"
   ]
  },
  {
   "cell_type": "code",
   "execution_count": 23,
   "id": "692ddf12-4efe-40c0-9001-391bae78efc9",
   "metadata": {},
   "outputs": [],
   "source": [
    "s1.name='Thomas'"
   ]
  },
  {
   "cell_type": "code",
   "execution_count": 24,
   "id": "846f6fdb-9ad0-4c87-9cad-4bc38ababe7a",
   "metadata": {},
   "outputs": [
    {
     "data": {
      "text/plain": [
       "'Thomas'"
      ]
     },
     "execution_count": 24,
     "metadata": {},
     "output_type": "execute_result"
    }
   ],
   "source": [
    "s1.name"
   ]
  },
  {
   "cell_type": "code",
   "execution_count": 25,
   "id": "1fdbd6f3-561d-43f3-9cfa-9e1d507c01fc",
   "metadata": {},
   "outputs": [
    {
     "data": {
      "text/plain": [
       "{'name': 'Thomas', 'marks': 75, 'course': 'Python'}"
      ]
     },
     "execution_count": 25,
     "metadata": {},
     "output_type": "execute_result"
    }
   ],
   "source": [
    "s1.__dict__"
   ]
  },
  {
   "cell_type": "code",
   "execution_count": 26,
   "id": "58919b14-cdcc-4d5a-95d3-a8ace9440b70",
   "metadata": {},
   "outputs": [
    {
     "data": {
      "text/plain": [
       "__main__.Student"
      ]
     },
     "execution_count": 26,
     "metadata": {},
     "output_type": "execute_result"
    }
   ],
   "source": [
    "type(s1)"
   ]
  },
  {
   "cell_type": "markdown",
   "id": "0c137fcf-2ee9-48ee-8c9e-30d976cd338f",
   "metadata": {},
   "source": [
    "# Inheritance"
   ]
  },
  {
   "cell_type": "code",
   "execution_count": 27,
   "id": "3f15106a-5a36-4da5-8713-2f6292506e6e",
   "metadata": {},
   "outputs": [],
   "source": [
    "class Person:\n",
    "  # Define the constructor\n",
    "  def __init__(self,name,age):\n",
    "    self.name = name\n",
    "    self.age = age\n",
    "  # Define instance methods\n",
    "  def say_hello(self):\n",
    "    print(f'{self.name} says hello')\n",
    "  def is_eligible(self):\n",
    "    if self.age > 18:\n",
    "      return 'Eligible'\n",
    "    else:\n",
    "      return 'Underage'"
   ]
  },
  {
   "cell_type": "code",
   "execution_count": 28,
   "id": "81428caa-80b0-40ff-b06c-a326f262566d",
   "metadata": {},
   "outputs": [],
   "source": [
    "#Define the Derived Classes"
   ]
  },
  {
   "cell_type": "code",
   "execution_count": 29,
   "id": "9392e9e4-ce23-41a9-9e0e-0a017fd4382a",
   "metadata": {},
   "outputs": [],
   "source": [
    "class Astronaut(Person):\n",
    "  def __init__(self,name,age,type): # this is constructor of Derived class\n",
    "    # Call Constructor of Base/Super Class\n",
    "    # Before setting parameters of Astronaut class we should call base class's init method.\n",
    "    # Because Astronaut has all properties of Person(base) class i.e. 'name,age' and specific property of Astronaut as 'type'.\n",
    "    # To call init() method of Person class use super().__init__()\n",
    "    # initialize super class and derived class attributes\n",
    "    super().__init__(name,age) # it will initialize name and age of base class\n",
    "    self.type = type # it will initialize type of derived class\n",
    "# define method of derived class\n",
    "  def launch_satellite(self):\n",
    "    print(f'{self.name} is launching a satellite.')"
   ]
  },
  {
   "cell_type": "code",
   "execution_count": 30,
   "id": "8d3870bb-8225-4c29-b25d-ac67fd92fd57",
   "metadata": {},
   "outputs": [],
   "source": [
    "s1=Astronaut('Tom',32,'Pilot')"
   ]
  },
  {
   "cell_type": "code",
   "execution_count": 31,
   "id": "cf11748c-468f-4b90-8371-81d7374f6a01",
   "metadata": {},
   "outputs": [],
   "source": [
    "s1=Astronaut('Mary',25,'Pilot')"
   ]
  },
  {
   "cell_type": "code",
   "execution_count": 32,
   "id": "86da5056-e3cb-4f52-a28d-5f58fa1674b4",
   "metadata": {},
   "outputs": [
    {
     "name": "stdout",
     "output_type": "stream",
     "text": [
      "Mary is launching a satellite.\n"
     ]
    }
   ],
   "source": [
    "s1.launch_satellite()"
   ]
  },
  {
   "cell_type": "code",
   "execution_count": 33,
   "id": "b55cef06-a7a7-45ae-af60-50356c97f073",
   "metadata": {},
   "outputs": [
    {
     "name": "stdout",
     "output_type": "stream",
     "text": [
      "Mary says hello\n"
     ]
    }
   ],
   "source": [
    "# Method from base class\n",
    "s1.say_hello()"
   ]
  },
  {
   "cell_type": "code",
   "execution_count": 34,
   "id": "7e99ed36-eaac-4105-95db-a7e27730db01",
   "metadata": {},
   "outputs": [
    {
     "data": {
      "text/plain": [
       "'Eligible'"
      ]
     },
     "execution_count": 34,
     "metadata": {},
     "output_type": "execute_result"
    }
   ],
   "source": [
    "s1.is_eligible()"
   ]
  },
  {
   "cell_type": "code",
   "execution_count": 35,
   "id": "67cb0894-810d-45ba-a0fa-5091c89a3659",
   "metadata": {},
   "outputs": [],
   "source": [
    "class Dancer(Person):\n",
    "  def __init__(self,name,age,genre): # this is constructor of Derived class\n",
    "    # Call Constructor of Base/Super Class\n",
    "    # initialize super class and derived class attributes\n",
    "    super().__init__(name,age) # it will initialize name and age of base class\n",
    "    self.genre = genre # it will initialize type of derived class\n",
    "# define methods of derived class\n",
    "  def dance(self):\n",
    "    print(f'{self.name} is performing a {self.genre} dance')"
   ]
  },
  {
   "cell_type": "code",
   "execution_count": 36,
   "id": "318e6535-e4c9-4504-a740-4d4b47506f3b",
   "metadata": {},
   "outputs": [],
   "source": [
    "d1 = Dancer('Kate',32,'Classical')"
   ]
  },
  {
   "cell_type": "code",
   "execution_count": 37,
   "id": "5bb1f32d-e8bd-44e9-b8e6-078a62c42fd3",
   "metadata": {},
   "outputs": [],
   "source": [
    "d2 = Dancer('Madhuri',45,'Bollywood')"
   ]
  },
  {
   "cell_type": "code",
   "execution_count": 38,
   "id": "bc26ab40-8440-432e-9138-d87e810b5686",
   "metadata": {},
   "outputs": [
    {
     "name": "stdout",
     "output_type": "stream",
     "text": [
      "Kate is performing a Classical dance\n"
     ]
    }
   ],
   "source": [
    "d1.dance()"
   ]
  },
  {
   "cell_type": "code",
   "execution_count": 39,
   "id": "8eab1c6b-046d-46b4-b603-5d065ba3e606",
   "metadata": {},
   "outputs": [
    {
     "name": "stdout",
     "output_type": "stream",
     "text": [
      "Madhuri is performing a Bollywood dance\n"
     ]
    }
   ],
   "source": [
    "d2.dance()"
   ]
  },
  {
   "cell_type": "markdown",
   "id": "159dc2e1-d902-4046-8a17-e7d85194b8f4",
   "metadata": {},
   "source": [
    "# Variable Type"
   ]
  },
  {
   "cell_type": "code",
   "execution_count": 40,
   "id": "ca7d1342-0d0a-4822-a9ec-01d216989bed",
   "metadata": {},
   "outputs": [],
   "source": [
    "# Private and Publc Vriables"
   ]
  },
  {
   "cell_type": "code",
   "execution_count": 41,
   "id": "1b74f3e1-a9e1-4f7b-b176-ce3ab61708e4",
   "metadata": {},
   "outputs": [],
   "source": [
    "class Person:\n",
    "  def __init__(self,name,age):\n",
    "    self.name = name # public attribute\n",
    "    self.__age = age # private attribute"
   ]
  },
  {
   "cell_type": "code",
   "execution_count": 42,
   "id": "099c25e5-74df-456f-a1ec-e73e35f98027",
   "metadata": {},
   "outputs": [],
   "source": [
    "p=Person('Tom',25)"
   ]
  },
  {
   "cell_type": "code",
   "execution_count": 43,
   "id": "71af404c-7dcb-40be-9e00-dad47c9e4127",
   "metadata": {},
   "outputs": [
    {
     "data": {
      "text/plain": [
       "'Tom'"
      ]
     },
     "execution_count": 43,
     "metadata": {},
     "output_type": "execute_result"
    }
   ],
   "source": [
    "p.name"
   ]
  },
  {
   "cell_type": "code",
   "execution_count": 44,
   "id": "15eb2f5a-7e61-4a1f-9ed3-51dd2290b0bf",
   "metadata": {},
   "outputs": [],
   "source": [
    "class Person:\n",
    "  def __init__(self,name,age):\n",
    "    self.name = name # public attribute\n",
    "    self.__age = age # private attribute\n",
    "  def get_age(self):\n",
    "    return self.__age"
   ]
  },
  {
   "cell_type": "code",
   "execution_count": 45,
   "id": "7fdf40b2-04e6-444b-8fbd-ff151cb5a620",
   "metadata": {},
   "outputs": [],
   "source": [
    "p=Person('Thomas',25)"
   ]
  },
  {
   "cell_type": "code",
   "execution_count": 46,
   "id": "c66b4a87-2ff4-4cff-89fa-a2d16e2385dd",
   "metadata": {},
   "outputs": [
    {
     "data": {
      "text/plain": [
       "'Thomas'"
      ]
     },
     "execution_count": 46,
     "metadata": {},
     "output_type": "execute_result"
    }
   ],
   "source": [
    "p.name"
   ]
  },
  {
   "cell_type": "code",
   "execution_count": 47,
   "id": "aebdda23-8eae-40c5-89f3-469069d6f0ab",
   "metadata": {},
   "outputs": [
    {
     "data": {
      "text/plain": [
       "25"
      ]
     },
     "execution_count": 47,
     "metadata": {},
     "output_type": "execute_result"
    }
   ],
   "source": [
    "p.get_age()"
   ]
  },
  {
   "cell_type": "code",
   "execution_count": 48,
   "id": "5cdbd82a-8651-429a-9b0e-45fce164547e",
   "metadata": {},
   "outputs": [],
   "source": [
    "class Person:\n",
    "  def __init__(self,name,age):\n",
    "    self.name = name # public attribute\n",
    "    self.__age = age # private attribute\n",
    "  def get_age(self):\n",
    "    return self.__age\n",
    "  def set_age(self,age): # to change age\n",
    "    self.__age = age"
   ]
  },
  {
   "cell_type": "code",
   "execution_count": 49,
   "id": "96f24c89-986c-460f-a28e-0d5ccbb99265",
   "metadata": {},
   "outputs": [],
   "source": [
    "p=Person('Thomas',25)"
   ]
  },
  {
   "cell_type": "code",
   "execution_count": 50,
   "id": "aace0aba-e328-45b9-95e5-d5e49107d66c",
   "metadata": {},
   "outputs": [],
   "source": [
    "p.set_age(35)"
   ]
  },
  {
   "cell_type": "code",
   "execution_count": 51,
   "id": "313bf30f-cbd3-4b69-9ffd-0a94077cadf0",
   "metadata": {},
   "outputs": [
    {
     "data": {
      "text/plain": [
       "35"
      ]
     },
     "execution_count": 51,
     "metadata": {},
     "output_type": "execute_result"
    }
   ],
   "source": [
    "p.get_age()"
   ]
  },
  {
   "cell_type": "markdown",
   "id": "e587232c-7ab8-4dbf-bc38-f4ed661d977c",
   "metadata": {},
   "source": [
    "# Polymorphism"
   ]
  },
  {
   "cell_type": "code",
   "execution_count": 52,
   "id": "31ebd38c-fac4-4660-9d16-67a8b806cdbc",
   "metadata": {},
   "outputs": [],
   "source": [
    "class Person:\n",
    "  # Define the constructor\n",
    "  def __init__(self,name,age):\n",
    "    self.name = name\n",
    "    self.age = age\n",
    "  # Define instance methods\n",
    "  def say_hello(self):\n",
    "    print(f'{self.name} says Hello from parent class.')"
   ]
  },
  {
   "cell_type": "code",
   "execution_count": 53,
   "id": "53c4e333-29f1-4cde-83ad-fb9fb14aaf81",
   "metadata": {},
   "outputs": [],
   "source": [
    "class Astronaut(Person):\n",
    "  # Constructor of the derived class\n",
    "  def __init__(self,name,age,type):\n",
    "    # Call the constructor of the base/super class\n",
    "    super().__init__(name,age)\n",
    "    # Initialise the derived class attributes\n",
    "    self.type = type\n",
    "  def launch_satellite(self):\n",
    "    print(f'{self.name} is launching a satellite.')\n",
    "  def say_hello(self):\n",
    "    print(f'{self.type} says Hello from derived class.')"
   ]
  },
  {
   "cell_type": "code",
   "execution_count": 54,
   "id": "2897dec7-6e45-4b23-9df1-3efd2e8068fb",
   "metadata": {},
   "outputs": [],
   "source": [
    "p = Person('Tom',25)"
   ]
  },
  {
   "cell_type": "code",
   "execution_count": 55,
   "id": "eb1412c8-08ed-41de-819d-404eee98885d",
   "metadata": {},
   "outputs": [],
   "source": [
    "a = Astronaut('Alex',35,'Pilot')"
   ]
  },
  {
   "cell_type": "code",
   "execution_count": 56,
   "id": "6fa1bc14-3b2a-45aa-b7ff-d55bbc9a3e23",
   "metadata": {},
   "outputs": [
    {
     "name": "stdout",
     "output_type": "stream",
     "text": [
      "Tom says Hello from parent class.\n"
     ]
    }
   ],
   "source": [
    "p.say_hello()"
   ]
  },
  {
   "cell_type": "code",
   "execution_count": 57,
   "id": "46dcc24a-66fe-4eb8-b135-a05fe5e87616",
   "metadata": {},
   "outputs": [
    {
     "name": "stdout",
     "output_type": "stream",
     "text": [
      "Pilot says Hello from derived class.\n"
     ]
    }
   ],
   "source": [
    "a.say_hello()"
   ]
  }
 ],
 "metadata": {
  "kernelspec": {
   "display_name": "Python 3 (ipykernel)",
   "language": "python",
   "name": "python3"
  },
  "language_info": {
   "codemirror_mode": {
    "name": "ipython",
    "version": 3
   },
   "file_extension": ".py",
   "mimetype": "text/x-python",
   "name": "python",
   "nbconvert_exporter": "python",
   "pygments_lexer": "ipython3",
   "version": "3.12.7"
  }
 },
 "nbformat": 4,
 "nbformat_minor": 5
}
