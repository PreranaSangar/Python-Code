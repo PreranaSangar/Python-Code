{
 "cells": [
  {
   "cell_type": "markdown",
   "id": "d69a4a0e-94f0-4d3e-bdb5-5102acee0f18",
   "metadata": {},
   "source": [
    "# 1. Basics of Variables in Python"
   ]
  },
  {
   "cell_type": "code",
   "execution_count": 1,
   "id": "944dd89a-95b8-4c75-88f1-d692c80f889b",
   "metadata": {},
   "outputs": [
    {
     "name": "stdout",
     "output_type": "stream",
     "text": [
      "10 3.14 Prerana True\n"
     ]
    }
   ],
   "source": [
    "# assigning values\n",
    "x = 10            # integer\n",
    "y = 3.14          # float\n",
    "name = \"Prerana\"  # string\n",
    "is_student = True # boolean\n",
    "\n",
    "print(x, y, name, is_student)"
   ]
  },
  {
   "cell_type": "markdown",
   "id": "a57eb31a-2691-4272-bd42-561d3d69ad15",
   "metadata": {},
   "source": [
    "# 2. Type Checking & Casting"
   ]
  },
  {
   "cell_type": "code",
   "execution_count": 2,
   "id": "e4069e5e-3e12-42e3-b4cc-0700d63109ca",
   "metadata": {},
   "outputs": [
    {
     "name": "stdout",
     "output_type": "stream",
     "text": [
      "1 2 3\n"
     ]
    }
   ],
   "source": [
    "a, b, c = 1, 2, 3\n",
    "print(a, b, c)   # 1 2"
   ]
  },
  {
   "cell_type": "code",
   "execution_count": 3,
   "id": "44428229-a188-4231-a4a8-adaeda3b5e28",
   "metadata": {},
   "outputs": [
    {
     "name": "stdout",
     "output_type": "stream",
     "text": [
      "100 100 100\n"
     ]
    }
   ],
   "source": [
    "p = q = r = 100\n",
    "print(p, q, r)   # 100 100 100"
   ]
  },
  {
   "cell_type": "markdown",
   "id": "ed08dee2-7427-4134-a2b9-272afc800f2b",
   "metadata": {},
   "source": [
    "# 4. Dynamic Typing (Python feature)"
   ]
  },
  {
   "cell_type": "code",
   "execution_count": 4,
   "id": "edf64507-55f2-43cf-8c8b-07e2d3ba7f83",
   "metadata": {},
   "outputs": [
    {
     "name": "stdout",
     "output_type": "stream",
     "text": [
      "<class 'int'>\n"
     ]
    }
   ],
   "source": [
    "x = 10\n",
    "print(type(x))   # int"
   ]
  },
  {
   "cell_type": "code",
   "execution_count": 5,
   "id": "0082b62a-43fb-4f7c-a3f2-6d23d01eeffa",
   "metadata": {},
   "outputs": [
    {
     "name": "stdout",
     "output_type": "stream",
     "text": [
      "<class 'str'>\n"
     ]
    }
   ],
   "source": [
    "x = \"Now I am a string\"\n",
    "print(type(x))   # str"
   ]
  },
  {
   "cell_type": "markdown",
   "id": "42a187ef-6fcd-406f-a339-9dcbff46d5b0",
   "metadata": {},
   "source": [
    "# 5. Global vs Local Variables"
   ]
  },
  {
   "cell_type": "code",
   "execution_count": 6,
   "id": "cf65fc1f-81a1-40da-b7c8-a9799591f7a6",
   "metadata": {},
   "outputs": [
    {
     "name": "stdout",
     "output_type": "stream",
     "text": [
      "Inside function: 10\n",
      "Outside function: 50\n"
     ]
    }
   ],
   "source": [
    "x = 50  # global variable\n",
    "\n",
    "def my_function():\n",
    "    x = 10  # local variable\n",
    "    print(\"Inside function:\", x)\n",
    "\n",
    "my_function()\n",
    "print(\"Outside function:\", x)"
   ]
  },
  {
   "cell_type": "code",
   "execution_count": 7,
   "id": "d8925492-da21-4729-8837-44e1e2afcc9b",
   "metadata": {},
   "outputs": [
    {
     "name": "stdout",
     "output_type": "stream",
     "text": [
      "100\n"
     ]
    }
   ],
   "source": [
    "x = 50\n",
    "\n",
    "def change_global():\n",
    "    global x\n",
    "    x = 100\n",
    "\n",
    "change_global()\n",
    "print(x)   # 100"
   ]
  },
  {
   "cell_type": "markdown",
   "id": "537ee2ca-9c51-458e-afa7-753fd2fb1d2d",
   "metadata": {},
   "source": [
    "# 6. Advanced Concepts"
   ]
  },
  {
   "cell_type": "code",
   "execution_count": 8,
   "id": "b620ae63-043f-4f92-a355-0683a8a4f5b1",
   "metadata": {},
   "outputs": [],
   "source": [
    "# (a) Variables inside Data Structures"
   ]
  },
  {
   "cell_type": "code",
   "execution_count": 9,
   "id": "9e835dd7-ccf0-4204-8740-2f7cc2c0e0b6",
   "metadata": {},
   "outputs": [
    {
     "name": "stdout",
     "output_type": "stream",
     "text": [
      "Prerana\n",
      "253\n"
     ]
    }
   ],
   "source": [
    "student = {\n",
    "    \"name\": \"Prerana\",\n",
    "    \"age\": 23,\n",
    "    \"marks\": [85, 90, 78],\n",
    "    \"is_passed\": True\n",
    "}\n",
    "\n",
    "print(student[\"name\"])        # Prerana\n",
    "print(sum(student[\"marks\"]))  # 253"
   ]
  },
  {
   "cell_type": "code",
   "execution_count": 10,
   "id": "cef87c83-b660-4977-9889-b138585eb88f",
   "metadata": {},
   "outputs": [],
   "source": [
    "# (b) f-Strings (Variable Interpolation)"
   ]
  },
  {
   "cell_type": "code",
   "execution_count": 11,
   "id": "8caa7c75-db38-40c1-8445-f5ac2dd8ecc8",
   "metadata": {},
   "outputs": [
    {
     "name": "stdout",
     "output_type": "stream",
     "text": [
      "Hello Prerana, your score is 92.\n"
     ]
    }
   ],
   "source": [
    "name = \"Prerana\"\n",
    "score = 92\n",
    "print(f\"Hello {name}, your score is {score}.\")  "
   ]
  },
  {
   "cell_type": "code",
   "execution_count": 12,
   "id": "7ab96a43-567b-4eb7-b01f-3938ae1fc8f2",
   "metadata": {},
   "outputs": [],
   "source": [
    "# (c) Using Variables with Functions"
   ]
  },
  {
   "cell_type": "code",
   "execution_count": 13,
   "id": "4b345733-f928-47f4-89fb-295d21ae7857",
   "metadata": {},
   "outputs": [
    {
     "name": "stdout",
     "output_type": "stream",
     "text": [
      "Area: 15\n"
     ]
    }
   ],
   "source": [
    "def calculate_area(length, width):\n",
    "    area = length * width\n",
    "    return area\n",
    "\n",
    "l, w = 5, 3\n",
    "print(\"Area:\", calculate_area(l, w))"
   ]
  },
  {
   "cell_type": "code",
   "execution_count": 14,
   "id": "d008037b-5173-4220-96ba-56eaa6b852ee",
   "metadata": {},
   "outputs": [],
   "source": [
    "# (d) Variables with Classes (Object-Oriented)"
   ]
  },
  {
   "cell_type": "code",
   "execution_count": 15,
   "id": "4382ecac-17c5-4f87-89b3-0ab2429fa680",
   "metadata": {},
   "outputs": [
    {
     "name": "stdout",
     "output_type": "stream",
     "text": [
      "Prerana's Average Marks: 90.0\n"
     ]
    }
   ],
   "source": [
    "class Student:\n",
    "    def __init__(self, name, marks):\n",
    "        self.name = name      # instance variable\n",
    "        self.marks = marks\n",
    "    \n",
    "    def average(self):\n",
    "        return sum(self.marks) / len(self.marks)\n",
    "\n",
    "s1 = Student(\"Prerana\", [85, 90, 95])\n",
    "print(f\"{s1.name}'s Average Marks:\", s1.average())"
   ]
  },
  {
   "cell_type": "code",
   "execution_count": 16,
   "id": "b6626125-5c36-4c11-ac37-f3a0ca558dab",
   "metadata": {},
   "outputs": [],
   "source": [
    "# (e) Using Environment Variables (Advanced)"
   ]
  },
  {
   "cell_type": "code",
   "execution_count": 17,
   "id": "860e04b1-50b0-4363-8f70-f0c40450f82b",
   "metadata": {},
   "outputs": [
    {
     "name": "stdout",
     "output_type": "stream",
     "text": [
      "Using API Key: 12345abcd\n"
     ]
    }
   ],
   "source": [
    "import os\n",
    "\n",
    "# set environment variable (in real projects, set in system/IDE)\n",
    "os.environ[\"API_KEY\"] = \"12345abcd\"\n",
    "\n",
    "# access it\n",
    "api_key = os.getenv(\"API_KEY\")\n",
    "print(\"Using API Key:\", api_key)"
   ]
  },
  {
   "cell_type": "code",
   "execution_count": 18,
   "id": "89e19292-0633-4276-bb1c-de6deb167c36",
   "metadata": {},
   "outputs": [],
   "source": [
    "# (f) Variables in Data Analysis (Pandas)"
   ]
  },
  {
   "cell_type": "code",
   "execution_count": 19,
   "id": "47815083-3194-4ff3-9cc3-4b7902872ce5",
   "metadata": {},
   "outputs": [],
   "source": [
    "import pandas as pd"
   ]
  },
  {
   "cell_type": "code",
   "execution_count": 20,
   "id": "cd16c7c4-f0b4-4b8b-810a-e1d1b6ac86e5",
   "metadata": {},
   "outputs": [],
   "source": [
    "# create DataFrame using variables\n",
    "data = {\n",
    "    \"Name\": [\"Prerana\", \"Amit\", \"Riya\"],\n",
    "    \"Age\": [23, 25, 22],\n",
    "    \"Score\": [90, 85, 88]\n",
    "}"
   ]
  },
  {
   "cell_type": "code",
   "execution_count": 21,
   "id": "b0268865-e75b-4f82-a450-631ca95427dd",
   "metadata": {},
   "outputs": [
    {
     "name": "stdout",
     "output_type": "stream",
     "text": [
      "      Name  Age  Score\n",
      "0  Prerana   23     90\n",
      "1     Amit   25     85\n",
      "2     Riya   22     88\n"
     ]
    }
   ],
   "source": [
    "df = pd.DataFrame(data)\n",
    "print(df)"
   ]
  },
  {
   "cell_type": "code",
   "execution_count": 22,
   "id": "e0ed919e-1026-47cf-91e8-0a2934a950bf",
   "metadata": {},
   "outputs": [
    {
     "name": "stdout",
     "output_type": "stream",
     "text": [
      "Filtered Data:\n",
      "    Name  Age  Score\n",
      "1  Amit   25     85\n"
     ]
    }
   ],
   "source": [
    "# use variables to filter data\n",
    "age_limit = 23\n",
    "filtered = df[df[\"Age\"] > age_limit]\n",
    "print(\"Filtered Data:\\n\", filtered)"
   ]
  }
 ],
 "metadata": {
  "kernelspec": {
   "display_name": "Python 3 (ipykernel)",
   "language": "python",
   "name": "python3"
  },
  "language_info": {
   "codemirror_mode": {
    "name": "ipython",
    "version": 3
   },
   "file_extension": ".py",
   "mimetype": "text/x-python",
   "name": "python",
   "nbconvert_exporter": "python",
   "pygments_lexer": "ipython3",
   "version": "3.12.7"
  }
 },
 "nbformat": 4,
 "nbformat_minor": 5
}
