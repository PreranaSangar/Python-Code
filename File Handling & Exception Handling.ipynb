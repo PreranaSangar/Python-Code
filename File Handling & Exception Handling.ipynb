{
 "cells": [
  {
   "cell_type": "markdown",
   "id": "a7be36ad-14ba-4186-b3f7-51915ee9b792",
   "metadata": {},
   "source": [
    "# File Handling"
   ]
  },
  {
   "cell_type": "raw",
   "id": "1b3c2e1e-c129-44d6-b605-30ed135e9f97",
   "metadata": {},
   "source": [
    "Opening File"
   ]
  },
  {
   "cell_type": "code",
   "execution_count": 1,
   "id": "7f5174c3-b387-47ad-bfa3-61aff018f82b",
   "metadata": {},
   "outputs": [],
   "source": [
    "file=open(r'C:\\Users\\admin\\Desktop\\py\\16 & 17 sept\\test.txt')"
   ]
  },
  {
   "cell_type": "raw",
   "id": "feb5014c-ac0f-4feb-bf44-d9879b7ff4aa",
   "metadata": {},
   "source": [
    "Reading File"
   ]
  },
  {
   "cell_type": "code",
   "execution_count": 2,
   "id": "73ba9b1a-748f-4e16-b1f6-b0a1f7cadefd",
   "metadata": {},
   "outputs": [
    {
     "name": "stdout",
     "output_type": "stream",
     "text": [
      "This file is created to learn File Handling using Python.\n",
      "Hello World!\n",
      "How are you?\n"
     ]
    }
   ],
   "source": [
    "file=open(r'C:\\Users\\admin\\Desktop\\py\\16 & 17 sept\\test.txt','r')\n",
    "content=file.read()\n",
    "print(content)"
   ]
  },
  {
   "cell_type": "raw",
   "id": "18c7156b-d600-4aec-8cfb-fc41a57340bb",
   "metadata": {},
   "source": [
    "Closing File"
   ]
  },
  {
   "cell_type": "code",
   "execution_count": 3,
   "id": "f1a2706e-0262-4aac-93c3-4f9c68f11403",
   "metadata": {},
   "outputs": [],
   "source": [
    "file.close()"
   ]
  },
  {
   "cell_type": "markdown",
   "id": "ffc96255-b11c-4e37-9b88-102696a27c24",
   "metadata": {},
   "source": [
    "# Checking file Operation"
   ]
  },
  {
   "cell_type": "code",
   "execution_count": 4,
   "id": "477f0fe3-a1b4-4ea3-b5be-75170b373b2b",
   "metadata": {},
   "outputs": [
    {
     "name": "stdout",
     "output_type": "stream",
     "text": [
      "Filename: C:\\Users\\admin\\Desktop\\py\\16 & 17 sept\\test.txt\n",
      "Mode: r\n",
      "Is Closed? False\n",
      "Is Closed? True\n"
     ]
    }
   ],
   "source": [
    "f=open(r'C:\\Users\\admin\\Desktop\\py\\16 & 17 sept\\test.txt','r')\n",
    "print(\"Filename:\", f.name)\n",
    "print(\"Mode:\", f.mode)\n",
    "print(\"Is Closed?\", f.closed)\n",
    "# Now let us close the file\n",
    "f.close()\n",
    "print(\"Is Closed?\", f.closed)\n"
   ]
  },
  {
   "cell_type": "raw",
   "id": "429e6f74-f03e-42b4-8fd6-5dcdcfdf43f6",
   "metadata": {},
   "source": [
    "Using with Statement"
   ]
  },
  {
   "cell_type": "code",
   "execution_count": 5,
   "id": "7cc98d74-c3f3-4b0b-8427-c80fb28c2128",
   "metadata": {},
   "outputs": [
    {
     "name": "stdout",
     "output_type": "stream",
     "text": [
      "This file is created to learn File Handling using Python.\n",
      "Hello World!\n",
      "How are you?\n"
     ]
    }
   ],
   "source": [
    "with open(r'C:\\Users\\admin\\Desktop\\py\\16 & 17 sept\\test.txt','r') as file:\n",
    "    content = file.read()\n",
    "    print(content)"
   ]
  },
  {
   "cell_type": "code",
   "execution_count": 6,
   "id": "0a8f9e55-527a-4fde-9a2e-3daa33500286",
   "metadata": {},
   "outputs": [
    {
     "name": "stdout",
     "output_type": "stream",
     "text": [
      "Is Closed? True\n"
     ]
    }
   ],
   "source": [
    "print(\"Is Closed?\", file.closed)"
   ]
  },
  {
   "cell_type": "code",
   "execution_count": 7,
   "id": "a7e8bd47-e92c-4c7d-a157-209b11290785",
   "metadata": {},
   "outputs": [
    {
     "name": "stdout",
     "output_type": "stream",
     "text": [
      "This file is created to learn File Handling using Python.\n"
     ]
    }
   ],
   "source": [
    "# read(size)\n",
    "fp = open(r'C:\\Users\\admin\\Desktop\\py\\16 & 17 sept\\test.txt','r')\n",
    "print(fp.read(57))\n",
    "fp.close()"
   ]
  },
  {
   "cell_type": "code",
   "execution_count": 8,
   "id": "541fca43-a487-4b05-93b0-313253f91f40",
   "metadata": {},
   "outputs": [
    {
     "name": "stdout",
     "output_type": "stream",
     "text": [
      "is created to learn File Handling using Python.\n",
      "Hello World!\n",
      "How are you?\n"
     ]
    }
   ],
   "source": [
    "fp = open(r'C:\\Users\\admin\\Desktop\\py\\16 & 17 sept\\test.txt','r')\n",
    "fp.seek(10) # excluding first 10 characters displaying all characters\n",
    "print(fp.read())\n",
    "fp.close()"
   ]
  },
  {
   "cell_type": "code",
   "execution_count": 9,
   "id": "f3aa8234-d9e8-401a-9ea3-290fc9a3bad3",
   "metadata": {},
   "outputs": [],
   "source": [
    "# readline() : read one line at a time"
   ]
  },
  {
   "cell_type": "code",
   "execution_count": 10,
   "id": "d800d3e2-2c55-4f2b-9ed5-2d1501decf38",
   "metadata": {},
   "outputs": [
    {
     "name": "stdout",
     "output_type": "stream",
     "text": [
      "This file is created to learn File Handling using Python.\n",
      "\n"
     ]
    }
   ],
   "source": [
    "fp = open(r'C:\\Users\\admin\\Desktop\\py\\16 & 17 sept\\test.txt','r')\n",
    "print(fp.readline())"
   ]
  },
  {
   "cell_type": "code",
   "execution_count": 11,
   "id": "a3e90bb9-49e9-45f4-b4ca-2ba653f21866",
   "metadata": {},
   "outputs": [
    {
     "name": "stdout",
     "output_type": "stream",
     "text": [
      "This file is created to learn File Handling using Python.\n",
      "\n",
      "Hello World!\n",
      "\n"
     ]
    }
   ],
   "source": [
    "fp = open(r'C:\\Users\\admin\\Desktop\\py\\16 & 17 sept\\test.txt','r')\n",
    "print(fp.readline())\n",
    "print(fp.readline())"
   ]
  },
  {
   "cell_type": "code",
   "execution_count": 12,
   "id": "bb5295b5-537f-4f7f-87db-51fb69a62fe6",
   "metadata": {},
   "outputs": [
    {
     "name": "stdout",
     "output_type": "stream",
     "text": [
      "This file is created to learn File Handling using Python.\n",
      "\n",
      "Hello World!\n",
      "\n",
      "How are you?\n"
     ]
    }
   ],
   "source": [
    "fp = open(r'C:\\Users\\admin\\Desktop\\py\\16 & 17 sept\\test.txt','r')\n",
    "print(fp.readline())\n",
    "print(fp.readline())\n",
    "print(fp.readline())"
   ]
  },
  {
   "cell_type": "code",
   "execution_count": 13,
   "id": "d69129e6-9e14-4602-937e-1ab75ffb22d2",
   "metadata": {},
   "outputs": [
    {
     "name": "stdout",
     "output_type": "stream",
     "text": [
      "['Mango\\n', 'Apple\\n', 'Banana\\n', 'Orange\\n', 'Strawberry\\n', 'Pineapple\\n']\n"
     ]
    }
   ],
   "source": [
    "fp=open(r'C:\\Users\\admin\\Desktop\\py\\16 & 17 sept\\fruits.txt','r')\n",
    "print(fp.readlines())\n",
    "fp.close()"
   ]
  },
  {
   "cell_type": "code",
   "execution_count": 14,
   "id": "3a308d77-ce20-42e9-a942-2ba9fa40d3db",
   "metadata": {},
   "outputs": [
    {
     "name": "stdout",
     "output_type": "stream",
     "text": [
      "I\\nLOve\\nPython\n"
     ]
    }
   ],
   "source": [
    "print(r'I\\nLOve\\nPython')"
   ]
  },
  {
   "cell_type": "code",
   "execution_count": 15,
   "id": "e499d282-5b0d-4920-9234-d1c22a4263ee",
   "metadata": {},
   "outputs": [
    {
     "name": "stdout",
     "output_type": "stream",
     "text": [
      "Mango\n",
      "\n",
      "Apple\n",
      "\n",
      "Banana\n",
      "\n",
      "Orange\n",
      "\n",
      "Strawberry\n",
      "\n",
      "Pineapple\n",
      "\n"
     ]
    }
   ],
   "source": [
    "# To print without \\n escape character\n",
    "fp=open(r'C:\\Users\\admin\\Desktop\\py\\16 & 17 sept\\fruits.txt','r')\n",
    "for line in fp.readlines():\n",
    "    print(line)\n",
    "fp.close()"
   ]
  },
  {
   "cell_type": "code",
   "execution_count": 16,
   "id": "8036637d-08b0-41d7-9852-a8954c46ad0f",
   "metadata": {},
   "outputs": [
    {
     "name": "stdout",
     "output_type": "stream",
     "text": [
      "This file is created to learn File Handling using Python.\n",
      "Hello World!\n",
      "How are you?\n"
     ]
    }
   ],
   "source": [
    "with open(r'C:\\Users\\admin\\Desktop\\py\\16 & 17 sept\\test.txt','r') as file:\n",
    "    content = file.read()\n",
    "    print(content)"
   ]
  },
  {
   "cell_type": "code",
   "execution_count": 17,
   "id": "706e8248-a5d3-43ed-b618-c8327a70f47f",
   "metadata": {},
   "outputs": [
    {
     "name": "stdout",
     "output_type": "stream",
     "text": [
      "Total lines: 3\n",
      "This file is created to learn File Handling using Python.\n",
      "Hello World!\n",
      "How are you?\n"
     ]
    }
   ],
   "source": [
    "with open(r'C:\\Users\\admin\\Desktop\\py\\16 & 17 sept\\test.txt','r') as fp:\n",
    "    lines = list(fp)   # convert file iterator to list\n",
    "    print(\"Total lines:\", len(lines))\n",
    "    \n",
    "    for line in lines:\n",
    "        print(line.strip())"
   ]
  },
  {
   "cell_type": "code",
   "execution_count": 18,
   "id": "afb75f4c-d7b7-435c-ba6f-4649872fe0f4",
   "metadata": {},
   "outputs": [],
   "source": [
    "# Writing a file in Python"
   ]
  },
  {
   "cell_type": "code",
   "execution_count": 19,
   "id": "e8743faf-fd3c-41d1-81ce-2c144afa70fc",
   "metadata": {},
   "outputs": [],
   "source": [
    "# Create a File"
   ]
  },
  {
   "cell_type": "code",
   "execution_count": 20,
   "id": "29f393d3-9bca-4d5e-ae26-fc16e69fa888",
   "metadata": {},
   "outputs": [
    {
     "name": "stdout",
     "output_type": "stream",
     "text": [
      "createed using write mode\n"
     ]
    }
   ],
   "source": [
    "with open('new_write.txt','w') as f:\n",
    "    f.write('createed using write mode')\n",
    "f=open('new_write.txt','r')  \n",
    "print(f.read())"
   ]
  },
  {
   "cell_type": "code",
   "execution_count": 21,
   "id": "1cf77a73-b2a1-4403-a24a-7d307d550448",
   "metadata": {},
   "outputs": [
    {
     "name": "stdout",
     "output_type": "stream",
     "text": [
      "Content appended to the file.\n",
      "Content appended to the file.\n",
      "Content appended to the file.\n",
      "Content appended to the file.\n",
      "Content appended to the file.\n",
      "\n"
     ]
    }
   ],
   "source": [
    "with open(\"new_append.txt\", \"a\") as f:\n",
    "    f.write(\"Content appended to the file.\\n\")\n",
    "f = open(\"new_append.txt\",\"r\")\n",
    "print(f.read())"
   ]
  },
  {
   "cell_type": "code",
   "execution_count": 22,
   "id": "a97467a4-d043-4070-93ec-708424c16616",
   "metadata": {},
   "outputs": [],
   "source": [
    "# Writing to an Existing File"
   ]
  },
  {
   "cell_type": "code",
   "execution_count": 23,
   "id": "93425f54-e332-4529-9b7f-6bcba4045a2c",
   "metadata": {},
   "outputs": [
    {
     "name": "stdout",
     "output_type": "stream",
     "text": [
      "Written to the file.\n"
     ]
    }
   ],
   "source": [
    "with open(\"file1.txt\", \"w\") as f:\n",
    "    f.write(\"Written to the file.\")\n",
    "f = open(\"file1.txt\",\"r\")\n",
    "print(f.read())"
   ]
  },
  {
   "cell_type": "code",
   "execution_count": 24,
   "id": "3bfaad8d-edc6-4e09-8151-89d0ee2e9319",
   "metadata": {},
   "outputs": [
    {
     "name": "stdout",
     "output_type": "stream",
     "text": [
      "Written to the file.This is First line.\n",
      "This is Second line.\n",
      "This is Third line.\n",
      "\n"
     ]
    }
   ],
   "source": [
    "#Writing  multiple line to an existing file using writeline()\n",
    "s = [\"This is First line.\\n\", \"This is Second line.\\n\", \"This is Third line.\\n\"]\n",
    "with open(\"file1.txt\", \"a\") as f: # try\"w\": overwrites and \"a\": appends\n",
    "    f.writelines(s)\n",
    "f = open(\"file1.txt\",\"r\")\n",
    "print(f.read())"
   ]
  },
  {
   "cell_type": "code",
   "execution_count": 25,
   "id": "1f811acc-e9b2-483a-969c-01fd9646c17f",
   "metadata": {},
   "outputs": [
    {
     "name": "stdout",
     "output_type": "stream",
     "text": [
      "\n",
      "Learning append + read with seek() in Python\n",
      "Learning append + read with seek() in Python\n",
      "Success\n"
     ]
    }
   ],
   "source": [
    "data=\"\\nLearning append + read with seek() in Python\"\n",
    "fp=open(\"test.txt\",\"a+\")   # open in append+read mode\n",
    "fp.write(data)                 # write at the END of the file\n",
    "fp.seek(0)                     # move cursor back to START\n",
    "print(fp.read())               # read entire file from beginning\n",
    "fp.close()\n",
    "print(\"Success\")"
   ]
  },
  {
   "cell_type": "markdown",
   "id": "ab90cb54-0aa8-4304-b0d8-52391970fdbb",
   "metadata": {},
   "source": [
    "# Python Errors and Exceptions"
   ]
  },
  {
   "cell_type": "code",
   "execution_count": 26,
   "id": "8139f5ec-5876-4c5d-8132-fac0b21c9182",
   "metadata": {},
   "outputs": [
    {
     "ename": "SyntaxError",
     "evalue": "incomplete input (538985034.py, line 2)",
     "output_type": "error",
     "traceback": [
      "\u001b[1;36m  Cell \u001b[1;32mIn[26], line 2\u001b[1;36m\u001b[0m\n\u001b[1;33m    print(\"Example or python error where function name is wrong\" # syntax is wrong, closing bracket is missing\u001b[0m\n\u001b[1;37m                                                                                                              ^\u001b[0m\n\u001b[1;31mSyntaxError\u001b[0m\u001b[1;31m:\u001b[0m incomplete input\n"
     ]
    }
   ],
   "source": [
    "# Error example 1\n",
    "print(\"Example or python error where function name is wrong\" # syntax is wrong, closing bracket is missing"
   ]
  },
  {
   "cell_type": "code",
   "execution_count": 27,
   "id": "1e11651f-404c-4903-ad67-d8c8be39cb0e",
   "metadata": {},
   "outputs": [
    {
     "ename": "ZeroDivisionError",
     "evalue": "division by zero",
     "output_type": "error",
     "traceback": [
      "\u001b[1;31m---------------------------------------------------------------------------\u001b[0m",
      "\u001b[1;31mZeroDivisionError\u001b[0m                         Traceback (most recent call last)",
      "Cell \u001b[1;32mIn[27], line 3\u001b[0m\n\u001b[0;32m      1\u001b[0m a\u001b[38;5;241m=\u001b[39m\u001b[38;5;241m12\u001b[39m\n\u001b[0;32m      2\u001b[0m b\u001b[38;5;241m=\u001b[39m\u001b[38;5;241m0\u001b[39m\n\u001b[1;32m----> 3\u001b[0m c\u001b[38;5;241m=\u001b[39m\u001b[43ma\u001b[49m\u001b[38;5;241;43m/\u001b[39;49m\u001b[43mb\u001b[49m\n\u001b[0;32m      4\u001b[0m \u001b[38;5;28mprint\u001b[39m(c)\n",
      "\u001b[1;31mZeroDivisionError\u001b[0m: division by zero"
     ]
    }
   ],
   "source": [
    "a=12\n",
    "b=0\n",
    "c=a/b\n",
    "print(c)"
   ]
  },
  {
   "cell_type": "markdown",
   "id": "85baf0e1-751e-41e6-9988-4d3881fa890e",
   "metadata": {},
   "source": [
    "# Exception Handling"
   ]
  },
  {
   "cell_type": "code",
   "execution_count": 28,
   "id": "030be303-25bd-4e28-818d-4ca432981d11",
   "metadata": {},
   "outputs": [
    {
     "name": "stdout",
     "output_type": "stream",
     "text": [
      "Any number can not be divided by zero!\n",
      "Success\n"
     ]
    }
   ],
   "source": [
    "# Handling Exception\n",
    "n=10\n",
    "try:\n",
    "    res=n/0\n",
    "except ZeroDivisionError:\n",
    "    print('Any number can not be divided by zero!')\n",
    "print('Success')    "
   ]
  },
  {
   "cell_type": "code",
   "execution_count": 29,
   "id": "f17a3eb8-3752-433c-804c-b77e6b0fca92",
   "metadata": {},
   "outputs": [
    {
     "ename": "IndexError",
     "evalue": "list index out of range",
     "output_type": "error",
     "traceback": [
      "\u001b[1;31m---------------------------------------------------------------------------\u001b[0m",
      "\u001b[1;31mIndexError\u001b[0m                                Traceback (most recent call last)",
      "Cell \u001b[1;32mIn[29], line 2\u001b[0m\n\u001b[0;32m      1\u001b[0m a\u001b[38;5;241m=\u001b[39m[\u001b[38;5;124m'\u001b[39m\u001b[38;5;124mFood\u001b[39m\u001b[38;5;124m'\u001b[39m,\u001b[38;5;124m'\u001b[39m\u001b[38;5;124mWater\u001b[39m\u001b[38;5;124m'\u001b[39m,\u001b[38;5;124m'\u001b[39m\u001b[38;5;124mMobile\u001b[39m\u001b[38;5;124m'\u001b[39m]\n\u001b[1;32m----> 2\u001b[0m \u001b[38;5;28mprint\u001b[39m(\u001b[43ma\u001b[49m\u001b[43m[\u001b[49m\u001b[38;5;241;43m10\u001b[39;49m\u001b[43m]\u001b[49m)\n",
      "\u001b[1;31mIndexError\u001b[0m: list index out of range"
     ]
    }
   ],
   "source": [
    "a=['Food','Water','Mobile']\n",
    "print(a[10])"
   ]
  },
  {
   "cell_type": "code",
   "execution_count": 30,
   "id": "b3281c03-b6be-464c-93d4-efb08a1e5525",
   "metadata": {},
   "outputs": [
    {
     "name": "stdout",
     "output_type": "stream",
     "text": [
      "Mentioned index is beyond range\n"
     ]
    }
   ],
   "source": [
    "# Handling Exception\n",
    "try:\n",
    "    a=['Food','Water','Mobile']\n",
    "    print(a[10])\n",
    "except:\n",
    "    print('Mentioned index is beyond range')"
   ]
  },
  {
   "cell_type": "code",
   "execution_count": 31,
   "id": "2b4433c0-9a24-4a9e-bcbb-237f7fb53d5f",
   "metadata": {},
   "outputs": [],
   "source": [
    "# finally"
   ]
  },
  {
   "cell_type": "code",
   "execution_count": 32,
   "id": "0a27474b-e1c4-461d-aefb-3bc057f5b7b7",
   "metadata": {},
   "outputs": [
    {
     "name": "stdout",
     "output_type": "stream",
     "text": [
      "Result is 10.0\n",
      "Execution complete.\n"
     ]
    }
   ],
   "source": [
    "try:\n",
    "    n = 10 # try n=0, n=int('abc'), n=10\n",
    "    res = 100 / n\n",
    "except ZeroDivisionError:\n",
    "    print(\"You can't divide by zero!\")\n",
    "except ValueError:\n",
    "    print(\"Enter a valid number!\")\n",
    "else:\n",
    "    print(\"Result is\", res)\n",
    "finally:\n",
    "    print(\"Execution complete.\")"
   ]
  },
  {
   "cell_type": "code",
   "execution_count": 33,
   "id": "a8b6ac67-015d-4dec-85f1-14d1cfd7ae2e",
   "metadata": {},
   "outputs": [
    {
     "name": "stdout",
     "output_type": "stream",
     "text": [
      "You can't divide by zero!\n",
      "Execution complete.\n"
     ]
    }
   ],
   "source": [
    "try:\n",
    "    n = 0 # try n=0, n=int('abc'), n=10\n",
    "    res = 100 / n\n",
    "except ZeroDivisionError:\n",
    "    print(\"You can't divide by zero!\")\n",
    "except ValueError:\n",
    "    print(\"Enter a valid number!\")\n",
    "else:\n",
    "    print(\"Result is\", res)\n",
    "finally:\n",
    "    print(\"Execution complete.\")"
   ]
  },
  {
   "cell_type": "code",
   "execution_count": 34,
   "id": "4aafb433-8224-4d02-a9e9-2bc08818341a",
   "metadata": {},
   "outputs": [
    {
     "name": "stdout",
     "output_type": "stream",
     "text": [
      "Enter a valid number!\n",
      "Execution complete.\n"
     ]
    }
   ],
   "source": [
    "try:\n",
    "    n = int('abc') # try n=0, n=int('abc'), n=0\n",
    "    res = 100 / n\n",
    "except ZeroDivisionError:\n",
    "    print(\"You can't divide by zero!\")\n",
    "except ValueError:\n",
    "    print(\"Enter a valid number!\")\n",
    "else:\n",
    "    print(\"Result is\", res)\n",
    "finally:\n",
    "    print(\"Execution complete.\")"
   ]
  },
  {
   "cell_type": "code",
   "execution_count": 35,
   "id": "edb95c08-f9ce-4e4e-b898-4331469c4542",
   "metadata": {},
   "outputs": [],
   "source": [
    "# Raising Custom Exception"
   ]
  },
  {
   "cell_type": "code",
   "execution_count": 36,
   "id": "6f5c3582-d75c-475a-8e15-351f3eb79916",
   "metadata": {},
   "outputs": [
    {
     "name": "stdout",
     "output_type": "stream",
     "text": [
      "Access granted.\n"
     ]
    }
   ],
   "source": [
    "def check_age(age):\n",
    "    if age < 18:\n",
    "        raise ValueError(\"You must be 18 or older.\")\n",
    "    print(\"Access granted.\")\n",
    "try:\n",
    "    check_age(18) # try 15 or 20\n",
    "except ValueError as e:\n",
    "    print(e)"
   ]
  },
  {
   "cell_type": "code",
   "execution_count": 37,
   "id": "3c3c50a5-2c65-4d0c-a0a8-411c326d13e4",
   "metadata": {},
   "outputs": [],
   "source": [
    "# Assert: is a debudding tool used to test condition"
   ]
  },
  {
   "cell_type": "code",
   "execution_count": 38,
   "id": "e59d03ae-2573-4855-a15b-d6d2fce54d62",
   "metadata": {},
   "outputs": [
    {
     "ename": "AssertionError",
     "evalue": "wrong",
     "output_type": "error",
     "traceback": [
      "\u001b[1;31m---------------------------------------------------------------------------\u001b[0m",
      "\u001b[1;31mAssertionError\u001b[0m                            Traceback (most recent call last)",
      "Cell \u001b[1;32mIn[38], line 2\u001b[0m\n\u001b[0;32m      1\u001b[0m num\u001b[38;5;241m=\u001b[39m\u001b[38;5;241m5\u001b[39m\n\u001b[1;32m----> 2\u001b[0m \u001b[38;5;28;01massert\u001b[39;00m num\u001b[38;5;241m%\u001b[39m\u001b[38;5;241m2\u001b[39m\u001b[38;5;241m==\u001b[39m\u001b[38;5;241m0\u001b[39m,\u001b[38;5;124m'\u001b[39m\u001b[38;5;124mwrong\u001b[39m\u001b[38;5;124m'\u001b[39m\n",
      "\u001b[1;31mAssertionError\u001b[0m: wrong"
     ]
    }
   ],
   "source": [
    "num=5\n",
    "assert num%2==0,'wrong'"
   ]
  },
  {
   "cell_type": "code",
   "execution_count": 39,
   "id": "9cb35f62-6ee9-4253-8f6e-56c5ea2200ad",
   "metadata": {},
   "outputs": [
    {
     "ename": "AssertionError",
     "evalue": "",
     "output_type": "error",
     "traceback": [
      "\u001b[1;31m---------------------------------------------------------------------------\u001b[0m",
      "\u001b[1;31mAssertionError\u001b[0m                            Traceback (most recent call last)",
      "Cell \u001b[1;32mIn[39], line 3\u001b[0m\n\u001b[0;32m      1\u001b[0m \u001b[38;5;66;03m# Writing Error is optional\u001b[39;00m\n\u001b[0;32m      2\u001b[0m num\u001b[38;5;241m=\u001b[39m\u001b[38;5;241m5\u001b[39m\n\u001b[1;32m----> 3\u001b[0m \u001b[38;5;28;01massert\u001b[39;00m num\u001b[38;5;241m%\u001b[39m\u001b[38;5;241m2\u001b[39m\u001b[38;5;241m==\u001b[39m\u001b[38;5;241m0\u001b[39m\n",
      "\u001b[1;31mAssertionError\u001b[0m: "
     ]
    }
   ],
   "source": [
    "# Writing Error is optional\n",
    "num=5\n",
    "assert num%2==0"
   ]
  },
  {
   "cell_type": "code",
   "execution_count": 40,
   "id": "9c1fef3c-feb7-4a17-ab61-d9e3c0f0f835",
   "metadata": {},
   "outputs": [],
   "source": [
    "# Assertion Handling"
   ]
  },
  {
   "cell_type": "code",
   "execution_count": 43,
   "id": "bcb9cba6-dfa6-4843-a381-4cabecb148de",
   "metadata": {},
   "outputs": [
    {
     "name": "stdin",
     "output_type": "stream",
     "text": [
      "Enter an even number:  6\n"
     ]
    },
    {
     "name": "stdout",
     "output_type": "stream",
     "text": [
      "Reciprocal of  6 is:  0.16666666666666666\n"
     ]
    }
   ],
   "source": [
    "# Let us handle above error using exception handling and display reciprocal\n",
    "# program to print the reciprocal of even numbers\n",
    "# i.e. if user enters 6 reciprocal will be 1/6, if 4 entered reciprocal will be 1/4 and so on\n",
    "try:\n",
    "    num = int(input(\"Enter an even number: \"))\n",
    "    assert num % 2 == 0, \"wrong\" # writing error message \"Wrong\" is optional\n",
    "except:\n",
    "    print(num,\"is not an even number!\")\n",
    "else:\n",
    "    reciprocal = 1/num\n",
    "    print(\"Reciprocal of \", num, \"is: \",reciprocal)"
   ]
  },
  {
   "cell_type": "code",
   "execution_count": 45,
   "id": "8bfd3b21-8342-4200-8fc8-cc247b013715",
   "metadata": {},
   "outputs": [
    {
     "name": "stdin",
     "output_type": "stream",
     "text": [
      "Enter a number:  2\n"
     ]
    },
    {
     "name": "stdout",
     "output_type": "stream",
     "text": [
      "Reciprocal is: 0.5\n"
     ]
    }
   ],
   "source": [
    "# example of syntax: assert condition, \" optional error message\"\n",
    "num = int(input(\"Enter a number: \"))\n",
    "# if odd no. is entered error will be raised and optional error msg will be displaye\n",
    "assert num % 2 == 0, \"The number must be even!\" # this is optional msg\n",
    "print(\"Reciprocal is:\", 1/num)"
   ]
  },
  {
   "cell_type": "code",
   "execution_count": 46,
   "id": "62a88db4-25f8-4028-8013-d74a0fa763c8",
   "metadata": {},
   "outputs": [
    {
     "name": "stdin",
     "output_type": "stream",
     "text": [
      "Enter a string:  madam\n"
     ]
    },
    {
     "name": "stdout",
     "output_type": "stream",
     "text": [
      "Palindrome\n"
     ]
    }
   ],
   "source": [
    "# Additional Code\n",
    "name = input(\"Enter a string: \")\n",
    "name=name.lower() # try input as nitin, Madam, Amit\n",
    "#name=name.lower().replace(\" \",\"\") # try input as nurses run\n",
    "if name == name[::-1]:\n",
    "  print(\"Palindrome\")\n",
    "else: \n",
    "  print(\"Not Palindrome\")"
   ]
  }
 ],
 "metadata": {
  "kernelspec": {
   "display_name": "Python 3 (ipykernel)",
   "language": "python",
   "name": "python3"
  },
  "language_info": {
   "codemirror_mode": {
    "name": "ipython",
    "version": 3
   },
   "file_extension": ".py",
   "mimetype": "text/x-python",
   "name": "python",
   "nbconvert_exporter": "python",
   "pygments_lexer": "ipython3",
   "version": "3.12.7"
  }
 },
 "nbformat": 4,
 "nbformat_minor": 5
}
