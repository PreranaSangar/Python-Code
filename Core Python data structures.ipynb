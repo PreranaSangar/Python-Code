{
 "cells": [
  {
   "cell_type": "markdown",
   "id": "150b4eb8-288a-412c-906a-25bfbf5e82ae",
   "metadata": {},
   "source": [
    "# List"
   ]
  },
  {
   "cell_type": "code",
   "execution_count": 1,
   "id": "3889dbfe-b536-4980-9722-0b1fee43b1eb",
   "metadata": {},
   "outputs": [
    {
     "name": "stdout",
     "output_type": "stream",
     "text": [
      "List: ['apple', 'banana', 'mango', 'apple']\n"
     ]
    }
   ],
   "source": [
    "# Creating a list\n",
    "fruits = [\"apple\", \"banana\", \"mango\", \"apple\"]\n",
    "print(\"List:\", fruits)"
   ]
  },
  {
   "cell_type": "code",
   "execution_count": 2,
   "id": "d013cff1-f579-4cd5-8a04-2192dc24bc05",
   "metadata": {},
   "outputs": [
    {
     "name": "stdout",
     "output_type": "stream",
     "text": [
      "First element: apple\n"
     ]
    }
   ],
   "source": [
    "# Access elements\n",
    "print(\"First element:\", fruits[0])"
   ]
  },
  {
   "cell_type": "code",
   "execution_count": 3,
   "id": "02c0c3d8-4826-4e81-bc5d-23aa96b6311e",
   "metadata": {},
   "outputs": [
    {
     "name": "stdout",
     "output_type": "stream",
     "text": [
      "After modification: ['apple', 'orange', 'mango', 'apple']\n"
     ]
    }
   ],
   "source": [
    "# Modify list\n",
    "fruits[1] = \"orange\"\n",
    "print(\"After modification:\", fruits)"
   ]
  },
  {
   "cell_type": "code",
   "execution_count": 4,
   "id": "6c71f481-7bac-4bd1-ad54-8a35908a2e9f",
   "metadata": {},
   "outputs": [
    {
     "name": "stdout",
     "output_type": "stream",
     "text": [
      "After adding: ['apple', 'cherry', 'orange', 'mango', 'apple', 'grape']\n"
     ]
    }
   ],
   "source": [
    "# Add elements\n",
    "fruits.append(\"grape\")        # add at end\n",
    "fruits.insert(1, \"cherry\")    # add at specific position\n",
    "print(\"After adding:\", fruits)"
   ]
  },
  {
   "cell_type": "code",
   "execution_count": 5,
   "id": "b144ad77-52b4-4151-acfa-c49a212452a9",
   "metadata": {},
   "outputs": [
    {
     "name": "stdout",
     "output_type": "stream",
     "text": [
      "After removing: ['cherry', 'orange', 'mango', 'apple']  | Popped: grape\n"
     ]
    }
   ],
   "source": [
    "# Remove elements\n",
    "fruits.remove(\"apple\")   # removes first occurrence\n",
    "popped = fruits.pop()    # removes last element\n",
    "print(\"After removing:\", fruits, \" | Popped:\", popped)"
   ]
  },
  {
   "cell_type": "code",
   "execution_count": 6,
   "id": "2966bf65-1cb9-456c-948d-e534196d27ce",
   "metadata": {},
   "outputs": [
    {
     "name": "stdout",
     "output_type": "stream",
     "text": [
      "Slice [1:3]: ['orange', 'mango']\n"
     ]
    }
   ],
   "source": [
    "# Slicing\n",
    "print(\"Slice [1:3]:\", fruits[1:3])"
   ]
  },
  {
   "cell_type": "code",
   "execution_count": 7,
   "id": "7a309d99-b4c1-46f9-af12-d70320fa6805",
   "metadata": {},
   "outputs": [
    {
     "name": "stdout",
     "output_type": "stream",
     "text": [
      "Fruit: cherry\n",
      "Fruit: orange\n",
      "Fruit: mango\n",
      "Fruit: apple\n"
     ]
    }
   ],
   "source": [
    "# Iterating\n",
    "for f in fruits:\n",
    "    print(\"Fruit:\", f)"
   ]
  },
  {
   "cell_type": "markdown",
   "id": "4718c781-4747-4c29-8536-b8091fd8dd4c",
   "metadata": {},
   "source": [
    "# Tuple"
   ]
  },
  {
   "cell_type": "code",
   "execution_count": 8,
   "id": "4a47494a-99f7-4111-8c21-302c71c63cf2",
   "metadata": {},
   "outputs": [
    {
     "name": "stdout",
     "output_type": "stream",
     "text": [
      "Tuple: (10, 20, 30, 40, 20)\n"
     ]
    }
   ],
   "source": [
    "# Creating tuple\n",
    "numbers = (10, 20, 30, 40, 20)\n",
    "print(\"Tuple:\", numbers)"
   ]
  },
  {
   "cell_type": "code",
   "execution_count": 9,
   "id": "55919604-b447-4b4e-ae49-f0886be0a9dd",
   "metadata": {},
   "outputs": [
    {
     "name": "stdout",
     "output_type": "stream",
     "text": [
      "First element: 10\n"
     ]
    }
   ],
   "source": [
    "# Access elements\n",
    "print(\"First element:\", numbers[0])"
   ]
  },
  {
   "cell_type": "code",
   "execution_count": 10,
   "id": "2b3862f4-51c4-4764-9b5f-092506624948",
   "metadata": {},
   "outputs": [
    {
     "name": "stdout",
     "output_type": "stream",
     "text": [
      "Count of 20: 2\n",
      "Index of 30: 2\n"
     ]
    }
   ],
   "source": [
    "# Count & index\n",
    "print(\"Count of 20:\", numbers.count(20))\n",
    "print(\"Index of 30:\", numbers.index(30))"
   ]
  },
  {
   "cell_type": "code",
   "execution_count": 11,
   "id": "74ad0d3d-fd5a-451d-b3ed-702a83efd42a",
   "metadata": {},
   "outputs": [
    {
     "name": "stdout",
     "output_type": "stream",
     "text": [
      "Nested tuple: (1, (2, 3), (4, 5))\n"
     ]
    }
   ],
   "source": [
    "# Nested tuple\n",
    "nested = (1, (2, 3), (4, 5))\n",
    "print(\"Nested tuple:\", nested)"
   ]
  },
  {
   "cell_type": "markdown",
   "id": "d34252c9-01af-44b2-87e4-e21aadad52b0",
   "metadata": {},
   "source": [
    "# Dictionary"
   ]
  },
  {
   "cell_type": "code",
   "execution_count": 12,
   "id": "133804e2-7e8f-498c-8e9c-1dcd59b899b7",
   "metadata": {},
   "outputs": [
    {
     "name": "stdout",
     "output_type": "stream",
     "text": [
      "Dictionary: {'name': 'Alice', 'age': 24, 'marks': [85, 90, 88]}\n"
     ]
    }
   ],
   "source": [
    "# Creating dictionary\n",
    "student = {\"name\": \"Alice\", \"age\": 24, \"marks\": [85, 90, 88]}\n",
    "print(\"Dictionary:\", student)"
   ]
  },
  {
   "cell_type": "code",
   "execution_count": 13,
   "id": "619fcc63-f026-47d8-b631-bae96fae0d7e",
   "metadata": {},
   "outputs": [
    {
     "name": "stdout",
     "output_type": "stream",
     "text": [
      "Name: Alice\n",
      "Age: 24\n"
     ]
    }
   ],
   "source": [
    "# Access values\n",
    "print(\"Name:\", student[\"name\"])\n",
    "print(\"Age:\", student.get(\"age\"))"
   ]
  },
  {
   "cell_type": "code",
   "execution_count": 14,
   "id": "057d0e61-dc52-4aeb-ad0a-62f0a2791b0d",
   "metadata": {},
   "outputs": [
    {
     "name": "stdout",
     "output_type": "stream",
     "text": [
      "After update: {'name': 'Alice', 'age': 25, 'marks': [85, 90, 88], 'city': 'Pune'}\n"
     ]
    }
   ],
   "source": [
    "# Add/Update values\n",
    "student[\"age\"] = 25\n",
    "student[\"city\"] = \"Pune\"\n",
    "print(\"After update:\", student)"
   ]
  },
  {
   "cell_type": "code",
   "execution_count": 15,
   "id": "141bf097-1e87-436b-893d-1fa612383640",
   "metadata": {},
   "outputs": [
    {
     "name": "stdout",
     "output_type": "stream",
     "text": [
      "After pop: {'name': 'Alice', 'age': 25, 'city': 'Pune'}\n"
     ]
    }
   ],
   "source": [
    "# Remove key-value pair\n",
    "student.pop(\"marks\")\n",
    "print(\"After pop:\", student)"
   ]
  },
  {
   "cell_type": "code",
   "execution_count": 16,
   "id": "181ca385-f746-4794-914d-2587f4f8ad02",
   "metadata": {},
   "outputs": [
    {
     "name": "stdout",
     "output_type": "stream",
     "text": [
      "name : Alice\n",
      "age : 25\n",
      "city : Pune\n"
     ]
    }
   ],
   "source": [
    "# Loop through dict\n",
    "for key, value in student.items():\n",
    "    print(key, \":\", value)"
   ]
  },
  {
   "cell_type": "code",
   "execution_count": 17,
   "id": "6af0ae50-0ca1-41f4-bbd0-dbf16f15ea2c",
   "metadata": {},
   "outputs": [
    {
     "name": "stdout",
     "output_type": "stream",
     "text": [
      "Keys: dict_keys(['name', 'age', 'city'])\n",
      "Values: dict_values(['Alice', 25, 'Pune'])\n"
     ]
    }
   ],
   "source": [
    "# Dictionary keys, values\n",
    "print(\"Keys:\", student.keys())\n",
    "print(\"Values:\", student.values())"
   ]
  },
  {
   "cell_type": "markdown",
   "id": "a444db2a-46cd-404c-b31f-1eb467d31f16",
   "metadata": {},
   "source": [
    "# Set"
   ]
  },
  {
   "cell_type": "code",
   "execution_count": 18,
   "id": "e203f19f-73a0-4cc6-a536-5f0ca067c81a",
   "metadata": {},
   "outputs": [
    {
     "name": "stdout",
     "output_type": "stream",
     "text": [
      "Set: {40, 10, 20, 30}\n"
     ]
    }
   ],
   "source": [
    "# Creating sets\n",
    "s = {10, 20, 30, 20, 40}\n",
    "print(\"Set:\", s)   # duplicates removed automatically"
   ]
  },
  {
   "cell_type": "code",
   "execution_count": 19,
   "id": "c7f7922a-2902-4ed2-862c-b0511d54158b",
   "metadata": {},
   "outputs": [
    {
     "name": "stdout",
     "output_type": "stream",
     "text": [
      "After add: {40, 10, 50, 20, 30}\n"
     ]
    }
   ],
   "source": [
    "# Add elements\n",
    "s.add(50)\n",
    "print(\"After add:\", s)"
   ]
  },
  {
   "cell_type": "code",
   "execution_count": 20,
   "id": "12ad47ed-27b2-4916-8ae5-56f5f6e54f23",
   "metadata": {},
   "outputs": [
    {
     "name": "stdout",
     "output_type": "stream",
     "text": [
      "After remove: {40, 10, 50, 30}\n"
     ]
    }
   ],
   "source": [
    "# Remove elements\n",
    "s.remove(20)\n",
    "print(\"After remove:\", s)"
   ]
  },
  {
   "cell_type": "code",
   "execution_count": 21,
   "id": "d38d3470-df6d-4079-ad5c-1472a093e50a",
   "metadata": {},
   "outputs": [],
   "source": [
    "# Set operations\n",
    "a = {1, 2, 3, 4}\n",
    "b = {3, 4, 5, 6}"
   ]
  },
  {
   "cell_type": "code",
   "execution_count": 22,
   "id": "5266216d-43aa-43a6-a800-6f34fcdbafd4",
   "metadata": {},
   "outputs": [
    {
     "name": "stdout",
     "output_type": "stream",
     "text": [
      "Union: {1, 2, 3, 4, 5, 6}\n",
      "Intersection: {3, 4}\n",
      "Difference (a-b): {1, 2}\n",
      "Symmetric Difference: {1, 2, 5, 6}\n"
     ]
    }
   ],
   "source": [
    "print(\"Union:\", a | b)\n",
    "print(\"Intersection:\", a & b)\n",
    "print(\"Difference (a-b):\", a - b)\n",
    "print(\"Symmetric Difference:\", a ^ b)"
   ]
  }
 ],
 "metadata": {
  "kernelspec": {
   "display_name": "Python 3 (ipykernel)",
   "language": "python",
   "name": "python3"
  },
  "language_info": {
   "codemirror_mode": {
    "name": "ipython",
    "version": 3
   },
   "file_extension": ".py",
   "mimetype": "text/x-python",
   "name": "python",
   "nbconvert_exporter": "python",
   "pygments_lexer": "ipython3",
   "version": "3.12.7"
  }
 },
 "nbformat": 4,
 "nbformat_minor": 5
}
