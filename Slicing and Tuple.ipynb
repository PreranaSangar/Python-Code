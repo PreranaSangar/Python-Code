{
 "cells": [
  {
   "cell_type": "markdown",
   "id": "8be99bdd-d150-40e4-bca9-0e0a61c43857",
   "metadata": {},
   "source": [
    "# Slicing"
   ]
  },
  {
   "cell_type": "code",
   "execution_count": 1,
   "id": "500539b1-a8e0-44f7-a979-9f71ecbc523d",
   "metadata": {},
   "outputs": [],
   "source": [
    "# WAP to calulate the sum of Natural Numbers"
   ]
  },
  {
   "cell_type": "code",
   "execution_count": 2,
   "id": "78af22dd-1c3f-48b7-877c-a83884c7be95",
   "metadata": {},
   "outputs": [
    {
     "name": "stdin",
     "output_type": "stream",
     "text": [
      "Enter the start point: 9\n"
     ]
    },
    {
     "name": "stdout",
     "output_type": "stream",
     "text": [
      "sum of Natural Number: 45\n"
     ]
    }
   ],
   "source": [
    "num=int(input('Enter the start point:'))\n",
    "i=1\n",
    "sum=0\n",
    "while i<=num:\n",
    "    sum+=i\n",
    "    i+=1\n",
    "print('sum of Natural Number:',sum)    "
   ]
  },
  {
   "cell_type": "code",
   "execution_count": 3,
   "id": "69741ed6-9ba0-492d-9d3a-42f328ddf9e0",
   "metadata": {},
   "outputs": [
    {
     "name": "stdin",
     "output_type": "stream",
     "text": [
      "Enter the end point:  9\n"
     ]
    },
    {
     "name": "stdout",
     "output_type": "stream",
     "text": [
      "45\n"
     ]
    }
   ],
   "source": [
    "num = int(input('Enter the end point: '))\n",
    "sum = 0\n",
    "for i in range(1, num+1):\n",
    "    sum += i   # accumulate sum\n",
    "print(sum)"
   ]
  },
  {
   "cell_type": "code",
   "execution_count": 4,
   "id": "947ab9a2-7c26-4fae-9d19-d6f042489024",
   "metadata": {},
   "outputs": [
    {
     "data": {
      "text/plain": [
       "['Mango', 'Apple', 'Banana', 'Pineapple', 'Custard Apple', 'Strawberry']"
      ]
     },
     "execution_count": 4,
     "metadata": {},
     "output_type": "execute_result"
    }
   ],
   "source": [
    "list3=['Mango','Apple','Banana','Pineapple','Custard Apple','Strawberry']\n",
    "list3"
   ]
  },
  {
   "cell_type": "code",
   "execution_count": 5,
   "id": "e1173365-c413-4dd9-8c63-a7927ce0ce7e",
   "metadata": {},
   "outputs": [
    {
     "data": {
      "text/plain": [
       "['Apple', 'Banana']"
      ]
     },
     "execution_count": 5,
     "metadata": {},
     "output_type": "execute_result"
    }
   ],
   "source": [
    "#Slicing\n",
    "list3[1:3]"
   ]
  },
  {
   "cell_type": "code",
   "execution_count": 6,
   "id": "d65fbf81-ed42-4aee-becf-190d38925475",
   "metadata": {},
   "outputs": [
    {
     "data": {
      "text/plain": [
       "['Apple', 'Banana', 'Pineapple', 'Custard Apple', 'Strawberry']"
      ]
     },
     "execution_count": 6,
     "metadata": {},
     "output_type": "execute_result"
    }
   ],
   "source": [
    "list3[1:]"
   ]
  },
  {
   "cell_type": "code",
   "execution_count": 7,
   "id": "f718aa5e-d384-4377-8040-494794c2a592",
   "metadata": {},
   "outputs": [
    {
     "data": {
      "text/plain": [
       "['Mango', 'Apple', 'Banana', 'Pineapple']"
      ]
     },
     "execution_count": 7,
     "metadata": {},
     "output_type": "execute_result"
    }
   ],
   "source": [
    "list3[:4]"
   ]
  },
  {
   "cell_type": "code",
   "execution_count": 8,
   "id": "8e82c97c-970c-4082-8184-3fefe5fad538",
   "metadata": {},
   "outputs": [
    {
     "data": {
      "text/plain": [
       "['Banana', 'Apple', 'Mango']"
      ]
     },
     "execution_count": 8,
     "metadata": {},
     "output_type": "execute_result"
    }
   ],
   "source": [
    "list3[-4::-1] #start,end,step"
   ]
  },
  {
   "cell_type": "code",
   "execution_count": 9,
   "id": "0d5bb9a1-eda5-4bc4-9bbe-7ab311b20261",
   "metadata": {},
   "outputs": [
    {
     "data": {
      "text/plain": [
       "['Strawberry', 'Pineapple', 'Apple']"
      ]
     },
     "execution_count": 9,
     "metadata": {},
     "output_type": "execute_result"
    }
   ],
   "source": [
    "list3[-1::-2]"
   ]
  },
  {
   "cell_type": "code",
   "execution_count": 10,
   "id": "65488962-7cab-42f7-926f-16ba1825a1ca",
   "metadata": {},
   "outputs": [
    {
     "name": "stdout",
     "output_type": "stream",
     "text": [
      "['Mango', 'Apple', 'Banana', 'Pineapple', 'Custard Apple', 'Strawberry']\n"
     ]
    },
    {
     "data": {
      "text/plain": [
       "['Mango', 'Banana', 'Custard Apple']"
      ]
     },
     "execution_count": 10,
     "metadata": {},
     "output_type": "execute_result"
    }
   ],
   "source": [
    "print(list3)\n",
    "list3[::2] # 0,2,4"
   ]
  },
  {
   "cell_type": "code",
   "execution_count": 11,
   "id": "213b4b4f-9f31-4948-813f-87c54c664ff0",
   "metadata": {},
   "outputs": [
    {
     "name": "stdout",
     "output_type": "stream",
     "text": [
      "[1, 2, 3, 4, 5, 6, 7, 8, 9, 10, 11, 12, 13, 14, 15, 16, 17, 18, 19, 20, 21, 22, 23, 24, 25, 26, 27, 28, 29, 30]\n"
     ]
    }
   ],
   "source": [
    "n1=list(range(1,31))\n",
    "print(n1)"
   ]
  },
  {
   "cell_type": "code",
   "execution_count": 12,
   "id": "1326899d-d0d8-422b-ac36-d69546b0d4e0",
   "metadata": {},
   "outputs": [
    {
     "data": {
      "text/plain": [
       "[1, 5, 9, 13, 17, 21, 25, 29]"
      ]
     },
     "execution_count": 12,
     "metadata": {},
     "output_type": "execute_result"
    }
   ],
   "source": [
    "n1[::4]"
   ]
  },
  {
   "cell_type": "code",
   "execution_count": 13,
   "id": "a6b60986-1a88-425f-9c4a-5a5f8ba91ed3",
   "metadata": {},
   "outputs": [
    {
     "data": {
      "text/plain": [
       "[3, 8, 13, 18, 23]"
      ]
     },
     "execution_count": 13,
     "metadata": {},
     "output_type": "execute_result"
    }
   ],
   "source": [
    "n1[2:27:5]"
   ]
  },
  {
   "cell_type": "code",
   "execution_count": 14,
   "id": "e179e95e-e28f-4505-9269-1fa831cdb8ff",
   "metadata": {},
   "outputs": [
    {
     "name": "stdout",
     "output_type": "stream",
     "text": [
      "['Mango', 'Apple', 'Banana', 'Pineapple', 'Custard Apple', 'Strawberry']\n"
     ]
    }
   ],
   "source": [
    "print(list3)"
   ]
  },
  {
   "cell_type": "code",
   "execution_count": 15,
   "id": "baf25941-2dd6-4e81-8f36-282e07743f55",
   "metadata": {},
   "outputs": [
    {
     "data": {
      "text/plain": [
       "['Strawberry', 'Custard Apple', 'Pineapple', 'Banana', 'Apple', 'Mango']"
      ]
     },
     "execution_count": 15,
     "metadata": {},
     "output_type": "execute_result"
    }
   ],
   "source": [
    "list3[::-1]"
   ]
  },
  {
   "cell_type": "code",
   "execution_count": 16,
   "id": "fe4fccfb-d0fc-49e6-94e9-64e11d6683e3",
   "metadata": {},
   "outputs": [
    {
     "data": {
      "text/plain": [
       "['Strawberry', 'Pineapple', 'Apple']"
      ]
     },
     "execution_count": 16,
     "metadata": {},
     "output_type": "execute_result"
    }
   ],
   "source": [
    "list3[::-2]"
   ]
  },
  {
   "cell_type": "code",
   "execution_count": 17,
   "id": "9c171580-7591-4e2f-bf1a-12b8ea67d2d3",
   "metadata": {},
   "outputs": [
    {
     "data": {
      "text/plain": [
       "True"
      ]
     },
     "execution_count": 17,
     "metadata": {},
     "output_type": "execute_result"
    }
   ],
   "source": [
    "# use of IN for checkinf subsrting \n",
    "'the' in 'Netherland' "
   ]
  },
  {
   "cell_type": "code",
   "execution_count": 18,
   "id": "f7e6f48a-cf05-40dd-a3ec-c1e015d196ee",
   "metadata": {},
   "outputs": [
    {
     "data": {
      "text/plain": [
       "False"
      ]
     },
     "execution_count": 18,
     "metadata": {},
     "output_type": "execute_result"
    }
   ],
   "source": [
    "'The' in 'Netherland' "
   ]
  },
  {
   "cell_type": "code",
   "execution_count": 19,
   "id": "dbdb0b06-74df-40b1-9110-5bb4fd1206c4",
   "metadata": {},
   "outputs": [
    {
     "data": {
      "text/plain": [
       "True"
      ]
     },
     "execution_count": 19,
     "metadata": {},
     "output_type": "execute_result"
    }
   ],
   "source": [
    "'ther'in 'Netherland' "
   ]
  },
  {
   "cell_type": "code",
   "execution_count": 20,
   "id": "3620a2d6-0630-41a9-af5c-e3efb1a3b107",
   "metadata": {},
   "outputs": [
    {
     "data": {
      "text/plain": [
       "['Mango', 'Apple', 'Banana', 'Pineapple', 'Custard Apple', 'Strawberry']"
      ]
     },
     "execution_count": 20,
     "metadata": {},
     "output_type": "execute_result"
    }
   ],
   "source": [
    "list3"
   ]
  },
  {
   "cell_type": "code",
   "execution_count": 21,
   "id": "46ee68ae-2816-4426-b37b-d2042c33ec44",
   "metadata": {},
   "outputs": [],
   "source": [
    "list3.append('Mulberry')"
   ]
  },
  {
   "cell_type": "code",
   "execution_count": 22,
   "id": "84c6ea42-ec08-42d7-87ac-16c00ed1b306",
   "metadata": {},
   "outputs": [
    {
     "data": {
      "text/plain": [
       "['Mango',\n",
       " 'Apple',\n",
       " 'Banana',\n",
       " 'Pineapple',\n",
       " 'Custard Apple',\n",
       " 'Strawberry',\n",
       " 'Mulberry']"
      ]
     },
     "execution_count": 22,
     "metadata": {},
     "output_type": "execute_result"
    }
   ],
   "source": [
    "list3"
   ]
  },
  {
   "cell_type": "code",
   "execution_count": 23,
   "id": "9bcf0cb8-1214-488e-9126-4fa40bb1f84a",
   "metadata": {},
   "outputs": [
    {
     "name": "stdout",
     "output_type": "stream",
     "text": [
      "Strawberry\n",
      "Mulberry\n"
     ]
    }
   ],
   "source": [
    "# disply fruits which contain sbstring as 'berry' using for loop\n",
    "for fruit in list3:\n",
    "    if 'berry' in fruit:\n",
    "        print(fruit)"
   ]
  },
  {
   "cell_type": "code",
   "execution_count": 24,
   "id": "f2618af9-57e8-49fd-b563-b927e40e316a",
   "metadata": {},
   "outputs": [
    {
     "name": "stdout",
     "output_type": "stream",
     "text": [
      "Apple\n",
      "Pineapple\n",
      "Custard Apple\n"
     ]
    }
   ],
   "source": [
    "# disply fruits which contain sbstring as 'pple' using for loop\n",
    "for fruit in list3:\n",
    "    if 'pple' in fruit:\n",
    "        print(fruit)"
   ]
  },
  {
   "cell_type": "code",
   "execution_count": 25,
   "id": "71fa7d92-bdb7-4582-a20a-4d5cbe01bf63",
   "metadata": {},
   "outputs": [],
   "source": [
    "list3.append('Black berry')"
   ]
  },
  {
   "cell_type": "code",
   "execution_count": 26,
   "id": "bfb89a69-7115-459f-879f-520a20478a9d",
   "metadata": {},
   "outputs": [
    {
     "data": {
      "text/plain": [
       "['Mango',\n",
       " 'Apple',\n",
       " 'Banana',\n",
       " 'Pineapple',\n",
       " 'Custard Apple',\n",
       " 'Strawberry',\n",
       " 'Mulberry',\n",
       " 'Black berry']"
      ]
     },
     "execution_count": 26,
     "metadata": {},
     "output_type": "execute_result"
    }
   ],
   "source": [
    "list3"
   ]
  },
  {
   "cell_type": "code",
   "execution_count": 27,
   "id": "3964d3a8-5865-4370-9420-7d63537ee5ea",
   "metadata": {},
   "outputs": [
    {
     "name": "stdout",
     "output_type": "stream",
     "text": [
      "['Mango', 'Apple', 'Banana', 'Pineapple', 'Custard Apple', 'Strawberry', 'Mulberry', 'Black berry'] [] "
     ]
    }
   ],
   "source": [
    "# create list4 of fruits list3 having only 'berry' as substring and store remaing fruits lists\n",
    "\n",
    "list4=[]\n",
    "list5=[]\n",
    "for fruit in list3:\n",
    "    if 'berry' in fruit:\n",
    "        list4.append(fruit)\n",
    "    else:\n",
    "        list4.append(fruit)\n",
    "print(list4,end=\" \")        \n",
    "print(list5,end=\" \")            "
   ]
  },
  {
   "cell_type": "code",
   "execution_count": 28,
   "id": "16b971e1-6432-4e58-8485-086111445601",
   "metadata": {},
   "outputs": [
    {
     "name": "stdout",
     "output_type": "stream",
     "text": [
      "[2, 3, 4, 5, 6]\n",
      "[4, 9, 16, 25, 36]\n"
     ]
    }
   ],
   "source": [
    "# print square of all numbers of list1 to list2\n",
    "list1=[2,3,4,5,6]\n",
    "list2=[]\n",
    "for i in list1:\n",
    "    list2.append(i**2)\n",
    "print(list1)  \n",
    "print(list2)    "
   ]
  },
  {
   "cell_type": "code",
   "execution_count": 29,
   "id": "9b224461-b312-487e-83a8-1cca924f01c4",
   "metadata": {},
   "outputs": [
    {
     "name": "stdout",
     "output_type": "stream",
     "text": [
      "[2, 3, 4, 5, 6]\n",
      "[4, 9, 16, 25, 36]\n"
     ]
    }
   ],
   "source": [
    "# List comprehension - make your code compact\n",
    "# List comprehension - make your code compact\n",
    "l1 = [2, 3, 4, 5, 6]\n",
    "l2 = [i**2 for i in l1]   # correct syntax\n",
    "\n",
    "print(l1)\n",
    "print(l2)\n"
   ]
  },
  {
   "cell_type": "code",
   "execution_count": 30,
   "id": "38223e2b-f6b4-4370-af4b-7b4dfb244317",
   "metadata": {},
   "outputs": [
    {
     "data": {
      "text/plain": [
       "['Mango',\n",
       " 'Apple',\n",
       " 'Banana',\n",
       " 'Pineapple',\n",
       " 'Custard Apple',\n",
       " 'Strawberry',\n",
       " 'Mulberry',\n",
       " 'Black berry']"
      ]
     },
     "execution_count": 30,
     "metadata": {},
     "output_type": "execute_result"
    }
   ],
   "source": [
    "list3"
   ]
  },
  {
   "cell_type": "code",
   "execution_count": 31,
   "id": "2adc6d8b-ebe1-493e-ba1b-3ed84ca19176",
   "metadata": {},
   "outputs": [],
   "source": [
    "newlist = [fruit for fruit in list3 if \"berry\" in fruit]"
   ]
  },
  {
   "cell_type": "code",
   "execution_count": 32,
   "id": "d099f44f-b8b9-4f56-ba60-d090706de2d7",
   "metadata": {},
   "outputs": [
    {
     "data": {
      "text/plain": [
       "['Strawberry', 'Mulberry', 'Black berry']"
      ]
     },
     "execution_count": 32,
     "metadata": {},
     "output_type": "execute_result"
    }
   ],
   "source": [
    "newlist"
   ]
  },
  {
   "cell_type": "code",
   "execution_count": 33,
   "id": "ee5afb34-5459-4a46-9a60-c0c3c4abe887",
   "metadata": {},
   "outputs": [],
   "source": [
    "newlist = [fruit for fruit in list3 if \"pple\" in fruit]"
   ]
  },
  {
   "cell_type": "code",
   "execution_count": 34,
   "id": "31d079ff-44f5-41fb-93f5-fcab58924012",
   "metadata": {},
   "outputs": [
    {
     "data": {
      "text/plain": [
       "['Apple', 'Pineapple', 'Custard Apple']"
      ]
     },
     "execution_count": 34,
     "metadata": {},
     "output_type": "execute_result"
    }
   ],
   "source": [
    "newlist"
   ]
  },
  {
   "cell_type": "code",
   "execution_count": 35,
   "id": "4adeabcd-0fcd-431b-84c4-a6b4657d1013",
   "metadata": {},
   "outputs": [
    {
     "data": {
      "text/plain": [
       "['Mango',\n",
       " 'Apple',\n",
       " 'Banana',\n",
       " 'Pineapple',\n",
       " 'Custard Apple',\n",
       " 'Strawberry',\n",
       " 'Mulberry',\n",
       " 'Black berry']"
      ]
     },
     "execution_count": 35,
     "metadata": {},
     "output_type": "execute_result"
    }
   ],
   "source": [
    "list3"
   ]
  },
  {
   "cell_type": "code",
   "execution_count": 36,
   "id": "600cfa3a-8422-4f34-aaca-cd8adbc97e23",
   "metadata": {},
   "outputs": [],
   "source": [
    "list3[2]='Orange'"
   ]
  },
  {
   "cell_type": "code",
   "execution_count": 37,
   "id": "6353c9ca-acd0-4d34-a8d3-2c963273fe0a",
   "metadata": {},
   "outputs": [
    {
     "data": {
      "text/plain": [
       "['Mango',\n",
       " 'Apple',\n",
       " 'Orange',\n",
       " 'Pineapple',\n",
       " 'Custard Apple',\n",
       " 'Strawberry',\n",
       " 'Mulberry',\n",
       " 'Black berry']"
      ]
     },
     "execution_count": 37,
     "metadata": {},
     "output_type": "execute_result"
    }
   ],
   "source": [
    "list3"
   ]
  },
  {
   "cell_type": "markdown",
   "id": "f6423884-3769-4b30-9d34-e955685f981a",
   "metadata": {},
   "source": [
    "# Tuple"
   ]
  },
  {
   "cell_type": "code",
   "execution_count": 38,
   "id": "c46f44ee-0f85-472f-81e3-13aeea1ffda4",
   "metadata": {},
   "outputs": [
    {
     "data": {
      "text/plain": [
       "(10, 20, 30, 40, 50)"
      ]
     },
     "execution_count": 38,
     "metadata": {},
     "output_type": "execute_result"
    }
   ],
   "source": [
    "t1=(10,20,30,40,50)\n",
    "t1"
   ]
  },
  {
   "cell_type": "code",
   "execution_count": 39,
   "id": "5a92f83d-ba75-4620-9730-721895d9c26f",
   "metadata": {},
   "outputs": [
    {
     "data": {
      "text/plain": [
       "tuple"
      ]
     },
     "execution_count": 39,
     "metadata": {},
     "output_type": "execute_result"
    }
   ],
   "source": [
    "type(t1)"
   ]
  },
  {
   "cell_type": "code",
   "execution_count": 40,
   "id": "065cf921-0410-48f1-ad42-fc44275a2c64",
   "metadata": {},
   "outputs": [
    {
     "data": {
      "text/plain": [
       "40"
      ]
     },
     "execution_count": 40,
     "metadata": {},
     "output_type": "execute_result"
    }
   ],
   "source": [
    "t1[3]"
   ]
  },
  {
   "cell_type": "code",
   "execution_count": 41,
   "id": "27216e54-a779-4bda-b433-b7e91f0c3b3c",
   "metadata": {},
   "outputs": [
    {
     "ename": "TypeError",
     "evalue": "'tuple' object does not support item assignment",
     "output_type": "error",
     "traceback": [
      "\u001b[1;31m---------------------------------------------------------------------------\u001b[0m",
      "\u001b[1;31mTypeError\u001b[0m                                 Traceback (most recent call last)",
      "Cell \u001b[1;32mIn[41], line 1\u001b[0m\n\u001b[1;32m----> 1\u001b[0m \u001b[43mt1\u001b[49m\u001b[43m[\u001b[49m\u001b[38;5;241;43m0\u001b[39;49m\u001b[43m]\u001b[49m\u001b[38;5;241m=\u001b[39m\u001b[38;5;241m100\u001b[39m\n",
      "\u001b[1;31mTypeError\u001b[0m: 'tuple' object does not support item assignment"
     ]
    }
   ],
   "source": [
    "t1[0]=100"
   ]
  },
  {
   "cell_type": "code",
   "execution_count": 42,
   "id": "90446f3e-b20b-4a42-9520-ae5dab746fda",
   "metadata": {},
   "outputs": [],
   "source": [
    "t3=t1+(6,7,8,9,10) # Concatenate"
   ]
  },
  {
   "cell_type": "code",
   "execution_count": 43,
   "id": "a6920ba2-3180-4fdb-91d1-f2ae5e2fb5d9",
   "metadata": {},
   "outputs": [
    {
     "data": {
      "text/plain": [
       "(10, 20, 30, 40, 50, 6, 7, 8, 9, 10)"
      ]
     },
     "execution_count": 43,
     "metadata": {},
     "output_type": "execute_result"
    }
   ],
   "source": [
    "t3"
   ]
  },
  {
   "cell_type": "code",
   "execution_count": 44,
   "id": "a8d2ddd5-de5e-4435-bc98-d6339033986c",
   "metadata": {},
   "outputs": [
    {
     "data": {
      "text/plain": [
       "10"
      ]
     },
     "execution_count": 44,
     "metadata": {},
     "output_type": "execute_result"
    }
   ],
   "source": [
    "len(t3)"
   ]
  },
  {
   "cell_type": "code",
   "execution_count": 45,
   "id": "6a020ade-dd14-433e-801f-dbb27530f917",
   "metadata": {},
   "outputs": [
    {
     "data": {
      "text/plain": [
       "(10, 20, 30, 40, 50, 10, 20, 30, 40, 50, 10, 20, 30, 40, 50)"
      ]
     },
     "execution_count": 45,
     "metadata": {},
     "output_type": "execute_result"
    }
   ],
   "source": [
    "t1 * 3"
   ]
  },
  {
   "cell_type": "code",
   "execution_count": 46,
   "id": "5aa0315a-88ed-4d18-959a-e824f5a68bed",
   "metadata": {},
   "outputs": [
    {
     "data": {
      "text/plain": [
       "['__add__',\n",
       " '__class__',\n",
       " '__class_getitem__',\n",
       " '__contains__',\n",
       " '__delattr__',\n",
       " '__dir__',\n",
       " '__doc__',\n",
       " '__eq__',\n",
       " '__format__',\n",
       " '__ge__',\n",
       " '__getattribute__',\n",
       " '__getitem__',\n",
       " '__getnewargs__',\n",
       " '__getstate__',\n",
       " '__gt__',\n",
       " '__hash__',\n",
       " '__init__',\n",
       " '__init_subclass__',\n",
       " '__iter__',\n",
       " '__le__',\n",
       " '__len__',\n",
       " '__lt__',\n",
       " '__mul__',\n",
       " '__ne__',\n",
       " '__new__',\n",
       " '__reduce__',\n",
       " '__reduce_ex__',\n",
       " '__repr__',\n",
       " '__rmul__',\n",
       " '__setattr__',\n",
       " '__sizeof__',\n",
       " '__str__',\n",
       " '__subclasshook__',\n",
       " 'count',\n",
       " 'index']"
      ]
     },
     "execution_count": 46,
     "metadata": {},
     "output_type": "execute_result"
    }
   ],
   "source": [
    "dir(tuple)"
   ]
  },
  {
   "cell_type": "code",
   "execution_count": 47,
   "id": "7763e061-527d-443e-a2af-f77e0cc334e0",
   "metadata": {},
   "outputs": [
    {
     "data": {
      "text/plain": [
       "(10, 20, 30, 40, 50)"
      ]
     },
     "execution_count": 47,
     "metadata": {},
     "output_type": "execute_result"
    }
   ],
   "source": [
    "t1"
   ]
  },
  {
   "cell_type": "code",
   "execution_count": 48,
   "id": "49b13aa9-93a5-4cbc-a12a-cf6344286786",
   "metadata": {},
   "outputs": [
    {
     "data": {
      "text/plain": [
       "1"
      ]
     },
     "execution_count": 48,
     "metadata": {},
     "output_type": "execute_result"
    }
   ],
   "source": [
    "t1.count(50)"
   ]
  },
  {
   "cell_type": "code",
   "execution_count": 49,
   "id": "ac138071-f64d-4f8c-af3b-53145c2afcb3",
   "metadata": {},
   "outputs": [
    {
     "data": {
      "text/plain": [
       "4"
      ]
     },
     "execution_count": 49,
     "metadata": {},
     "output_type": "execute_result"
    }
   ],
   "source": [
    "t1.index(50)"
   ]
  },
  {
   "cell_type": "code",
   "execution_count": 50,
   "id": "71106086-ae76-4979-aeba-ba7a44baf8af",
   "metadata": {},
   "outputs": [],
   "source": [
    "t2=(1,1,1,2,2,6,6,6,7,6,6,7)"
   ]
  },
  {
   "cell_type": "code",
   "execution_count": 51,
   "id": "f058265e-eedc-4d84-8743-de3846621e48",
   "metadata": {},
   "outputs": [
    {
     "data": {
      "text/plain": [
       "5"
      ]
     },
     "execution_count": 51,
     "metadata": {},
     "output_type": "execute_result"
    }
   ],
   "source": [
    "t2.index(6) # it gives first occurnce of the elements index "
   ]
  },
  {
   "cell_type": "code",
   "execution_count": 52,
   "id": "0f90667b-7130-45f7-89ed-352997733d35",
   "metadata": {},
   "outputs": [
    {
     "data": {
      "text/plain": [
       "5"
      ]
     },
     "execution_count": 52,
     "metadata": {},
     "output_type": "execute_result"
    }
   ],
   "source": [
    "t2.count(6)"
   ]
  },
  {
   "cell_type": "code",
   "execution_count": 53,
   "id": "eb46d9ce-311e-4ae8-a71c-6557e0829587",
   "metadata": {},
   "outputs": [
    {
     "data": {
      "text/plain": [
       "(10, 20, 30, 40, 50)"
      ]
     },
     "execution_count": 53,
     "metadata": {},
     "output_type": "execute_result"
    }
   ],
   "source": [
    "t1"
   ]
  },
  {
   "cell_type": "code",
   "execution_count": 54,
   "id": "f6743962-7e5f-44c2-8d51-f46caf09d306",
   "metadata": {},
   "outputs": [
    {
     "data": {
      "text/plain": [
       "30"
      ]
     },
     "execution_count": 54,
     "metadata": {},
     "output_type": "execute_result"
    }
   ],
   "source": [
    "t1[2]"
   ]
  },
  {
   "cell_type": "code",
   "execution_count": 55,
   "id": "7679c321-2c94-43e7-bb09-a6c7f29b6036",
   "metadata": {},
   "outputs": [
    {
     "data": {
      "text/plain": [
       "(20, 30, 40)"
      ]
     },
     "execution_count": 55,
     "metadata": {},
     "output_type": "execute_result"
    }
   ],
   "source": [
    "t1[1:4]"
   ]
  },
  {
   "cell_type": "code",
   "execution_count": 56,
   "id": "c9ba5dc3-e41a-4aa7-a76a-905c5f7ca00f",
   "metadata": {},
   "outputs": [
    {
     "data": {
      "text/plain": [
       "(40, 50)"
      ]
     },
     "execution_count": 56,
     "metadata": {},
     "output_type": "execute_result"
    }
   ],
   "source": [
    "t1[3:]"
   ]
  }
 ],
 "metadata": {
  "kernelspec": {
   "display_name": "Python 3 (ipykernel)",
   "language": "python",
   "name": "python3"
  },
  "language_info": {
   "codemirror_mode": {
    "name": "ipython",
    "version": 3
   },
   "file_extension": ".py",
   "mimetype": "text/x-python",
   "name": "python",
   "nbconvert_exporter": "python",
   "pygments_lexer": "ipython3",
   "version": "3.12.7"
  }
 },
 "nbformat": 4,
 "nbformat_minor": 5
}
