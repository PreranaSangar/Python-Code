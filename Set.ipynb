{
 "cells": [
  {
   "cell_type": "markdown",
   "id": "0d7a11f6-bd35-482e-a7c4-28b158a00670",
   "metadata": {},
   "source": [
    "# Set"
   ]
  },
  {
   "cell_type": "code",
   "execution_count": 1,
   "id": "d25ce4f6-a68a-40aa-bc57-76874f8ef3be",
   "metadata": {},
   "outputs": [
    {
     "name": "stdout",
     "output_type": "stream",
     "text": [
      "{1, 2, 3, 4, 5}\n"
     ]
    }
   ],
   "source": [
    "# Create a Set\n",
    "set1={1,2,3,4,5}\n",
    "print(set1)"
   ]
  },
  {
   "cell_type": "code",
   "execution_count": 2,
   "id": "10b9e5ea-ce74-46f4-9531-8d1aab72fd8a",
   "metadata": {},
   "outputs": [
    {
     "data": {
      "text/plain": [
       "{1, 2, 3, 4, 5}"
      ]
     },
     "execution_count": 2,
     "metadata": {},
     "output_type": "execute_result"
    }
   ],
   "source": [
    "# Create a Set using built in Function\n",
    "set([1,2,3,4,5])"
   ]
  },
  {
   "cell_type": "code",
   "execution_count": 3,
   "id": "986275f8-9821-442f-ae1d-53ab39de7c5e",
   "metadata": {},
   "outputs": [],
   "source": [
    "set2=set([1,2,3,4,5])"
   ]
  },
  {
   "cell_type": "code",
   "execution_count": 4,
   "id": "50085c67-478d-4664-af99-aa89f23ce798",
   "metadata": {},
   "outputs": [
    {
     "name": "stdout",
     "output_type": "stream",
     "text": [
      "{1, 2, 3, 4, 5}\n"
     ]
    }
   ],
   "source": [
    "print(set2)"
   ]
  },
  {
   "cell_type": "code",
   "execution_count": 5,
   "id": "6a87ae80-5704-40c3-abde-74b1355a9ba2",
   "metadata": {},
   "outputs": [],
   "source": [
    "set3={1,2,2,3,3,4,5,5} # duplicates will be automatically removed"
   ]
  },
  {
   "cell_type": "code",
   "execution_count": 6,
   "id": "8565e01d-b527-4057-9cda-188bf6419c25",
   "metadata": {},
   "outputs": [
    {
     "data": {
      "text/plain": [
       "{1, 2, 3, 4, 5}"
      ]
     },
     "execution_count": 6,
     "metadata": {},
     "output_type": "execute_result"
    }
   ],
   "source": [
    "set3"
   ]
  },
  {
   "cell_type": "code",
   "execution_count": 7,
   "id": "840bc2e8-1e56-454e-9beb-fe4d72a2cd07",
   "metadata": {},
   "outputs": [],
   "source": [
    "mixed_set={1,'hello',(1,2,3)}"
   ]
  },
  {
   "cell_type": "code",
   "execution_count": 8,
   "id": "6cd8b6b1-5648-47cc-8080-f611afcc5cc4",
   "metadata": {},
   "outputs": [
    {
     "data": {
      "text/plain": [
       "{(1, 2, 3), 1, 'hello'}"
      ]
     },
     "execution_count": 8,
     "metadata": {},
     "output_type": "execute_result"
    }
   ],
   "source": [
    "mixed_set"
   ]
  },
  {
   "cell_type": "code",
   "execution_count": 9,
   "id": "7884d5fb-bd60-41e3-a5af-5521572cb0d8",
   "metadata": {},
   "outputs": [
    {
     "data": {
      "text/plain": [
       "['__and__',\n",
       " '__class__',\n",
       " '__class_getitem__',\n",
       " '__contains__',\n",
       " '__delattr__',\n",
       " '__dir__',\n",
       " '__doc__',\n",
       " '__eq__',\n",
       " '__format__',\n",
       " '__ge__',\n",
       " '__getattribute__',\n",
       " '__getstate__',\n",
       " '__gt__',\n",
       " '__hash__',\n",
       " '__iand__',\n",
       " '__init__',\n",
       " '__init_subclass__',\n",
       " '__ior__',\n",
       " '__isub__',\n",
       " '__iter__',\n",
       " '__ixor__',\n",
       " '__le__',\n",
       " '__len__',\n",
       " '__lt__',\n",
       " '__ne__',\n",
       " '__new__',\n",
       " '__or__',\n",
       " '__rand__',\n",
       " '__reduce__',\n",
       " '__reduce_ex__',\n",
       " '__repr__',\n",
       " '__ror__',\n",
       " '__rsub__',\n",
       " '__rxor__',\n",
       " '__setattr__',\n",
       " '__sizeof__',\n",
       " '__str__',\n",
       " '__sub__',\n",
       " '__subclasshook__',\n",
       " '__xor__',\n",
       " 'add',\n",
       " 'clear',\n",
       " 'copy',\n",
       " 'difference',\n",
       " 'difference_update',\n",
       " 'discard',\n",
       " 'intersection',\n",
       " 'intersection_update',\n",
       " 'isdisjoint',\n",
       " 'issubset',\n",
       " 'issuperset',\n",
       " 'pop',\n",
       " 'remove',\n",
       " 'symmetric_difference',\n",
       " 'symmetric_difference_update',\n",
       " 'union',\n",
       " 'update']"
      ]
     },
     "execution_count": 9,
     "metadata": {},
     "output_type": "execute_result"
    }
   ],
   "source": [
    "dir(set)"
   ]
  },
  {
   "cell_type": "code",
   "execution_count": 10,
   "id": "4bcf4c46-69a6-43ba-8a3e-7c720b801be2",
   "metadata": {},
   "outputs": [],
   "source": [
    "data={12,12,234,56,677,89,45,12}"
   ]
  },
  {
   "cell_type": "code",
   "execution_count": 11,
   "id": "bfde6466-b857-4987-a2f4-bce041a2190d",
   "metadata": {},
   "outputs": [
    {
     "data": {
      "text/plain": [
       "{12, 45, 56, 89, 234, 677}"
      ]
     },
     "execution_count": 11,
     "metadata": {},
     "output_type": "execute_result"
    }
   ],
   "source": [
    "data"
   ]
  },
  {
   "cell_type": "code",
   "execution_count": 12,
   "id": "8d353300-93e7-4431-933d-0cc6f349b66d",
   "metadata": {},
   "outputs": [],
   "source": [
    "# add --- adding single elemnt at a time\n",
    "data.add(12) #  Tf The  element is already present in the set,the set reamins unchanged"
   ]
  },
  {
   "cell_type": "code",
   "execution_count": 13,
   "id": "239c9a1b-15de-417d-906a-da673abd9de7",
   "metadata": {},
   "outputs": [
    {
     "data": {
      "text/plain": [
       "{12, 45, 56, 89, 234, 677}"
      ]
     },
     "execution_count": 13,
     "metadata": {},
     "output_type": "execute_result"
    }
   ],
   "source": [
    "data"
   ]
  },
  {
   "cell_type": "code",
   "execution_count": 14,
   "id": "27690cc0-059d-479d-bf2b-71c68f67bb44",
   "metadata": {},
   "outputs": [],
   "source": [
    "data.add(100)"
   ]
  },
  {
   "cell_type": "code",
   "execution_count": 15,
   "id": "51818b10-389f-447d-b608-9c78bccc4a49",
   "metadata": {},
   "outputs": [
    {
     "data": {
      "text/plain": [
       "{12, 45, 56, 89, 100, 234, 677}"
      ]
     },
     "execution_count": 15,
     "metadata": {},
     "output_type": "execute_result"
    }
   ],
   "source": [
    "data"
   ]
  },
  {
   "cell_type": "code",
   "execution_count": 16,
   "id": "5b143af5-821f-43fa-811a-8a144dc9f8d8",
   "metadata": {},
   "outputs": [],
   "source": [
    "data.add(900)"
   ]
  },
  {
   "cell_type": "code",
   "execution_count": 17,
   "id": "4218727f-0d0e-4cff-a1ac-ea2bd9e8a504",
   "metadata": {},
   "outputs": [
    {
     "data": {
      "text/plain": [
       "{12, 45, 56, 89, 100, 234, 677, 900}"
      ]
     },
     "execution_count": 17,
     "metadata": {},
     "output_type": "execute_result"
    }
   ],
   "source": [
    "data"
   ]
  },
  {
   "cell_type": "code",
   "execution_count": 18,
   "id": "34e3d534-28bf-4b15-aa84-d3f79721ebad",
   "metadata": {},
   "outputs": [],
   "source": [
    "data.add(1000)"
   ]
  },
  {
   "cell_type": "code",
   "execution_count": 19,
   "id": "d43823b4-6b32-48f2-84bd-5cd5a247aca1",
   "metadata": {},
   "outputs": [
    {
     "data": {
      "text/plain": [
       "{12, 45, 56, 89, 100, 234, 677, 900, 1000}"
      ]
     },
     "execution_count": 19,
     "metadata": {},
     "output_type": "execute_result"
    }
   ],
   "source": [
    "data"
   ]
  },
  {
   "cell_type": "code",
   "execution_count": 20,
   "id": "7f6d8ad7-ca59-4698-b7fe-d6acc07d6e70",
   "metadata": {},
   "outputs": [],
   "source": [
    "# updae-- adding multiple elemnt at a time like list or tuple\n",
    "data.update([900,677,12,33,44,55])"
   ]
  },
  {
   "cell_type": "code",
   "execution_count": 21,
   "id": "74af7d30-29ab-4483-b057-958b7bcc8306",
   "metadata": {},
   "outputs": [
    {
     "data": {
      "text/plain": [
       "{12, 33, 44, 45, 55, 56, 89, 100, 234, 677, 900, 1000}"
      ]
     },
     "execution_count": 21,
     "metadata": {},
     "output_type": "execute_result"
    }
   ],
   "source": [
    "data"
   ]
  },
  {
   "cell_type": "code",
   "execution_count": 22,
   "id": "7b499daf-2069-4276-82c6-801fdcfc61de",
   "metadata": {},
   "outputs": [],
   "source": [
    "data.update((1,2,3))"
   ]
  },
  {
   "cell_type": "code",
   "execution_count": 23,
   "id": "9c79e3a6-f69f-42b7-886b-4545090f9797",
   "metadata": {},
   "outputs": [
    {
     "data": {
      "text/plain": [
       "{1, 2, 3, 12, 33, 44, 45, 55, 56, 89, 100, 234, 677, 900, 1000}"
      ]
     },
     "execution_count": 23,
     "metadata": {},
     "output_type": "execute_result"
    }
   ],
   "source": [
    "data"
   ]
  },
  {
   "cell_type": "code",
   "execution_count": 24,
   "id": "2a7a1afa-ae4c-408e-8cda-9db7c291e49e",
   "metadata": {},
   "outputs": [
    {
     "ename": "KeyError",
     "evalue": "990",
     "output_type": "error",
     "traceback": [
      "\u001b[1;31m---------------------------------------------------------------------------\u001b[0m",
      "\u001b[1;31mKeyError\u001b[0m                                  Traceback (most recent call last)",
      "Cell \u001b[1;32mIn[24], line 2\u001b[0m\n\u001b[0;32m      1\u001b[0m \u001b[38;5;66;03m# remove\u001b[39;00m\n\u001b[1;32m----> 2\u001b[0m \u001b[43mdata\u001b[49m\u001b[38;5;241;43m.\u001b[39;49m\u001b[43mremove\u001b[49m\u001b[43m(\u001b[49m\u001b[38;5;241;43m990\u001b[39;49m\u001b[43m)\u001b[49m \u001b[38;5;66;03m# If element is not present error will be raised\u001b[39;00m\n\u001b[0;32m      3\u001b[0m data\n",
      "\u001b[1;31mKeyError\u001b[0m: 990"
     ]
    }
   ],
   "source": [
    "# remove\n",
    "data.remove(990) # If element is not present error will be raised\n",
    "data"
   ]
  },
  {
   "cell_type": "code",
   "execution_count": 25,
   "id": "8601ea82-1ffe-4121-9960-e045cabcc1d9",
   "metadata": {},
   "outputs": [
    {
     "data": {
      "text/plain": [
       "{1, 2, 3, 12, 33, 44, 45, 55, 56, 89, 100, 234, 677, 1000}"
      ]
     },
     "execution_count": 25,
     "metadata": {},
     "output_type": "execute_result"
    }
   ],
   "source": [
    "data.remove(900) \n",
    "data"
   ]
  },
  {
   "cell_type": "code",
   "execution_count": 26,
   "id": "ff0cb121-dd36-4096-8b6c-579a58237fad",
   "metadata": {},
   "outputs": [
    {
     "data": {
      "text/plain": [
       "{1, 2, 3, 12, 33, 44, 45, 55, 56, 89, 100, 234, 1000}"
      ]
     },
     "execution_count": 26,
     "metadata": {},
     "output_type": "execute_result"
    }
   ],
   "source": [
    "data.remove(677) \n",
    "data"
   ]
  },
  {
   "cell_type": "code",
   "execution_count": 27,
   "id": "7c11127c-b276-4ef6-ae0d-cb3c18127598",
   "metadata": {},
   "outputs": [],
   "source": [
    "# Discard\n",
    "data.discard(50) #If element is not present it not give error "
   ]
  },
  {
   "cell_type": "code",
   "execution_count": 28,
   "id": "80247a04-033e-4ed0-813e-5173ddff62df",
   "metadata": {},
   "outputs": [
    {
     "data": {
      "text/plain": [
       "{1, 2, 3, 12, 33, 44, 45, 55, 56, 89, 100, 1000}"
      ]
     },
     "execution_count": 28,
     "metadata": {},
     "output_type": "execute_result"
    }
   ],
   "source": [
    "data.discard(234)\n",
    "data"
   ]
  },
  {
   "cell_type": "code",
   "execution_count": 29,
   "id": "d8600872-7189-47d1-bc38-74d0f7d1cc94",
   "metadata": {},
   "outputs": [],
   "source": [
    " # pop() : Any random element will be removed"
   ]
  },
  {
   "cell_type": "code",
   "execution_count": 30,
   "id": "192131be-22a5-468c-933c-4b0011766b0c",
   "metadata": {},
   "outputs": [
    {
     "data": {
      "text/plain": [
       "{2, 3, 12, 33, 44, 45, 55, 56, 89, 100, 1000}"
      ]
     },
     "execution_count": 30,
     "metadata": {},
     "output_type": "execute_result"
    }
   ],
   "source": [
    "data.pop()\n",
    "data"
   ]
  },
  {
   "cell_type": "code",
   "execution_count": 31,
   "id": "c262bcd7-d998-40d1-ae1a-4e852ee64cc4",
   "metadata": {},
   "outputs": [
    {
     "data": {
      "text/plain": [
       "{3, 12, 33, 44, 45, 55, 56, 89, 100, 1000}"
      ]
     },
     "execution_count": 31,
     "metadata": {},
     "output_type": "execute_result"
    }
   ],
   "source": [
    "data.pop()\n",
    "data"
   ]
  },
  {
   "cell_type": "code",
   "execution_count": 32,
   "id": "812d8e06-da29-4ec8-b2fe-6fcb10cb8a9d",
   "metadata": {},
   "outputs": [
    {
     "data": {
      "text/plain": [
       "{12, 33, 44, 45, 55, 56, 89, 100, 1000}"
      ]
     },
     "execution_count": 32,
     "metadata": {},
     "output_type": "execute_result"
    }
   ],
   "source": [
    "data.pop()\n",
    "data"
   ]
  },
  {
   "cell_type": "code",
   "execution_count": 33,
   "id": "46a2809b-7054-420f-ab2a-98a8fd876b7a",
   "metadata": {},
   "outputs": [],
   "source": [
    "# Clear\n",
    "data.clear()"
   ]
  },
  {
   "cell_type": "code",
   "execution_count": 34,
   "id": "019a5630-ed5f-463d-850d-ae56f055d168",
   "metadata": {},
   "outputs": [
    {
     "data": {
      "text/plain": [
       "set()"
      ]
     },
     "execution_count": 34,
     "metadata": {},
     "output_type": "execute_result"
    }
   ],
   "source": [
    "data"
   ]
  },
  {
   "cell_type": "code",
   "execution_count": 35,
   "id": "bbee2aa8-212f-4b15-ba66-e45a0e3c6c4e",
   "metadata": {},
   "outputs": [],
   "source": [
    "# del"
   ]
  },
  {
   "cell_type": "code",
   "execution_count": 36,
   "id": "8ab707ac-3dbd-4c1b-93e5-7de594fed94e",
   "metadata": {},
   "outputs": [
    {
     "data": {
      "text/plain": [
       "{4, 12, 34, 54, 55, 67, 78, 90}"
      ]
     },
     "execution_count": 36,
     "metadata": {},
     "output_type": "execute_result"
    }
   ],
   "source": [
    "set1={12,34,54,78,90,4,55,67,12}\n",
    "set1"
   ]
  },
  {
   "cell_type": "code",
   "execution_count": 37,
   "id": "5caf56a3-7140-4984-b7a3-597ae92f02fd",
   "metadata": {},
   "outputs": [],
   "source": [
    "del set1 # entire set is deleted it said set will not defined"
   ]
  },
  {
   "cell_type": "code",
   "execution_count": 38,
   "id": "e637c77a-4479-4657-81a0-7b22397f7694",
   "metadata": {},
   "outputs": [],
   "source": [
    "# Membership testing of a particular  elemnt in set"
   ]
  },
  {
   "cell_type": "code",
   "execution_count": 39,
   "id": "5b703550-2f9f-4e9b-a598-a897cdbc98db",
   "metadata": {},
   "outputs": [
    {
     "name": "stdout",
     "output_type": "stream",
     "text": [
      "2 is not present in the set\n"
     ]
    }
   ],
   "source": [
    "my_set={1,2,3,4}\n",
    "if 8 in my_set:\n",
    "    print('2 is present in thr set')\n",
    "else:\n",
    "    print('2 is not present in the set')"
   ]
  }
 ],
 "metadata": {
  "kernelspec": {
   "display_name": "Python 3 (ipykernel)",
   "language": "python",
   "name": "python3"
  },
  "language_info": {
   "codemirror_mode": {
    "name": "ipython",
    "version": 3
   },
   "file_extension": ".py",
   "mimetype": "text/x-python",
   "name": "python",
   "nbconvert_exporter": "python",
   "pygments_lexer": "ipython3",
   "version": "3.12.7"
  }
 },
 "nbformat": 4,
 "nbformat_minor": 5
}
