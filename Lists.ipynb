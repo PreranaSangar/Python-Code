{
 "cells": [
  {
   "cell_type": "markdown",
   "id": "a4fd7063-33a6-4bbf-aebb-d2e8aae6d2ec",
   "metadata": {},
   "source": [
    "# Data Structures"
   ]
  },
  {
   "cell_type": "raw",
   "id": "71e2720a-5cd0-4dc4-960f-ade3a08f1257",
   "metadata": {},
   "source": [
    "1. List"
   ]
  },
  {
   "cell_type": "code",
   "execution_count": 1,
   "id": "f72c9e99-d806-4e9b-9d50-dc2b5a9a7f42",
   "metadata": {},
   "outputs": [
    {
     "data": {
      "text/plain": [
       "[40, 55, 70, 60, 80, 85, 78]"
      ]
     },
     "execution_count": 1,
     "metadata": {},
     "output_type": "execute_result"
    }
   ],
   "source": [
    "marks=[40,55,70,60,80,85,78]\n",
    "marks"
   ]
  },
  {
   "cell_type": "code",
   "execution_count": 2,
   "id": "fe7542ab-f677-488e-8e3b-8566d3efc8d5",
   "metadata": {},
   "outputs": [
    {
     "data": {
      "text/plain": [
       "list"
      ]
     },
     "execution_count": 2,
     "metadata": {},
     "output_type": "execute_result"
    }
   ],
   "source": [
    "type(marks)"
   ]
  },
  {
   "cell_type": "code",
   "execution_count": 3,
   "id": "f8116b8c-fdcb-4db8-bb78-21390fca6ce3",
   "metadata": {},
   "outputs": [
    {
     "data": {
      "text/plain": [
       "list"
      ]
     },
     "execution_count": 3,
     "metadata": {},
     "output_type": "execute_result"
    }
   ],
   "source": [
    "l1=[1.2,1.3,1.4]\n",
    "type(l1)"
   ]
  },
  {
   "cell_type": "code",
   "execution_count": 4,
   "id": "bbbe23f0-ba72-44a4-96a4-43384b921d00",
   "metadata": {},
   "outputs": [
    {
     "data": {
      "text/plain": [
       "['__add__',\n",
       " '__class__',\n",
       " '__class_getitem__',\n",
       " '__contains__',\n",
       " '__delattr__',\n",
       " '__delitem__',\n",
       " '__dir__',\n",
       " '__doc__',\n",
       " '__eq__',\n",
       " '__format__',\n",
       " '__ge__',\n",
       " '__getattribute__',\n",
       " '__getitem__',\n",
       " '__getstate__',\n",
       " '__gt__',\n",
       " '__hash__',\n",
       " '__iadd__',\n",
       " '__imul__',\n",
       " '__init__',\n",
       " '__init_subclass__',\n",
       " '__iter__',\n",
       " '__le__',\n",
       " '__len__',\n",
       " '__lt__',\n",
       " '__mul__',\n",
       " '__ne__',\n",
       " '__new__',\n",
       " '__reduce__',\n",
       " '__reduce_ex__',\n",
       " '__repr__',\n",
       " '__reversed__',\n",
       " '__rmul__',\n",
       " '__setattr__',\n",
       " '__setitem__',\n",
       " '__sizeof__',\n",
       " '__str__',\n",
       " '__subclasshook__',\n",
       " 'append',\n",
       " 'clear',\n",
       " 'copy',\n",
       " 'count',\n",
       " 'extend',\n",
       " 'index',\n",
       " 'insert',\n",
       " 'pop',\n",
       " 'remove',\n",
       " 'reverse',\n",
       " 'sort']"
      ]
     },
     "execution_count": 4,
     "metadata": {},
     "output_type": "execute_result"
    }
   ],
   "source": [
    "dir(list)"
   ]
  },
  {
   "cell_type": "code",
   "execution_count": 5,
   "id": "1d568cf9-1af3-45c5-be33-4a5d79bafad7",
   "metadata": {},
   "outputs": [
    {
     "data": {
      "text/plain": [
       "7"
      ]
     },
     "execution_count": 5,
     "metadata": {},
     "output_type": "execute_result"
    }
   ],
   "source": [
    "len(marks)"
   ]
  },
  {
   "cell_type": "code",
   "execution_count": 6,
   "id": "dc989292-7fa3-4faa-8dc6-3b0ba66ec60e",
   "metadata": {},
   "outputs": [
    {
     "data": {
      "text/plain": [
       "[40, 55, 60, 70, 78, 80, 85]"
      ]
     },
     "execution_count": 6,
     "metadata": {},
     "output_type": "execute_result"
    }
   ],
   "source": [
    "sorted(marks)"
   ]
  },
  {
   "cell_type": "code",
   "execution_count": 7,
   "id": "52ad41c0-1ab2-49f4-ae4c-b768ce15f9ba",
   "metadata": {},
   "outputs": [
    {
     "data": {
      "text/plain": [
       "[40, 55, 70, 60, 80, 85, 78]"
      ]
     },
     "execution_count": 7,
     "metadata": {},
     "output_type": "execute_result"
    }
   ],
   "source": [
    "marks"
   ]
  },
  {
   "cell_type": "code",
   "execution_count": 8,
   "id": "63a0c5b1-4311-4dcc-88c9-3564889273f8",
   "metadata": {},
   "outputs": [
    {
     "data": {
      "text/plain": [
       "[40, 55, 60, 70, 78, 80, 85]"
      ]
     },
     "execution_count": 8,
     "metadata": {},
     "output_type": "execute_result"
    }
   ],
   "source": [
    "marks.sort() #original list is sorted in asending oder by default\n",
    "marks"
   ]
  },
  {
   "cell_type": "code",
   "execution_count": 9,
   "id": "aae348f3-bfe3-422a-824b-c7865133bbf9",
   "metadata": {},
   "outputs": [
    {
     "data": {
      "text/plain": [
       "['e', 'f', 'q', 'u', 'x']"
      ]
     },
     "execution_count": 9,
     "metadata": {},
     "output_type": "execute_result"
    }
   ],
   "source": [
    "name='uxqfe'\n",
    "sorted(name)"
   ]
  },
  {
   "cell_type": "code",
   "execution_count": 10,
   "id": "5bbcd680-aab3-470a-9d1e-f65ef4fc060b",
   "metadata": {},
   "outputs": [
    {
     "data": {
      "text/plain": [
       "['Z', 'e', 'f', 'q', 'u', 'x']"
      ]
     },
     "execution_count": 10,
     "metadata": {},
     "output_type": "execute_result"
    }
   ],
   "source": [
    "name='Zuxqfe'\n",
    "sorted(name) # It wiill sort according to ASCII value so capital X value is smaller"
   ]
  },
  {
   "cell_type": "code",
   "execution_count": 11,
   "id": "2c885b51-9482-4437-9712-614318993a5f",
   "metadata": {},
   "outputs": [],
   "source": [
    "marks.append(35) # It will add the element at the end position"
   ]
  },
  {
   "cell_type": "code",
   "execution_count": 12,
   "id": "6bf010ca-e7b7-442b-9f46-e8c7672d2b60",
   "metadata": {},
   "outputs": [
    {
     "data": {
      "text/plain": [
       "[40, 55, 60, 70, 78, 80, 85, 35]"
      ]
     },
     "execution_count": 12,
     "metadata": {},
     "output_type": "execute_result"
    }
   ],
   "source": [
    "marks"
   ]
  },
  {
   "cell_type": "code",
   "execution_count": 13,
   "id": "bdbc4ac2-9a41-4774-910f-3b22f7d5f615",
   "metadata": {},
   "outputs": [
    {
     "data": {
      "text/plain": [
       "[35, 85, 80, 78, 70, 60, 55, 40]"
      ]
     },
     "execution_count": 13,
     "metadata": {},
     "output_type": "execute_result"
    }
   ],
   "source": [
    "marks.reverse()\n",
    "marks"
   ]
  },
  {
   "cell_type": "code",
   "execution_count": 14,
   "id": "a0143245-37a9-48e0-b9f6-2932de6c69c2",
   "metadata": {},
   "outputs": [],
   "source": [
    "marks2=[42,80,78,70,60,55,40]"
   ]
  },
  {
   "cell_type": "code",
   "execution_count": 15,
   "id": "977308c7-54a2-4d64-a2d0-0ce027488eb7",
   "metadata": {},
   "outputs": [
    {
     "data": {
      "text/plain": [
       "[42, 80, 78, 70, 60, 55, 40]"
      ]
     },
     "execution_count": 15,
     "metadata": {},
     "output_type": "execute_result"
    }
   ],
   "source": [
    "marks2"
   ]
  },
  {
   "cell_type": "code",
   "execution_count": 16,
   "id": "d035f92f-d325-4ee2-a246-e812715f51db",
   "metadata": {},
   "outputs": [
    {
     "data": {
      "text/plain": [
       "[80, 78, 70, 60, 55, 42, 40]"
      ]
     },
     "execution_count": 16,
     "metadata": {},
     "output_type": "execute_result"
    }
   ],
   "source": [
    "marks2.sort(reverse=True) # sorts in descending order when reverse=True\n",
    "marks2"
   ]
  },
  {
   "cell_type": "code",
   "execution_count": 17,
   "id": "def28034-375f-44bc-be95-aa8ec8255eac",
   "metadata": {},
   "outputs": [
    {
     "data": {
      "text/plain": [
       "[80, 78, 70, 60, 55, 42, 40]"
      ]
     },
     "execution_count": 17,
     "metadata": {},
     "output_type": "execute_result"
    }
   ],
   "source": [
    "marks3=[40,60,50,70,80,85]\n",
    "marks3.sort(reverse=False) # sorts in descending order when reverse=False\n",
    "marks2"
   ]
  },
  {
   "cell_type": "code",
   "execution_count": 18,
   "id": "6b8f21d7-967e-4a02-8b6b-fe5838e3db4d",
   "metadata": {},
   "outputs": [
    {
     "data": {
      "text/plain": [
       "[40, 50, 60, 70, 80, 85]"
      ]
     },
     "execution_count": 18,
     "metadata": {},
     "output_type": "execute_result"
    }
   ],
   "source": [
    "marks3"
   ]
  },
  {
   "cell_type": "code",
   "execution_count": 19,
   "id": "56b30a53-447e-4d69-a602-432c15da65d8",
   "metadata": {},
   "outputs": [
    {
     "data": {
      "text/plain": [
       "[40, 50, 95, 60, 70, 80, 85]"
      ]
     },
     "execution_count": 19,
     "metadata": {},
     "output_type": "execute_result"
    }
   ],
   "source": [
    "marks3.insert(2,95) #it insert 95 in index 2 nd\n",
    "marks3"
   ]
  },
  {
   "cell_type": "code",
   "execution_count": 20,
   "id": "f4c6c7ad-12a2-4665-a338-46afe092bebe",
   "metadata": {},
   "outputs": [
    {
     "data": {
      "text/plain": [
       "[35, 85, 80, 78, 70, 60, 55, 40]"
      ]
     },
     "execution_count": 20,
     "metadata": {},
     "output_type": "execute_result"
    }
   ],
   "source": [
    "marks"
   ]
  },
  {
   "cell_type": "code",
   "execution_count": 21,
   "id": "a154a290-00b1-483c-983c-fb184983d08b",
   "metadata": {},
   "outputs": [
    {
     "data": {
      "text/plain": [
       "False"
      ]
     },
     "execution_count": 21,
     "metadata": {},
     "output_type": "execute_result"
    }
   ],
   "source": [
    "90 in marks # it checks 90 is present in list or not .Ifyes itreurns True ,else False"
   ]
  },
  {
   "cell_type": "code",
   "execution_count": 22,
   "id": "ef611d5f-8ab7-48ae-92b8-22895cdf60f3",
   "metadata": {},
   "outputs": [
    {
     "data": {
      "text/plain": [
       "True"
      ]
     },
     "execution_count": 22,
     "metadata": {},
     "output_type": "execute_result"
    }
   ],
   "source": [
    "70 in marks"
   ]
  },
  {
   "cell_type": "code",
   "execution_count": 23,
   "id": "bed795d5-36f8-4af0-ab20-de85a8209a9e",
   "metadata": {},
   "outputs": [
    {
     "data": {
      "text/plain": [
       "[10, 20, 30, 40, 50, 60]"
      ]
     },
     "execution_count": 23,
     "metadata": {},
     "output_type": "execute_result"
    }
   ],
   "source": [
    "list1=[10,20,30]\n",
    "list2=[40,50,60]\n",
    "list1+list2 #concatenation or merging of two lists"
   ]
  },
  {
   "cell_type": "code",
   "execution_count": 24,
   "id": "4e94734c-4735-44a5-bc27-2fa1e701bcf9",
   "metadata": {},
   "outputs": [
    {
     "data": {
      "text/plain": [
       "[10, 20, 30, 40, 50, 60, 10, 20, 30, 40, 50, 60, 10, 20, 30, 40, 50, 60]"
      ]
     },
     "execution_count": 24,
     "metadata": {},
     "output_type": "execute_result"
    }
   ],
   "source": [
    "(list1+list2)*3 #repeats 3 times"
   ]
  },
  {
   "cell_type": "code",
   "execution_count": 25,
   "id": "b08fae18-b2c1-45c6-b8f5-c6170bacd896",
   "metadata": {},
   "outputs": [
    {
     "data": {
      "text/plain": [
       "['pen', 'pencil', 'sharpner']"
      ]
     },
     "execution_count": 25,
     "metadata": {},
     "output_type": "execute_result"
    }
   ],
   "source": [
    "statinary=['pen','pencil','sharpner']\n",
    "statinary"
   ]
  },
  {
   "cell_type": "code",
   "execution_count": 26,
   "id": "8040fb67-84cb-4a03-90b6-4ac3e37e66bf",
   "metadata": {},
   "outputs": [
    {
     "data": {
      "text/plain": [
       "3"
      ]
     },
     "execution_count": 26,
     "metadata": {},
     "output_type": "execute_result"
    }
   ],
   "source": [
    "len(statinary)"
   ]
  },
  {
   "cell_type": "code",
   "execution_count": 27,
   "id": "2422e6a2-4253-4720-867d-9d1bca8e02a9",
   "metadata": {},
   "outputs": [],
   "source": [
    "statinary.append(['nootbook','book'])"
   ]
  },
  {
   "cell_type": "code",
   "execution_count": 28,
   "id": "0512a189-78f0-4eeb-8879-a05eea67ffa1",
   "metadata": {},
   "outputs": [
    {
     "data": {
      "text/plain": [
       "['pen', 'pencil', 'sharpner', ['nootbook', 'book']]"
      ]
     },
     "execution_count": 28,
     "metadata": {},
     "output_type": "execute_result"
    }
   ],
   "source": [
    "statinary"
   ]
  },
  {
   "cell_type": "code",
   "execution_count": 29,
   "id": "b88934ad-6177-4014-b725-bb56185180ad",
   "metadata": {},
   "outputs": [
    {
     "data": {
      "text/plain": [
       "4"
      ]
     },
     "execution_count": 29,
     "metadata": {},
     "output_type": "execute_result"
    }
   ],
   "source": [
    "len(statinary)"
   ]
  },
  {
   "cell_type": "code",
   "execution_count": 30,
   "id": "10100f6e-1c39-4b44-8f89-8e41a435cbb2",
   "metadata": {},
   "outputs": [
    {
     "data": {
      "text/plain": [
       "'pencil'"
      ]
     },
     "execution_count": 30,
     "metadata": {},
     "output_type": "execute_result"
    }
   ],
   "source": [
    "statinary.pop(1) # index 1 element will be removed from list"
   ]
  },
  {
   "cell_type": "code",
   "execution_count": 31,
   "id": "950b33fb-5503-4fb8-b411-ff78c42929ea",
   "metadata": {},
   "outputs": [
    {
     "data": {
      "text/plain": [
       "['pen', 'sharpner', ['nootbook', 'book']]"
      ]
     },
     "execution_count": 31,
     "metadata": {},
     "output_type": "execute_result"
    }
   ],
   "source": [
    "statinary"
   ]
  },
  {
   "cell_type": "code",
   "execution_count": 32,
   "id": "35e509bb-e402-4343-9020-d5f1f5b866d8",
   "metadata": {},
   "outputs": [],
   "source": [
    "# to add multipe item use extend()\n",
    "statinary.extend(['writing_pad','textbook','eraser'])"
   ]
  },
  {
   "cell_type": "code",
   "execution_count": 33,
   "id": "8b74e20d-ceee-41f7-b3e8-ad8df08ab75d",
   "metadata": {},
   "outputs": [
    {
     "data": {
      "text/plain": [
       "['pen', 'sharpner', ['nootbook', 'book'], 'writing_pad', 'textbook', 'eraser']"
      ]
     },
     "execution_count": 33,
     "metadata": {},
     "output_type": "execute_result"
    }
   ],
   "source": [
    "statinary"
   ]
  },
  {
   "cell_type": "code",
   "execution_count": 34,
   "id": "d0fa8a35-e76f-43d3-848f-055be7812be3",
   "metadata": {},
   "outputs": [
    {
     "data": {
      "text/plain": [
       "6"
      ]
     },
     "execution_count": 34,
     "metadata": {},
     "output_type": "execute_result"
    }
   ],
   "source": [
    "len(statinary)"
   ]
  },
  {
   "cell_type": "code",
   "execution_count": 35,
   "id": "98d9e7b0-0502-4b81-a9cd-5354a00f9ec9",
   "metadata": {},
   "outputs": [
    {
     "data": {
      "text/plain": [
       "['pen', 'sharpner', ['nootbook', 'book'], 'writing_pad', 'textbook']"
      ]
     },
     "execution_count": 35,
     "metadata": {},
     "output_type": "execute_result"
    }
   ],
   "source": [
    "statinary.remove('eraser') #will remove mentioned element name from list\n",
    "statinary"
   ]
  },
  {
   "cell_type": "code",
   "execution_count": 36,
   "id": "209155e3-489f-4e59-8fd5-9416b6d20635",
   "metadata": {},
   "outputs": [
    {
     "data": {
      "text/plain": [
       "5"
      ]
     },
     "execution_count": 36,
     "metadata": {},
     "output_type": "execute_result"
    }
   ],
   "source": [
    "len(statinary)"
   ]
  },
  {
   "cell_type": "code",
   "execution_count": 37,
   "id": "aaca692a-41e9-4a63-a5ee-0fd0c6664245",
   "metadata": {},
   "outputs": [
    {
     "data": {
      "text/plain": [
       "4"
      ]
     },
     "execution_count": 37,
     "metadata": {},
     "output_type": "execute_result"
    }
   ],
   "source": [
    "statinary.index('textbook')"
   ]
  },
  {
   "cell_type": "code",
   "execution_count": 38,
   "id": "05912571-8ca7-497d-86fa-9ea4e3dadc45",
   "metadata": {},
   "outputs": [],
   "source": [
    "# Accept a number from the suer,if it is divisible by 7 disply \"You Win\" else display \"Sorry ,try again\""
   ]
  },
  {
   "cell_type": "code",
   "execution_count": 39,
   "id": "8a73238c-6ecf-4177-bd9f-a8640cb7d5c7",
   "metadata": {},
   "outputs": [
    {
     "name": "stdin",
     "output_type": "stream",
     "text": [
      "Enter a number 35\n"
     ]
    },
    {
     "name": "stdout",
     "output_type": "stream",
     "text": [
      "You Win,it divisible by 7\n"
     ]
    }
   ],
   "source": [
    "num=int(input('Enter a number'))\n",
    "if num%7==0:\n",
    "    print('You Win,it divisible by 7')\n",
    "else:\n",
    "    print(\"Sorry, Tru again\")"
   ]
  },
  {
   "cell_type": "markdown",
   "id": "27befd03-9d98-4eb0-bc88-90e15ba398c7",
   "metadata": {},
   "source": [
    "# while loop"
   ]
  },
  {
   "cell_type": "code",
   "execution_count": 40,
   "id": "5503f802-1bbd-4bbe-8087-c95571cea9a7",
   "metadata": {},
   "outputs": [],
   "source": [
    "# while loop: Print Hello for 5 times"
   ]
  },
  {
   "cell_type": "code",
   "execution_count": 41,
   "id": "ef2ab0b1-2ecd-406c-9ef8-527776a62bea",
   "metadata": {},
   "outputs": [
    {
     "name": "stdout",
     "output_type": "stream",
     "text": [
      "Hello\n",
      "Hello\n",
      "Hello\n",
      "Hello\n",
      "Hello\n"
     ]
    }
   ],
   "source": [
    "cnt=1\n",
    "while cnt < 6:\n",
    "    print('Hello')\n",
    "    cnt=cnt + 1"
   ]
  },
  {
   "cell_type": "markdown",
   "id": "16fc0b65-345c-4bca-b060-70ba40699180",
   "metadata": {},
   "source": [
    "# write user defined function"
   ]
  },
  {
   "cell_type": "code",
   "execution_count": 42,
   "id": "a2e21266-44ea-4ef7-bd1b-5df091556e11",
   "metadata": {},
   "outputs": [],
   "source": [
    "# Write a square function\n",
    "\n",
    "#Function Defination\n",
    "def square(x):\n",
    "    return x*x # return x**2"
   ]
  },
  {
   "cell_type": "code",
   "execution_count": 43,
   "id": "eac2d473-feb0-45b7-86c5-4853477a5c8d",
   "metadata": {},
   "outputs": [
    {
     "data": {
      "text/plain": [
       "225"
      ]
     },
     "execution_count": 43,
     "metadata": {},
     "output_type": "execute_result"
    }
   ],
   "source": [
    "# Call a Function\n",
    "square(15)"
   ]
  },
  {
   "cell_type": "code",
   "execution_count": 44,
   "id": "19f88e04-5964-4db4-9011-277701bad683",
   "metadata": {},
   "outputs": [
    {
     "data": {
      "text/plain": [
       "100"
      ]
     },
     "execution_count": 44,
     "metadata": {},
     "output_type": "execute_result"
    }
   ],
   "source": [
    "square(10)"
   ]
  },
  {
   "cell_type": "code",
   "execution_count": 45,
   "id": "121296fa-5302-488b-a26f-dc4f61f585f7",
   "metadata": {},
   "outputs": [],
   "source": [
    "# write a funtion to cal_grade(marks)\n",
    "def cal_grade(marks):\n",
    "    if marks >=80:\n",
    "        result='Diatinction'\n",
    "    elif marks >=60:\n",
    "        result='Fisrt Class' \n",
    "    elif marks >=40:\n",
    "        result='Pass'  \n",
    "    else:\n",
    "        result='Fail'\n",
    "    return result # it should be aligned with if    "
   ]
  },
  {
   "cell_type": "code",
   "execution_count": 46,
   "id": "594eaeb4-ee36-4b99-a5ec-075c830be5e4",
   "metadata": {},
   "outputs": [
    {
     "data": {
      "text/plain": [
       "'Diatinction'"
      ]
     },
     "execution_count": 46,
     "metadata": {},
     "output_type": "execute_result"
    }
   ],
   "source": [
    "cal_grade(87)"
   ]
  },
  {
   "cell_type": "code",
   "execution_count": 47,
   "id": "05dfb799-a73d-4076-841a-4b5087fb1116",
   "metadata": {},
   "outputs": [
    {
     "data": {
      "text/plain": [
       "['Mango', 'Apple', 'Banana', 'Pineapple', 'Custard Apple', 'Strawberry']"
      ]
     },
     "execution_count": 47,
     "metadata": {},
     "output_type": "execute_result"
    }
   ],
   "source": [
    "# List of Strings\n",
    "list3=['Mango','Apple','Banana','Pineapple','Custard Apple','Strawberry']\n",
    "list3"
   ]
  },
  {
   "cell_type": "code",
   "execution_count": 48,
   "id": "161f68cb-590a-487d-96f1-fa3f986aeb39",
   "metadata": {},
   "outputs": [
    {
     "name": "stdout",
     "output_type": "stream",
     "text": [
      "MANGO\n",
      "APPLE\n",
      "BANANA\n",
      "PINEAPPLE\n",
      "CUSTARD APPLE\n",
      "STRAWBERRY\n"
     ]
    }
   ],
   "source": [
    "# Disply fruits by changing case of all fruits to Uppercase\n",
    "for fruit in list3:\n",
    "    print(fruit.upper()) "
   ]
  },
  {
   "cell_type": "code",
   "execution_count": 49,
   "id": "4ad645de-8c6c-4d1d-b626-9d046fe6dc31",
   "metadata": {},
   "outputs": [
    {
     "name": "stdout",
     "output_type": "stream",
     "text": [
      "MANGO APPLE BANANA PINEAPPLE CUSTARD APPLE STRAWBERRY "
     ]
    }
   ],
   "source": [
    "for fruit in list3:\n",
    "    print(fruit.upper(),end=' ') #in singl line : print(fruit.upper(),end=' '"
   ]
  },
  {
   "cell_type": "code",
   "execution_count": 50,
   "id": "7d57bf4f-31f9-4a8e-a79c-4f894cc4976d",
   "metadata": {},
   "outputs": [
    {
     "name": "stdout",
     "output_type": "stream",
     "text": [
      "mANGO aPPLE bANANA pINEAPPLE cUSTARD aPPLE sTRAWBERRY "
     ]
    }
   ],
   "source": [
    "for fruit in list3:\n",
    "    print(fruit.swapcase(),end=' ')"
   ]
  },
  {
   "cell_type": "code",
   "execution_count": 51,
   "id": "701e01e3-4e99-42c6-b32a-fd52ae55ecb7",
   "metadata": {},
   "outputs": [
    {
     "data": {
      "text/plain": [
       "['Mango', 'Apple', 'Banana', 'Pineapple', 'Custard Apple', 'Strawberry']"
      ]
     },
     "execution_count": 51,
     "metadata": {},
     "output_type": "execute_result"
    }
   ],
   "source": [
    "# In python Indexing starts with 0\n",
    "list3"
   ]
  },
  {
   "cell_type": "code",
   "execution_count": 52,
   "id": "6cd0d2cd-4027-4d3e-ba2c-1c8658f2054a",
   "metadata": {},
   "outputs": [
    {
     "data": {
      "text/plain": [
       "'Apple'"
      ]
     },
     "execution_count": 52,
     "metadata": {},
     "output_type": "execute_result"
    }
   ],
   "source": [
    "list3[1]"
   ]
  },
  {
   "cell_type": "code",
   "execution_count": 53,
   "id": "143e12c8-9ffc-4a4a-9d95-d1e4ffcc37cb",
   "metadata": {},
   "outputs": [
    {
     "data": {
      "text/plain": [
       "'Strawberry'"
      ]
     },
     "execution_count": 53,
     "metadata": {},
     "output_type": "execute_result"
    }
   ],
   "source": [
    "list3[5]"
   ]
  },
  {
   "cell_type": "code",
   "execution_count": 54,
   "id": "1b86602c-ea1e-4950-a004-7bc5c0a14fc7",
   "metadata": {},
   "outputs": [
    {
     "data": {
      "text/plain": [
       "1"
      ]
     },
     "execution_count": 54,
     "metadata": {},
     "output_type": "execute_result"
    }
   ],
   "source": [
    "list3.count('Banana')"
   ]
  },
  {
   "cell_type": "code",
   "execution_count": 55,
   "id": "71087612-6e9c-4bc8-99d9-9068d8ebdd54",
   "metadata": {},
   "outputs": [
    {
     "ename": "IndexError",
     "evalue": "list index out of range",
     "output_type": "error",
     "traceback": [
      "\u001b[1;31m---------------------------------------------------------------------------\u001b[0m",
      "\u001b[1;31mIndexError\u001b[0m                                Traceback (most recent call last)",
      "Cell \u001b[1;32mIn[55], line 1\u001b[0m\n\u001b[1;32m----> 1\u001b[0m \u001b[43mlist3\u001b[49m\u001b[43m[\u001b[49m\u001b[38;5;241;43m6\u001b[39;49m\u001b[43m]\u001b[49m \u001b[38;5;66;03m# Raise error as index out of range \u001b[39;00m\n",
      "\u001b[1;31mIndexError\u001b[0m: list index out of range"
     ]
    }
   ],
   "source": [
    "list3[6] # Raise error as index out of range "
   ]
  }
 ],
 "metadata": {
  "kernelspec": {
   "display_name": "Python 3 (ipykernel)",
   "language": "python",
   "name": "python3"
  },
  "language_info": {
   "codemirror_mode": {
    "name": "ipython",
    "version": 3
   },
   "file_extension": ".py",
   "mimetype": "text/x-python",
   "name": "python",
   "nbconvert_exporter": "python",
   "pygments_lexer": "ipython3",
   "version": "3.12.7"
  }
 },
 "nbformat": 4,
 "nbformat_minor": 5
}
