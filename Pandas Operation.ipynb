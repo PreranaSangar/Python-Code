{
 "cells": [
  {
   "cell_type": "code",
   "execution_count": 1,
   "id": "e9048276-e00c-4c6c-aa6a-4a9f6261e7a4",
   "metadata": {},
   "outputs": [],
   "source": [
    "import pandas as pd"
   ]
  },
  {
   "cell_type": "markdown",
   "id": "b6adcdb5-c3ff-49a0-9731-df3c10b82b07",
   "metadata": {},
   "source": [
    "# 1. Create a DataFrame"
   ]
  },
  {
   "cell_type": "code",
   "execution_count": 2,
   "id": "13824010-0e1b-41b9-b5c8-b0b606da0e05",
   "metadata": {},
   "outputs": [
    {
     "name": "stdout",
     "output_type": "stream",
     "text": [
      "Original DataFrame:\n",
      "       Name  Age Department  Salary  Joining_Year\n",
      "0    Alice   24         HR   40000          2021\n",
      "1      Bob   27         IT   50000          2020\n",
      "2  Charlie   22    Finance   45000          2022\n",
      "3    David   32         IT   60000          2019\n",
      "4      Eva   29         HR   52000          2021\n",
      "5    Frank   40    Finance   70000          2018\n"
     ]
    }
   ],
   "source": [
    "data = {\n",
    "    'Name': ['Alice', 'Bob', 'Charlie', 'David', 'Eva', 'Frank'],\n",
    "    'Age': [24, 27, 22, 32, 29, 40],\n",
    "    'Department': ['HR', 'IT', 'Finance', 'IT', 'HR', 'Finance'],\n",
    "    'Salary': [40000, 50000, 45000, 60000, 52000, 70000],\n",
    "    'Joining_Year': [2021, 2020, 2022, 2019, 2021, 2018]\n",
    "}\n",
    "\n",
    "df = pd.DataFrame(data)\n",
    "\n",
    "print(\"Original DataFrame:\\n\", df)"
   ]
  },
  {
   "cell_type": "markdown",
   "id": "05aed8f8-8e1d-4a68-8ec9-ba205e088e8f",
   "metadata": {},
   "source": [
    "# 2. Exploring Data"
   ]
  },
  {
   "cell_type": "code",
   "execution_count": 3,
   "id": "ef863605-1ebc-4b4c-9ed3-b046467cbb5a",
   "metadata": {},
   "outputs": [
    {
     "name": "stdout",
     "output_type": "stream",
     "text": [
      "\n",
      "First 5 rows:\n",
      "       Name  Age Department  Salary  Joining_Year\n",
      "0    Alice   24         HR   40000          2021\n",
      "1      Bob   27         IT   50000          2020\n",
      "2  Charlie   22    Finance   45000          2022\n",
      "3    David   32         IT   60000          2019\n",
      "4      Eva   29         HR   52000          2021\n"
     ]
    }
   ],
   "source": [
    "print(\"\\nFirst 5 rows:\\n\", df.head())"
   ]
  },
  {
   "cell_type": "code",
   "execution_count": 4,
   "id": "f83cbc67-9b28-4b0f-97f3-3fc4b837516d",
   "metadata": {},
   "outputs": [
    {
     "name": "stdout",
     "output_type": "stream",
     "text": [
      "\n",
      "Last 3 rows:\n",
      "     Name  Age Department  Salary  Joining_Year\n",
      "3  David   32         IT   60000          2019\n",
      "4    Eva   29         HR   52000          2021\n",
      "5  Frank   40    Finance   70000          2018\n"
     ]
    }
   ],
   "source": [
    "print(\"\\nLast 3 rows:\\n\", df.tail(3))"
   ]
  },
  {
   "cell_type": "code",
   "execution_count": 5,
   "id": "a26a35f7-4066-4ccb-993c-50955af457a3",
   "metadata": {},
   "outputs": [
    {
     "name": "stdout",
     "output_type": "stream",
     "text": [
      "\n",
      "Shape of DataFrame: (6, 5)\n"
     ]
    }
   ],
   "source": [
    "print(\"\\nShape of DataFrame:\", df.shape)"
   ]
  },
  {
   "cell_type": "code",
   "execution_count": 6,
   "id": "5485480c-e9ed-4667-ba0a-0ab5991415c9",
   "metadata": {},
   "outputs": [
    {
     "name": "stdout",
     "output_type": "stream",
     "text": [
      "\n",
      "Column Names: Index(['Name', 'Age', 'Department', 'Salary', 'Joining_Year'], dtype='object')\n"
     ]
    }
   ],
   "source": [
    "print(\"\\nColumn Names:\", df.columns)"
   ]
  },
  {
   "cell_type": "code",
   "execution_count": 7,
   "id": "b3c6a661-689d-4949-b671-93e68d86b724",
   "metadata": {},
   "outputs": [
    {
     "name": "stdout",
     "output_type": "stream",
     "text": [
      "\n",
      "Data Types:\n",
      " Name            object\n",
      "Age              int64\n",
      "Department      object\n",
      "Salary           int64\n",
      "Joining_Year     int64\n",
      "dtype: object\n"
     ]
    }
   ],
   "source": [
    "print(\"\\nData Types:\\n\", df.dtypes)"
   ]
  },
  {
   "cell_type": "code",
   "execution_count": 8,
   "id": "856abe5c-0e10-4c1e-894e-92cd45875799",
   "metadata": {},
   "outputs": [
    {
     "name": "stdout",
     "output_type": "stream",
     "text": [
      "\n",
      "Info:\n",
      "\n",
      "<class 'pandas.core.frame.DataFrame'>\n",
      "RangeIndex: 6 entries, 0 to 5\n",
      "Data columns (total 5 columns):\n",
      " #   Column        Non-Null Count  Dtype \n",
      "---  ------        --------------  ----- \n",
      " 0   Name          6 non-null      object\n",
      " 1   Age           6 non-null      int64 \n",
      " 2   Department    6 non-null      object\n",
      " 3   Salary        6 non-null      int64 \n",
      " 4   Joining_Year  6 non-null      int64 \n",
      "dtypes: int64(3), object(2)\n",
      "memory usage: 372.0+ bytes\n"
     ]
    }
   ],
   "source": [
    "print(\"\\nInfo:\\n\")\n",
    "df.info()"
   ]
  },
  {
   "cell_type": "code",
   "execution_count": 9,
   "id": "6bdb7afe-a265-4019-833b-c90d6815167e",
   "metadata": {},
   "outputs": [
    {
     "name": "stdout",
     "output_type": "stream",
     "text": [
      "\n",
      "Summary Statistics:\n",
      "              Age        Salary  Joining_Year\n",
      "count   6.000000      6.000000      6.000000\n",
      "mean   29.000000  52833.333333   2020.166667\n",
      "std     6.449806  10778.064143      1.471960\n",
      "min    22.000000  40000.000000   2018.000000\n",
      "25%    24.750000  46250.000000   2019.250000\n",
      "50%    28.000000  51000.000000   2020.500000\n",
      "75%    31.250000  58000.000000   2021.000000\n",
      "max    40.000000  70000.000000   2022.000000\n"
     ]
    }
   ],
   "source": [
    "print(\"\\nSummary Statistics:\\n\", df.describe())"
   ]
  },
  {
   "cell_type": "markdown",
   "id": "46bed7f8-4e4c-4f8a-803e-b4bc1abf72d8",
   "metadata": {},
   "source": [
    "# 3. Selecting Data"
   ]
  },
  {
   "cell_type": "code",
   "execution_count": 10,
   "id": "2e8769b9-6183-4b81-9ca8-2bc993109bd9",
   "metadata": {},
   "outputs": [
    {
     "name": "stdout",
     "output_type": "stream",
     "text": [
      "\n",
      "Age column:\n",
      " 0    24\n",
      "1    27\n",
      "2    22\n",
      "3    32\n",
      "4    29\n",
      "5    40\n",
      "Name: Age, dtype: int64\n"
     ]
    }
   ],
   "source": [
    "print(\"\\nAge column:\\n\", df['Age'])"
   ]
  },
  {
   "cell_type": "code",
   "execution_count": 11,
   "id": "9308c53b-1255-4163-8a07-7913d5bffe9f",
   "metadata": {},
   "outputs": [
    {
     "name": "stdout",
     "output_type": "stream",
     "text": [
      "\n",
      "Name and Salary:\n",
      "       Name  Salary\n",
      "0    Alice   40000\n",
      "1      Bob   50000\n",
      "2  Charlie   45000\n",
      "3    David   60000\n",
      "4      Eva   52000\n",
      "5    Frank   70000\n"
     ]
    }
   ],
   "source": [
    "print(\"\\nName and Salary:\\n\", df[['Name', 'Salary']])"
   ]
  },
  {
   "cell_type": "code",
   "execution_count": 12,
   "id": "b2ee0706-389c-4774-8617-042c4df27bf6",
   "metadata": {},
   "outputs": [
    {
     "name": "stdout",
     "output_type": "stream",
     "text": [
      "\n",
      "First row:\n",
      " Name            Alice\n",
      "Age                24\n",
      "Department         HR\n",
      "Salary          40000\n",
      "Joining_Year     2021\n",
      "Name: 0, dtype: object\n"
     ]
    }
   ],
   "source": [
    "print(\"\\nFirst row:\\n\", df.iloc[0])"
   ]
  },
  {
   "cell_type": "code",
   "execution_count": 13,
   "id": "e253577f-7226-40cc-82bc-0bed5b902510",
   "metadata": {},
   "outputs": [
    {
     "name": "stdout",
     "output_type": "stream",
     "text": [
      "\n",
      "Employee David:\n",
      "     Name  Age Department  Salary  Joining_Year\n",
      "3  David   32         IT   60000          2019\n"
     ]
    }
   ],
   "source": [
    "print(\"\\nEmployee David:\\n\", df.loc[df['Name'] == 'David'])"
   ]
  },
  {
   "cell_type": "markdown",
   "id": "72caee8e-3666-47ad-a1a3-8efd8887485c",
   "metadata": {},
   "source": [
    "# 4. Filtering Rows"
   ]
  },
  {
   "cell_type": "code",
   "execution_count": 14,
   "id": "9bc05ed9-dc1c-4177-a520-b786122c9a29",
   "metadata": {},
   "outputs": [
    {
     "name": "stdout",
     "output_type": "stream",
     "text": [
      "\n",
      "IT Department:\n",
      "     Name  Age Department  Salary  Joining_Year\n",
      "1    Bob   27         IT   50000          2020\n",
      "3  David   32         IT   60000          2019\n"
     ]
    }
   ],
   "source": [
    "print(\"\\nIT Department:\\n\", df[df['Department'] == 'IT'])"
   ]
  },
  {
   "cell_type": "code",
   "execution_count": 15,
   "id": "29424fe9-9de1-426b-8a36-7d062d2e0d8f",
   "metadata": {},
   "outputs": [
    {
     "name": "stdout",
     "output_type": "stream",
     "text": [
      "\n",
      "High Salary Employees:\n",
      "     Name  Age Department  Salary  Joining_Year\n",
      "3  David   32         IT   60000          2019\n",
      "4    Eva   29         HR   52000          2021\n",
      "5  Frank   40    Finance   70000          2018\n"
     ]
    }
   ],
   "source": [
    "print(\"\\nHigh Salary Employees:\\n\", df[df['Salary'] > 50000])"
   ]
  },
  {
   "cell_type": "code",
   "execution_count": 16,
   "id": "f90cbc67-e35e-4c76-ae2b-eef710686a2d",
   "metadata": {},
   "outputs": [
    {
     "name": "stdout",
     "output_type": "stream",
     "text": [
      "\n",
      "IT with Age < 30:\n",
      "   Name  Age Department  Salary  Joining_Year\n",
      "1  Bob   27         IT   50000          2020\n"
     ]
    }
   ],
   "source": [
    "print(\"\\nIT with Age < 30:\\n\", df[(df['Department'] == 'IT') & (df['Age'] < 30)])"
   ]
  },
  {
   "cell_type": "markdown",
   "id": "58df928b-44d9-4105-83b7-543149463bab",
   "metadata": {},
   "source": [
    "# 5. Adding / Modifying Columns"
   ]
  },
  {
   "cell_type": "code",
   "execution_count": 17,
   "id": "732bbd44-c2bb-4dc0-99e0-9e9cdaa4ca0b",
   "metadata": {},
   "outputs": [
    {
     "name": "stdout",
     "output_type": "stream",
     "text": [
      "\n",
      "DataFrame with Bonus:\n",
      "       Name  Age Department  Salary  Joining_Year   Bonus  Total_Salary\n",
      "0    Alice   24         HR   40000          2021  4000.0       44000.0\n",
      "1      Bob   27         IT   50000          2020  5000.0       55000.0\n",
      "2  Charlie   22    Finance   45000          2022  4500.0       49500.0\n",
      "3    David   32         IT   60000          2019  6000.0       66000.0\n",
      "4      Eva   29         HR   52000          2021  5200.0       57200.0\n",
      "5    Frank   40    Finance   70000          2018  7000.0       77000.0\n"
     ]
    }
   ],
   "source": [
    "# New column (Bonus 10% of Salary)\n",
    "df['Bonus'] = df['Salary'] * 0.10\n",
    "\n",
    "# Salary after Bonus\n",
    "df['Total_Salary'] = df['Salary'] + df['Bonus']\n",
    "\n",
    "print(\"\\nDataFrame with Bonus:\\n\", df)\n"
   ]
  },
  {
   "cell_type": "markdown",
   "id": "424e8f8f-6b3f-4eac-98fb-038e002a35cf",
   "metadata": {},
   "source": [
    "# 6. Grouping & Aggregation"
   ]
  },
  {
   "cell_type": "code",
   "execution_count": 18,
   "id": "2a71c25c-bc23-45b5-b73a-a3958508672d",
   "metadata": {},
   "outputs": [
    {
     "name": "stdout",
     "output_type": "stream",
     "text": [
      "\n",
      "Average Salary by Department:\n",
      " Department\n",
      "Finance    57500.0\n",
      "HR         46000.0\n",
      "IT         55000.0\n",
      "Name: Salary, dtype: float64\n"
     ]
    }
   ],
   "source": [
    "print(\"\\nAverage Salary by Department:\\n\", df.groupby('Department')['Salary'].mean())"
   ]
  },
  {
   "cell_type": "code",
   "execution_count": 19,
   "id": "3b44d314-86e7-4214-a019-45bfe29969b6",
   "metadata": {},
   "outputs": [
    {
     "name": "stdout",
     "output_type": "stream",
     "text": [
      "\n",
      "Salary Stats by Department:\n",
      "                mean    min    max  count\n",
      "Department                              \n",
      "Finance     57500.0  45000  70000      2\n",
      "HR          46000.0  40000  52000      2\n",
      "IT          55000.0  50000  60000      2\n"
     ]
    }
   ],
   "source": [
    "print(\"\\nSalary Stats by Department:\\n\", \n",
    "      df.groupby('Department')['Salary'].agg(['mean', 'min', 'max', 'count']))"
   ]
  },
  {
   "cell_type": "markdown",
   "id": "e4d59b51-c008-4937-ab22-f8c303539e73",
   "metadata": {},
   "source": [
    "# 7. Sorting"
   ]
  },
  {
   "cell_type": "code",
   "execution_count": 20,
   "id": "55697bd9-cffc-4874-973e-196a459dff57",
   "metadata": {},
   "outputs": [
    {
     "name": "stdout",
     "output_type": "stream",
     "text": [
      "\n",
      "Sorted by Salary:\n",
      "       Name  Age Department  Salary  Joining_Year   Bonus  Total_Salary\n",
      "5    Frank   40    Finance   70000          2018  7000.0       77000.0\n",
      "3    David   32         IT   60000          2019  6000.0       66000.0\n",
      "4      Eva   29         HR   52000          2021  5200.0       57200.0\n",
      "1      Bob   27         IT   50000          2020  5000.0       55000.0\n",
      "2  Charlie   22    Finance   45000          2022  4500.0       49500.0\n",
      "0    Alice   24         HR   40000          2021  4000.0       44000.0\n"
     ]
    }
   ],
   "source": [
    "# Sort by Salary (descending)\n",
    "print(\"\\nSorted by Salary:\\n\", df.sort_values(by='Salary', ascending=False))"
   ]
  },
  {
   "cell_type": "code",
   "execution_count": 21,
   "id": "238af473-119d-4596-ab03-b1a8c4a61717",
   "metadata": {},
   "outputs": [
    {
     "name": "stdout",
     "output_type": "stream",
     "text": [
      "\n",
      "Sort by Department then Age:\n",
      "       Name  Age Department  Salary  Joining_Year   Bonus  Total_Salary\n",
      "2  Charlie   22    Finance   45000          2022  4500.0       49500.0\n",
      "5    Frank   40    Finance   70000          2018  7000.0       77000.0\n",
      "0    Alice   24         HR   40000          2021  4000.0       44000.0\n",
      "4      Eva   29         HR   52000          2021  5200.0       57200.0\n",
      "1      Bob   27         IT   50000          2020  5000.0       55000.0\n",
      "3    David   32         IT   60000          2019  6000.0       66000.0\n"
     ]
    }
   ],
   "source": [
    "# Sort by multiple columns\n",
    "print(\"\\nSort by Department then Age:\\n\", df.sort_values(by=['Department', 'Age']))"
   ]
  },
  {
   "cell_type": "markdown",
   "id": "93e8ecfa-753b-420e-8054-5219b54a06dd",
   "metadata": {},
   "source": [
    "# 8. Handling Missing Data"
   ]
  },
  {
   "cell_type": "code",
   "execution_count": 22,
   "id": "c1edc0b3-d99f-4b0a-bbea-26bbe661aebe",
   "metadata": {},
   "outputs": [],
   "source": [
    "# Introduce NaN for demo\n",
    "df.loc[2, 'Salary'] = None  "
   ]
  },
  {
   "cell_type": "code",
   "execution_count": 23,
   "id": "8dc09a55-0574-4913-b0f0-78246f885bc5",
   "metadata": {},
   "outputs": [
    {
     "name": "stdout",
     "output_type": "stream",
     "text": [
      "\n",
      "With Missing Value:\n",
      "       Name  Age Department   Salary  Joining_Year   Bonus  Total_Salary\n",
      "0    Alice   24         HR  40000.0          2021  4000.0       44000.0\n",
      "1      Bob   27         IT  50000.0          2020  5000.0       55000.0\n",
      "2  Charlie   22    Finance      NaN          2022  4500.0       49500.0\n",
      "3    David   32         IT  60000.0          2019  6000.0       66000.0\n",
      "4      Eva   29         HR  52000.0          2021  5200.0       57200.0\n",
      "5    Frank   40    Finance  70000.0          2018  7000.0       77000.0\n"
     ]
    }
   ],
   "source": [
    "print(\"\\nWith Missing Value:\\n\", df)"
   ]
  },
  {
   "cell_type": "code",
   "execution_count": 24,
   "id": "d21d6705-b9db-4d2d-b9f0-1233dbbd18cb",
   "metadata": {},
   "outputs": [
    {
     "name": "stdout",
     "output_type": "stream",
     "text": [
      "\n",
      "Drop rows with NaN:\n",
      "     Name  Age Department   Salary  Joining_Year   Bonus  Total_Salary\n",
      "0  Alice   24         HR  40000.0          2021  4000.0       44000.0\n",
      "1    Bob   27         IT  50000.0          2020  5000.0       55000.0\n",
      "3  David   32         IT  60000.0          2019  6000.0       66000.0\n",
      "4    Eva   29         HR  52000.0          2021  5200.0       57200.0\n",
      "5  Frank   40    Finance  70000.0          2018  7000.0       77000.0\n"
     ]
    }
   ],
   "source": [
    "# Drop missing values\n",
    "print(\"\\nDrop rows with NaN:\\n\", df.dropna())"
   ]
  },
  {
   "cell_type": "code",
   "execution_count": 25,
   "id": "74c019fc-eaf3-4db4-a538-190a54c84345",
   "metadata": {},
   "outputs": [
    {
     "name": "stdout",
     "output_type": "stream",
     "text": [
      "\n",
      "Fill NaN with mean Salary:\n",
      "       Name  Age Department   Salary  Joining_Year   Bonus  Total_Salary\n",
      "0    Alice   24         HR  40000.0          2021  4000.0       44000.0\n",
      "1      Bob   27         IT  50000.0          2020  5000.0       55000.0\n",
      "2  Charlie   22    Finance  54400.0          2022  4500.0       49500.0\n",
      "3    David   32         IT  60000.0          2019  6000.0       66000.0\n",
      "4      Eva   29         HR  52000.0          2021  5200.0       57200.0\n",
      "5    Frank   40    Finance  70000.0          2018  7000.0       77000.0\n"
     ]
    }
   ],
   "source": [
    "# Fill missing values\n",
    "df['Salary'] = df['Salary'].fillna(df['Salary'].mean())\n",
    "print(\"\\nFill NaN with mean Salary:\\n\", df)"
   ]
  },
  {
   "cell_type": "markdown",
   "id": "eacb20e4-1e0c-4c3d-bfa1-adf42e814656",
   "metadata": {},
   "source": [
    "# 9. Applying Functions"
   ]
  },
  {
   "cell_type": "code",
   "execution_count": 26,
   "id": "83a0b3ed-285c-4879-95bd-8319ec91f0e0",
   "metadata": {},
   "outputs": [
    {
     "name": "stdout",
     "output_type": "stream",
     "text": [
      "\n",
      "With Age Group:\n",
      "       Name  Age Department   Salary  Joining_Year   Bonus  Total_Salary  \\\n",
      "0    Alice   24         HR  40000.0          2021  4000.0       44000.0   \n",
      "1      Bob   27         IT  50000.0          2020  5000.0       55000.0   \n",
      "2  Charlie   22    Finance  54400.0          2022  4500.0       49500.0   \n",
      "3    David   32         IT  60000.0          2019  6000.0       66000.0   \n",
      "4      Eva   29         HR  52000.0          2021  5200.0       57200.0   \n",
      "5    Frank   40    Finance  70000.0          2018  7000.0       77000.0   \n",
      "\n",
      "  Age_Group  \n",
      "0     Young  \n",
      "1     Young  \n",
      "2     Young  \n",
      "3    Senior  \n",
      "4     Young  \n",
      "5    Senior  \n"
     ]
    }
   ],
   "source": [
    "# Apply custom function (Age group)\n",
    "df['Age_Group'] = df['Age'].apply(lambda x: 'Young' if x < 30 else 'Senior')\n",
    "print(\"\\nWith Age Group:\\n\", df)"
   ]
  },
  {
   "cell_type": "markdown",
   "id": "ef45bfe7-7e5b-4a1f-8c02-b913f825f893",
   "metadata": {},
   "source": [
    "# 10. Merging & Joining DataFrames"
   ]
  },
  {
   "cell_type": "code",
   "execution_count": 27,
   "id": "08ebef1a-0262-4507-8f8e-17fc9b051c0a",
   "metadata": {},
   "outputs": [],
   "source": [
    "# Second dataset\n",
    "dept_info = pd.DataFrame({\n",
    "    'Department': ['HR', 'IT', 'Finance'],\n",
    "    'Manager': ['John', 'Sara', 'Mike']\n",
    "})"
   ]
  },
  {
   "cell_type": "code",
   "execution_count": 28,
   "id": "14e718ee-54cb-459a-aad7-948fef47f473",
   "metadata": {},
   "outputs": [
    {
     "data": {
      "text/html": [
       "<div>\n",
       "<style scoped>\n",
       "    .dataframe tbody tr th:only-of-type {\n",
       "        vertical-align: middle;\n",
       "    }\n",
       "\n",
       "    .dataframe tbody tr th {\n",
       "        vertical-align: top;\n",
       "    }\n",
       "\n",
       "    .dataframe thead th {\n",
       "        text-align: right;\n",
       "    }\n",
       "</style>\n",
       "<table border=\"1\" class=\"dataframe\">\n",
       "  <thead>\n",
       "    <tr style=\"text-align: right;\">\n",
       "      <th></th>\n",
       "      <th>Department</th>\n",
       "      <th>Manager</th>\n",
       "    </tr>\n",
       "  </thead>\n",
       "  <tbody>\n",
       "    <tr>\n",
       "      <th>0</th>\n",
       "      <td>HR</td>\n",
       "      <td>John</td>\n",
       "    </tr>\n",
       "    <tr>\n",
       "      <th>1</th>\n",
       "      <td>IT</td>\n",
       "      <td>Sara</td>\n",
       "    </tr>\n",
       "    <tr>\n",
       "      <th>2</th>\n",
       "      <td>Finance</td>\n",
       "      <td>Mike</td>\n",
       "    </tr>\n",
       "  </tbody>\n",
       "</table>\n",
       "</div>"
      ],
      "text/plain": [
       "  Department Manager\n",
       "0         HR    John\n",
       "1         IT    Sara\n",
       "2    Finance    Mike"
      ]
     },
     "execution_count": 28,
     "metadata": {},
     "output_type": "execute_result"
    }
   ],
   "source": [
    "dept_info"
   ]
  },
  {
   "cell_type": "code",
   "execution_count": 29,
   "id": "cc6ba36a-e058-4127-98af-47a782db9978",
   "metadata": {},
   "outputs": [
    {
     "name": "stdout",
     "output_type": "stream",
     "text": [
      "\n",
      "Merged DataFrame:\n",
      "       Name  Age Department   Salary  Joining_Year   Bonus  Total_Salary  \\\n",
      "0    Alice   24         HR  40000.0          2021  4000.0       44000.0   \n",
      "1      Bob   27         IT  50000.0          2020  5000.0       55000.0   \n",
      "2  Charlie   22    Finance  54400.0          2022  4500.0       49500.0   \n",
      "3    David   32         IT  60000.0          2019  6000.0       66000.0   \n",
      "4      Eva   29         HR  52000.0          2021  5200.0       57200.0   \n",
      "5    Frank   40    Finance  70000.0          2018  7000.0       77000.0   \n",
      "\n",
      "  Age_Group Manager  \n",
      "0     Young    John  \n",
      "1     Young    Sara  \n",
      "2     Young    Mike  \n",
      "3    Senior    Sara  \n",
      "4     Young    John  \n",
      "5    Senior    Mike  \n"
     ]
    }
   ],
   "source": [
    "# Merge on Department\n",
    "merged_df = pd.merge(df, dept_info, on='Department', how='left')\n",
    "print(\"\\nMerged DataFrame:\\n\", merged_df)"
   ]
  },
  {
   "cell_type": "markdown",
   "id": "8f0ca52d-517d-4a9b-9a6c-076ffc0d450d",
   "metadata": {},
   "source": [
    "# 11. Pivot Tables"
   ]
  },
  {
   "cell_type": "code",
   "execution_count": 30,
   "id": "8116447b-6d6e-446e-8ca0-30b611fffa1e",
   "metadata": {},
   "outputs": [
    {
     "name": "stdout",
     "output_type": "stream",
     "text": [
      "\n",
      "Pivot Table:\n",
      " Age_Group    Senior    Young\n",
      "Department                  \n",
      "Finance     70000.0  54400.0\n",
      "HR              NaN  46000.0\n",
      "IT          60000.0  50000.0\n"
     ]
    }
   ],
   "source": [
    "pivot = pd.pivot_table(df, values='Salary', index='Department', columns='Age_Group', aggfunc='mean')\n",
    "print(\"\\nPivot Table:\\n\", pivot)"
   ]
  }
 ],
 "metadata": {
  "kernelspec": {
   "display_name": "Python 3 (ipykernel)",
   "language": "python",
   "name": "python3"
  },
  "language_info": {
   "codemirror_mode": {
    "name": "ipython",
    "version": 3
   },
   "file_extension": ".py",
   "mimetype": "text/x-python",
   "name": "python",
   "nbconvert_exporter": "python",
   "pygments_lexer": "ipython3",
   "version": "3.12.7"
  }
 },
 "nbformat": 4,
 "nbformat_minor": 5
}
